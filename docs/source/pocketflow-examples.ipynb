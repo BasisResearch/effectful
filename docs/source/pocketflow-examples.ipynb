{
 "cells": [
  {
   "cell_type": "code",
   "execution_count": 2,
   "id": "8089a522-7a04-4623-889d-15c3b1b241fa",
   "metadata": {
    "language_info": {
     "name": "polyglot-notebook"
    },
    "polyglot_notebook": {
     "kernelName": "csharp"
    }
   },
   "outputs": [],
   "source": [
    "import openai\n",
    "import os\n",
    "from effectful.handlers.llm import Template\n",
    "from effectful.handlers.llm.providers import OpenAIAPIProvider, tool_call\n",
    "from effectful.handlers.llm.structure import DecodeError, decode\n",
    "from effectful.handlers.llm.synthesis import ProgramSynthesis\n",
    "from effectful.ops.semantics import fwd, handler\n",
    "from effectful.ops.syntax import defop\n",
    "\n",
    "provider = OpenAIAPIProvider(openai.OpenAI(api_key=os.environ['OPENAI_API_KEY']))"
   ]
  },
  {
   "cell_type": "code",
   "execution_count": 3,
   "id": "feb93430",
   "metadata": {
    "language_info": {
     "name": "polyglot-notebook"
    },
    "polyglot_notebook": {
     "kernelName": "csharp"
    }
   },
   "outputs": [],
   "source": [
    "@Template.define\n",
    "def limerick(theme: str) -> str:\n",
    "    \"\"\"Write a limerick on the theme of {theme}\"\"\"\n",
    "    raise NotImplementedError"
   ]
  },
  {
   "cell_type": "code",
   "execution_count": 5,
   "id": "ebe55e9f",
   "metadata": {
    "language_info": {
     "name": "polyglot-notebook"
    },
    "polyglot_notebook": {
     "kernelName": "csharp"
    }
   },
   "outputs": [
    {
     "name": "stdout",
     "output_type": "stream",
     "text": [
      "In computing, precision's a must,  \n",
      "Floating points help numbers adjust.  \n",
      "But just be aware,  \n",
      "Errors can snare,  \n",
      "And algorithms sometimes mistrust.\n"
     ]
    }
   ],
   "source": [
    "with handler(provider):\n",
    "    print(limerick(\"floating point computations\"))"
   ]
  },
  {
   "cell_type": "markdown",
   "id": "421f072f",
   "metadata": {},
   "source": [
    "Now we're going to encode some examples from the pocketflow cookbook into the effectful-llm."
   ]
  },
  {
   "cell_type": "markdown",
   "id": "38691844",
   "metadata": {},
   "source": [
    "### Pocketflow Agent\n",
    "Taken from [here](https://github.com/The-Pocket/PocketFlow/tree/main/cookbook/pocketflow-agent)\n",
    "\n",
    "Idea: a state-machine, with the actions, decide (between searching, answer), search, answer\n",
    "\n",
    "```mermaid\n",
    "stateDiagram-v2\n",
    "    [*] --> Decide\n",
    "    Decide --> Search : search\n",
    "    Decide --> Answer : answer\n",
    "    Search --> Decide\n",
    "    Answer --> [*]\n",
    "```"
   ]
  },
  {
   "cell_type": "markdown",
   "id": "03938d5a",
   "metadata": {},
   "source": [
    "in pocketflow this is encoded using this class node, which states subclass and implement three methods for (`prep`, `exec`, `post`).\n",
    "\n",
    "`prep` - takes information from a shared context\n",
    "`exec` - takes this information and feeds it to an LLM call \n",
    "`post` - stores the LLM call into the shared context, and returns the next action\n",
    "\n",
    "For example:\n",
    "```python\n",
    "class DecideAction(Node):\n",
    "    def prep(self, shared):\n",
    "        context = shared.get('context') or ''\n",
    "        question = shared['question']\n",
    "        return question, context\n",
    "    \n",
    "    def exec(self, inputs):\n",
    "        question, context = inputs\n",
    "        prompt = \"\"\" you are a research assistant that can search the web, ... \"\"\"\n",
    "        res = call_llm(prompt)\n",
    "        return decode(res)\n",
    "    \n",
    "    def post(self, shared, res):\n",
    "        shared['context'] = exec_res['answer']\n",
    "        return result['action']\n",
    "```\n"
   ]
  },
  {
   "cell_type": "markdown",
   "id": "53371f9c",
   "metadata": {},
   "source": [
    "we could encode this in several ways, I'm not sure what is the most convenient. Here's one idealised example:"
   ]
  },
  {
   "cell_type": "code",
   "execution_count": 10,
   "id": "df7660d9",
   "metadata": {},
   "outputs": [],
   "source": [
    "from typing import Annotated\n",
    "\n",
    "class DecideAgent:\n",
    "    \"\"\"\n",
    "    Research Assistant that can search the web.\n",
    "    \"\"\"\n",
    "    question: Annotated[str, \"Question to find an answer to\"]\n",
    "    __actions__ = {\n",
    "       'search': \"SearchAgent\",\n",
    "       'answer': \"AnswerAgent\"\n",
    "    }\n",
    "\n",
    "class SearchAgent:\n",
    "    \"\"\"\n",
    "    Look up more information on the web.\n",
    "    \"\"\"\n",
    "    query: Annotated[str, \"What to search for\"]\n",
    "    __actions__ = {\n",
    "        'decide': DecideAgent,\n",
    "        'answer': \"AnswerAgent\"\n",
    "    }\n",
    "class AnswerAgent:\n",
    "    \"\"\"\n",
    "    Based on the information, answer the question\n",
    "    \"\"\"\n",
    "    question: Annotated[str, \"Question to find the answer to\"]\n",
    "    research: Annotated[str, \"Research that has been done\"]\n"
   ]
  },
  {
   "cell_type": "markdown",
   "id": "25a877cf",
   "metadata": {},
   "source": [
    "### PocketFlow Async Basic example\n",
    "Taken from [here](https://github.com/The-Pocket/PocketFlow/tree/main/cookbook/pocketflow-async-basic)\n",
    "\n",
    "Same model as above, but using async nodes\n",
    "```python\n",
    "\n",
    "class FetchRecipies:\n",
    "    async def prep(self, shared):\n",
    "        return shared['ingredient']\n",
    "    async def exec(self, ingredient):\n",
    "        return await fetch_recipies(ingredient)\n",
    "    async def post(self, shared, res):\n",
    "        shared['recipes'] = res\n",
    "        return \"suggest\"\n",
    "class SuggestRecipe:\n",
    "    async def prep(self, shared):\n",
    "        return shared['recipes']\n",
    "    async def exec(self, recipes):\n",
    "        suggestion = await call_llm(\"Choose the best recipe from {','.join(recipes)}\")\n",
    "        return suggestion\n",
    "    async def post(self, shared, res):\n",
    "        shared['suggestion'] = suggestion\n",
    "        return \"approve\"\n",
    "class GetApproval:\n",
    "    async def prep(self, shared): return shared['suggestion']\n",
    "    async def exec(self, suggestion): return await input('Accept this recipe?')\n",
    "    async def post(self, shared, answer):\n",
    "        if answer == \"y\":\n",
    "            return \"accept\"\n",
    "        else:\n",
    "            return \"retry\"\n",
    "```\n",
    "This could probably be encoded using the same structure as above. I assume this is trivial, so left out, but should be a similar design to the previous"
   ]
  },
  {
   "cell_type": "markdown",
   "id": "630c192d",
   "metadata": {},
   "source": [
    "### Pocketflow BatchFlow example\n",
    "Taken from [here](https://github.com/The-Pocket/PocketFlow/tree/main/cookbook/pocketflow-batch-flow).\n",
    "\n",
    "Introduces the notion of parameters, which allows batching flows over several choices of parameter\n",
    "\n",
    "```python\n",
    "class LoadImage:\n",
    "    def prep(self, shared): return os.path.join(\"images\", self.params['input'])\n",
    "    def exec(self, image_path): return Image.load(image_path)\n",
    "    def post(self, shared, res): shared[\"image\"] = res; return \"apply_filter\"\n",
    "\n",
    "class ApplyFilter:\n",
    "    def prep(self, shared): return shared['image'], self.params['filter']\n",
    "    def exec(self, inputs):\n",
    "        image, filter_type = inputs\n",
    "        match filter_type: ...\n",
    "    def post(self, shared, res):\n",
    "        shared['filtered_image'] = res\n",
    "        return \"save\"\n",
    "class SaveImage:\n",
    "    def prep(self, shared): \n",
    "        os.makedirs('output')\n",
    "        input_name, filter_name, output_path = ...\n",
    "        return shared['filtered_image'], output_path\n",
    "    def exec(self, inputs): image, output_path = inputs; image.save(output_path, \"jpeg\"); return output_path\n",
    "    def post(self, shared, res): return \"default\"\n",
    "```\n",
    "\n",
    "Batching allows taking a single flow and runnning it over a series of parameters\n",
    "```python\n",
    "class ImageBatchFlow(BatchFlow):\n",
    "    def prep(self, shared):\n",
    "        images = ['cat.jpeg', 'dog.jpeg', 'bird.jpeg']\n",
    "        filters = ['grayscale', 'blur', 'sepia']\n",
    "        params = []\n",
    "        for img in images: for filter in filters: params.append({'input':img, 'filter': f})\n",
    "        return params\n",
    "```"
   ]
  },
  {
   "cell_type": "markdown",
   "id": "f84de5ff",
   "metadata": {},
   "source": [
    "I'm tempted to encode this somehow using generics?"
   ]
  },
  {
   "cell_type": "code",
   "execution_count": null,
   "id": "e795ceb7",
   "metadata": {},
   "outputs": [],
   "source": [
    "class LoadImage[I,F](Generic[Annotated[I, 'image'], Annotated[F,'filter']]):\n",
    "    \"\"\"Load an image from file\"\"\"\n",
    "    __actions__ = {'apply_filter': \"ApplyFilter[I,F]\"}"
   ]
  },
  {
   "cell_type": "markdown",
   "id": "e58a00d1",
   "metadata": {},
   "source": [
    "### Pocketflow Batch\n",
    "Taken from [here](https://github.com/The-Pocket/PocketFlow/tree/main/cookbook/pocketflow-batch)\n",
    "Demonstrates batching - idea is subclassing batchnode means pre and post need to handle batches, the exec is written as if straight line unbatched\n",
    "\n",
    "```python\n",
    "class TranslateTextNode(BatchNode):\n",
    "    def prep(self, shared):\n",
    "        text, languages = shared[\"text\"], shared['languages']\n",
    "        return [(text,lang) for lang in langauges]\n",
    "    def exec(self, data): text, language = data; return call_llm(f\"translate the following into {language}: {text}\")\n",
    "    def post(self, shared, ress):\n",
    "        for res in ress: os.write(res['language'], res['translation'])\n",
    "```"
   ]
  },
  {
   "cell_type": "markdown",
   "id": "cb05404c",
   "metadata": {},
   "source": [
    "### Travel Advisor Chat with Guardrails\n",
    "\n",
    "Taken from [here](https://github.com/The-Pocket/PocketFlow/tree/main/cookbook/pocketflow-chat-guardrail)\n",
    "\n",
    "```python \n",
    "class GuardrailNode:\n",
    "    def prep(self, shared):\n",
    "        return shared['user_input']\n",
    "    def exec(self, user_input):\n",
    "        return call_llm('evaluate if the following query is travel related ...') \n",
    "    def post(self, shared, is_valid):\n",
    "        if not is_vaild: return \"retry\"\n",
    "        shared[\"messages\"].append({'role': \"user\", \"content\": shared['user_input']})\n",
    "        return \"process\"\n",
    "```\n",
    "\n",
    "maybe this could be encoded using handlers? (playing a bit fast and loose with the exact definitions here)"
   ]
  },
  {
   "cell_type": "code",
   "execution_count": null,
   "id": "54904dba",
   "metadata": {},
   "outputs": [],
   "source": [
    "@Template.define\n",
    "def travel_query(user_query: str) -> str:\n",
    "    \"\"\"Produces a concise (<100) word answer to the query {user_query}\"\"\"\n",
    "    raise NotHandled\n",
    "\n",
    "@Template.define\n",
    "def is_safe_query(user_query: str) -> bool:\n",
    "    \"\"\"Tests whether the user query {user_query} is related to travel advice\"\"\"\n",
    "    raise NotHandled\n",
    "\n",
    "def guardrail(user_query: str):\n",
    "    if not is_safe_query(user_query):\n",
    "        raise InvalidQuery\n",
    "    return fwd(user_query)\n",
    "\n",
    "with handler({validate: is_safe_query}):\n",
    "    travel_query(user_input)"
   ]
  },
  {
   "cell_type": "markdown",
   "id": "01aee3c1",
   "metadata": {},
   "source": [
    "alternatively using types?"
   ]
  },
  {
   "cell_type": "code",
   "execution_count": null,
   "id": "a46f54e3",
   "metadata": {},
   "outputs": [],
   "source": [
    "@Template.define\n",
    "def is_safe_query(user_query: str) -> bool:\n",
    "    \"\"\"Tests whether the user query {user_query} is related to travel advice\"\"\"\n",
    "    raise NotHandled\n",
    "\n",
    "@Template.define\n",
    "def travel_query(user_query: Anootated[str, is_safe_query]) -> str:\n",
    "    \"\"\"Produces a concise (<100) word answer to the query {user_query}\"\"\"\n",
    "    raise NotHandled"
   ]
  },
  {
   "cell_type": "markdown",
   "id": "fa250240",
   "metadata": {},
   "source": [
    "@Template.define\n",
    "def travel_query(user_query: str):"
   ]
  },
  {
   "cell_type": "markdown",
   "id": "b4a66b6e",
   "metadata": {},
   "source": [
    "### PocketFlow Chat with Memory\n",
    "Taken from [here](https://github.com/The-Pocket/PocketFlow/tree/main/cookbook/pocketflow-chat-memory)\n",
    "\n",
    "```python \n",
    "class GetUserQuestionNode:\n",
    "    def prep(self, shared): shared['messages'] = shared.get('messages', [])\n",
    "    def exec(self, _): return input()\n",
    "    def post(self, shared, res): shared['messages'].append({'role': 'user', 'content': exec_res}); return \"retrieve\"\n",
    "\n",
    "class AnswerNode:\n",
    "    def prep(self, shared):\n",
    "        recent_messages = shared.get('messages', [])[-6:]\n",
    "        context = []\n",
    "        if (relevant_convos := shared.get('retrieved_conversation')):\n",
    "            context.append({'role': 'system', 'content': 'the following is a relevant past conversation that might help'})\n",
    "            context.extend(relevant_convos)\n",
    "        context.extend(recent_messages)\n",
    "        context.append({'role': 'system', 'content': 'now continue the conversation'})\n",
    "        return context\n",
    "    def exec(self, messages): return call_llm(messages)\n",
    "    def post(self, shared, res):\n",
    "        shared['messages'].append({'role': 'assistant', 'content': res})\n",
    "        if len(shared['messages']) > 6: return 'embed'\n",
    "        return 'question'\n",
    "\n",
    "class EmbedNode:\n",
    "    def prep(self, shared):\n",
    "        oldest_pair, shared['messages'] = shared['messages'][:2], shared['messages'][2:]\n",
    "        return oldest_pair\n",
    "    def exec(conversation):\n",
    "        embedding = get_embedding('\\n'.join(msg['content'] for msg in conversation))\n",
    "        return {'conversation': conversation, 'embedding': embedding}\n",
    "    def post(self, shared, res):\n",
    "        add_vector(shared['vector_index'], (res['embedding']))\n",
    "        return 'question'\n",
    "\n",
    "class RetrieveNode:\n",
    "    def prep(self, shared): return next(msg for msg in shared['messages'] if msg['role'] == 'user', None)\n",
    "    def exec(self, input): \n",
    "        query = inputs['query']; vector_index = inputs['vector_index']; vector_items = inputs['vector_items']\n",
    "        [index], [dist] = search_vectors(inputs['vector_index'], get_embedding(inputs['query']), k = 1)\n",
    "        return {'conversation': inputs['vector_items'][index], 'distance': dist}\n",
    "    def post(self, shared, res):\n",
    "        shared['retrieved_conversation'] = res['conversation']\n",
    "        return 'answer'\n",
    "```"
   ]
  },
  {
   "cell_type": "code",
   "execution_count": null,
   "id": "b201d142",
   "metadata": {},
   "outputs": [],
   "source": [
    "@Template.define\n",
    "class ChatAgent:\n",
    "    messages = []\n",
    "    def question():\n",
    "        'ask'"
   ]
  },
  {
   "cell_type": "markdown",
   "id": "834bc956",
   "metadata": {},
   "source": [
    "### Pocketflow LLM Streaming\n",
    "Taken from [here](https://github.com/The-Pocket/PocketFlow/tree/main/cookbook/pocketflow-llm-streaming)\n",
    "\n",
    "```python\n",
    "class StreamNode:\n",
    "    def prep(self, shared):\n",
    "        interrupt_evt = threading.Event()\n",
    "        def wait_for_interrupt(): interrupt_evt.set()\n",
    "        listener_thread = threading.Thread(target = wait_for_interrupt)\n",
    "        listener_thread.start()\n",
    "        chunks = stream_llm(shared['prompt'])\n",
    "        return chunks, interrupt_evt, listener_thread\n",
    "    def exec(self, inputs):\n",
    "        chunks, interrupt_evt, listener_thread = inputs\n",
    "\n",
    "        for chunk in chunks:\n",
    "            if interrupt_evt.is_set():\n",
    "                break\n",
    "            print(chunk.choices[0].delta.content)\n",
    "        \n",
    "        return interrupt_evt, listener_thread\n",
    "    def post(self, shared, res):\n",
    "        interrupt_evt, listener_thread = res \n",
    "        interrupt_evt.set(); listener_thread.join()\n",
    "        return 'default'\n",
    "```\n",
    "\n",
    "Probably good to support this, though Pocket-flow doesn't really have the nicest interface here..."
   ]
  },
  {
   "cell_type": "markdown",
   "id": "88533caf",
   "metadata": {},
   "source": [
    "### Pocketflow Majority vote\n",
    "Taken from [here](https://github.com/The-Pocket/PocketFlow/tree/main/cookbook/pocketflow-majority-vote)\n",
    "\n",
    "illustrates how to use the batching mechanism to implement majority voting\n",
    "\n",
    "```python\n",
    "class MajorityVote(BatchNode):\n",
    "    def prep(self, shared):\n",
    "        question = shared['question']\n",
    "        attempts = shared.get('num_tries', 3)\n",
    "        return [question for _ in range(attempts)]\n",
    "\n",
    "    def exec(self, question):\n",
    "        return call_llm(\"Please answer the user's question below\\n{question},answer\")\n",
    "\n",
    "    def post(self, shared, ress):\n",
    "        answers = [res['answer'] for res in ress]\n",
    "        best_answer, freq = Counter(answers).most_common(1)[0]\n",
    "        return 'end'\n",
    "```"
   ]
  },
  {
   "cell_type": "markdown",
   "id": "67fd2749",
   "metadata": {},
   "source": [
    "### Pocketflow Multi-Agent Game\n",
    "Taken from [here](https://github.com/The-Pocket/PocketFlow/tree/main/cookbook/pocketflow-multi-agent)\n",
    "\n",
    "Async communication between two nodes\n",
    "\n",
    "```python\n",
    "class AsyncHinter(AsyncNode):\n",
    "    async def prep(self, shared):\n",
    "        guess = await shared['hinter_queue'].get()\n",
    "        if guess == 'GAME_OVER': return None\n",
    "        return shared['target_word'], shared['forbidden_words'], shared.get('past_guesses', [])\n",
    "    \n",
    "    async def exec(self, inputs):\n",
    "        target, forbidden, past_guesses = inputs\n",
    "        prompt = 'generate hint for {target}, forbidden words: {forbidden}, past guesses were: {past_guesses}'\n",
    "        hint = call_llm(prompt)\n",
    "        return hint\n",
    "    \n",
    "    async def post(self, shared, res):\n",
    "        if res is None:\n",
    "            return 'end'\n",
    "        await shared['guesser_queue'].put(exec_res)\n",
    "        return 'continue'\n",
    "    \n",
    "class AsyncGuesser(AsyncNode):\n",
    "    async def prep(self, shared):\n",
    "        hint = await shared['guesser_queue'].get()\n",
    "        return hint, shared.get('past_guesses', [])\n",
    "    \n",
    "    async def exec(self, inputs):\n",
    "        hint, past_guesses = inputs\n",
    "        prompt = 'given hint {hint}, past guesses {past_guesses}, make a new guess'\n",
    "        guess = call_llm(prompt)\n",
    "        return guess\n",
    "    \n",
    "    async def post(self, shared, res):\n",
    "        if res == shared['target_word']:\n",
    "            await shared['hinter_queue'].put('GAME_OVER')\n",
    "            return 'end'\n",
    "        shared['past_guesses'].append(exec_res)\n",
    "        await shared['hinter_queue'].put(exec_res)\n",
    "        return 'continue'\n",
    "        \n",
    "```"
   ]
  },
  {
   "cell_type": "markdown",
   "id": "8439cec3",
   "metadata": {},
   "source": [
    "### Pocketflow parallel batch flow\n",
    "\n",
    "Taken from [here](https://github.com/The-Pocket/PocketFlow/tree/main/cookbook/pocketflow-parallel-batch-flow)\n",
    "\n",
    "same code as batched, just changes execution strategy such that each flow is run in parallel\n",
    "```python\n",
    "class ImageParallelBatchFlow(AsyncParallelBatchFlow):\n",
    "    \n",
    "    async def prep_async(self, shared):\n",
    "        images = shared.get(\"images\",[])\n",
    "        filters = ['grayscale', 'blur', 'sepia']\n",
    "        params = []\n",
    "        for image_path in images:\n",
    "            for filter_type in filters:\n",
    "                params.append({ 'image_path': image_path, 'filter': filter_type })\n",
    "        return params\n",
    "```\n",
    "\n",
    "```python\n",
    "class TranslateTextNodeParallel(AsyncParallelBatchNode):\n",
    "    async def prep_async(self, shared):\n",
    "        text = shared.get(\"text\", \"no text provided\")\n",
    "        languages = shared.get(\"langauges\", [])\n",
    "        return [(text,lang) for lang in languages]\n",
    "    async def exec_async(self, inputs):\n",
    "        text, language = inputs\n",
    "        result = await call_llm(\"please translate the following markdown file into {language}\")\n",
    "        return {\"language\": language, \"translation\": result}\n",
    "    async def post_async(self, shared, res):\n",
    "        for file in res:\n",
    "            with open(file['language'], 'w') as f: await f.write(file['translation'])\n",
    "        return 'default'\n",
    "```"
   ]
  },
  {
   "cell_type": "markdown",
   "id": "e457cae4",
   "metadata": {},
   "source": [
    "### Pocketflow RAG example\n",
    "\n",
    "```python\n",
    "class ChunkDocumentsNode(BatchNode):\n",
    "    def prep(self,shared): return shared['texts']\n",
    "    def exec(self, text): return fixed_size_chunk(text)\n",
    "    def post(self,shared,res): shared['texts'] = [doc for doc_ls in res for doc in doc_ls]; return 'default'\n",
    "class EmbedDocumentsNode(BatchNode):\n",
    "    def prep(self,shared): return shared['texts']\n",
    "    def exec(self,text): return get_embedding(text)\n",
    "    def post(self,shared, res): shared['embeddings'] = np.array(res); return 'default'\n",
    "class CreateIndexNode(Node):\n",
    "    def prep(self, shared): return shared['query']\n",
    "    def exec(self,query): return get_embedding(query)\n",
    "    def post(Self,shared, res): shared['query_embedding'] = res\n",
    "class RetrieveDocumentsNode(Node):\n",
    "    def prep(self,shared): return shared['query_embedding'], shared['index'], shared['texts']\n",
    "    def exec(self,inputs): q_embed, index, texts = inputs; dists, inds = index.search(q_embed, k=1); return {'text': texts[inds[0][0]], 'ind': inds[0][0]}\n",
    "    def post(self,shared,res): shared['retrieved'] = res; return 'default\n",
    "```"
   ]
  },
  {
   "cell_type": "markdown",
   "id": "9112d1bc",
   "metadata": {},
   "source": [
    "### Pocketflow Supervisor Flow\n",
    "Taken from [here](https://github.com/The-Pocket/PocketFlow/blob/main/cookbook/pocketflow-supervisor/flow.py)\n",
    "\n",
    "```python\n",
    "class SupervisorNode(Node):\n",
    "    def prep(self,shared): return shared['answer']\n",
    "    def exec(self,answer):\n",
    "        is_nonsense = any(marker in answer for marker in ['coffee break', 'who knows?', 'made up', '42'])\n",
    "        if is_nonsense: return {'valid': False, 'reason': 'Answer appears to be nonsense'}\n",
    "        else: return {'valid': True, 'reason': 'Answer appears to be legitimate'}\n",
    "    def post(self, shared, res):\n",
    "        if not res['valid']: return 'retry'\n",
    "```"
   ]
  },
  {
   "cell_type": "markdown",
   "id": "d4e53c9e",
   "metadata": {},
   "source": []
  }
 ],
 "metadata": {
  "kernelspec": {
   "display_name": "effectful-llm (3.12.12)",
   "language": "python",
   "name": "python3"
  },
  "language_info": {
   "codemirror_mode": {
    "name": "ipython",
    "version": 3
   },
   "file_extension": ".py",
   "mimetype": "text/x-python",
   "name": "python",
   "nbconvert_exporter": "python",
   "pygments_lexer": "ipython3",
   "version": "3.12.12"
  },
  "name": "Untitled.ipynb",
  "polyglot_notebook": {
   "kernelInfo": {
    "defaultKernelName": "csharp",
    "items": [
     {
      "aliases": [],
      "name": "csharp"
     }
    ]
   }
  }
 },
 "nbformat": 4,
 "nbformat_minor": 5
}
