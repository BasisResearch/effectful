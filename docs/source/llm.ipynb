{
 "cells": [
  {
   "cell_type": "code",
   "execution_count": 1,
   "id": "5aaf649f",
   "metadata": {},
   "outputs": [],
   "source": [
    "import dataclasses\n",
    "import functools\n",
    "import os\n",
    "from collections.abc import Callable\n",
    "\n",
    "import openai\n",
    "\n",
    "from effectful.handlers.llm import Template\n",
    "from effectful.handlers.llm.providers import OpenAIAPIProvider, tool_call, llm_request\n",
    "from effectful.handlers.llm.synthesis import ProgramSynthesis\n",
    "from effectful.ops.semantics import fwd, handler\n",
    "from effectful.ops.syntax import defop\n",
    "\n",
    "provider = OpenAIAPIProvider(openai.OpenAI(api_key=os.getenv(\"OPENAI_API_KEY\")))"
   ]
  },
  {
   "cell_type": "markdown",
   "id": "2f9e861b",
   "metadata": {},
   "source": [
    "## Interface\n",
    "\n",
    "The `robotl.ops.llm` module provides a simplified LLM interface that uses algebraic effects to provide modularity. The module interface consists of:\n",
    "\n",
    "- A decorator `template` which creates a prompt template from a callable. We should think of the prompt template as an LLM-implemented function with behavior specified by a template string. When a templated function is called, an LLM is invoked to produce the specified behavior. The `__call__` method of a template is a handleable operation.\n",
    "- An operation `decode` which parses LLM output. `decode(t: type, c: str)` converts an LLM response `c` to the type `t`. It can be handled to provide decoding logic for particular types.\n",
    "- Interpretations for LLM providers `OpenAIIntp` and callable decoding `ProgramSynthesisIntp`. These interpretations can be composed to handle a variety of template behaviors."
   ]
  },
  {
   "cell_type": "markdown",
   "id": "c1c639d3",
   "metadata": {},
   "source": [
    "## Prompt Templates\n",
    "\n",
    "This template function writes (bad) poetry on a given theme. While difficult to implement in Python, an LLM can provide a reasonable implementation."
   ]
  },
  {
   "cell_type": "code",
   "execution_count": 2,
   "id": "1e832675",
   "metadata": {},
   "outputs": [],
   "source": [
    "@Template.define\n",
    "def limerick(theme: str) -> str:\n",
    "    \"\"\"Write a limerick on the theme of {theme}.\"\"\"\n",
    "    raise NotImplementedError"
   ]
  },
  {
   "cell_type": "markdown",
   "id": "f2ca6919",
   "metadata": {},
   "source": [
    "If we call the template with a provider interpretation installed, we get reasonable behavior. The LLM is nondeterministic by default, so calling the template twice with the same arguments gives us different results.\n",
    "\n",
    "Templates are regular callables, so can be converted to operations with `defop` if we want to override the LLM implementation in some cases."
   ]
  },
  {
   "cell_type": "code",
   "execution_count": 3,
   "id": "634f6533",
   "metadata": {},
   "outputs": [
    {
     "name": "stdout",
     "output_type": "stream",
     "text": [
      "In the sea where the currents swish,  \n",
      "Darted a colorful, gleaming fish.  \n",
      "With a flash it would glide,  \n",
      "Through the waves, it would slide,  \n",
      "Making dreams come alive with a wish.\n",
      "----------------------------------------\n",
      "In the deep where the cold currents swish,  \n",
      "Lived a cod with a fantastical wish.  \n",
      "He dreamed of the day,  \n",
      "He'd learn how to play,  \n",
      "A duet with a whimsical fish.\n"
     ]
    }
   ],
   "source": [
    "with handler(provider):\n",
    "    print(limerick(\"fish\"))\n",
    "    print(\"-\" * 40)\n",
    "    print(limerick(\"fish\"))"
   ]
  },
  {
   "cell_type": "markdown",
   "id": "2e59acbc",
   "metadata": {},
   "source": [
    "If we want deterministic behavior, we can cache the template call."
   ]
  },
  {
   "cell_type": "code",
   "execution_count": 4,
   "id": "706ce53b",
   "metadata": {},
   "outputs": [
    {
     "name": "stdout",
     "output_type": "stream",
     "text": [
      "\n",
      "Silent waters glide,  \n",
      "Silver scales in moonlight dance—  \n",
      "Whispers of the deep.\n",
      "----------------------------------------\n",
      "Silent waters glide,  \n",
      "Silver scales in moonlight dance—  \n",
      "Whispers of the deep.\n"
     ]
    }
   ],
   "source": [
    "@functools.cache\n",
    "@Template.define\n",
    "def haiku(theme: str) -> str:\n",
    "    \"\"\"Write a haiku on the theme of {theme}.\"\"\"\n",
    "    raise NotImplementedError\n",
    "\n",
    "\n",
    "print()\n",
    "with handler(provider):\n",
    "    print(haiku(\"fish\"))\n",
    "    print(\"-\" * 40)\n",
    "    print(haiku(\"fish\"))"
   ]
  },
  {
   "cell_type": "markdown",
   "id": "13adb300",
   "metadata": {},
   "source": [
    "## Converting LLM Results to Python Objects\n",
    "\n",
    "Type conversion is handled by `decode`. By default, primitive types are converted. `DecodeError` is raised if a response cannot be converted."
   ]
  },
  {
   "cell_type": "code",
   "execution_count": 5,
   "id": "2c766859",
   "metadata": {},
   "outputs": [],
   "source": [
    "@Template.define\n",
    "def primes(first_digit: int) -> int:\n",
    "    \"\"\"Give a prime number with {first_digit} as the first digit.\"\"\"\n",
    "    raise NotImplementedError\n",
    "\n",
    "\n",
    "with handler(provider):\n",
    "    assert type(primes(6)) is int"
   ]
  },
  {
   "cell_type": "markdown",
   "id": "36d78a71",
   "metadata": {},
   "source": [
    "More complex types can be converted by providing handlers for `decode`. `ProgramSynthesisIntp` provides a `decode` handler that parses Python callables."
   ]
  },
  {
   "cell_type": "code",
   "execution_count": 6,
   "id": "c83bbdc0",
   "metadata": {},
   "outputs": [],
   "source": [
    "@Template.define\n",
    "def count_char(char: str) -> Callable[[str], int]:\n",
    "    \"\"\"Write a function which takes a string and counts the occurrances of '{char}'.\"\"\"\n",
    "    raise NotImplementedError\n",
    "\n",
    "\n",
    "with handler(provider), handler(ProgramSynthesis()):\n",
    "    count_a = count_char(\"a\")\n",
    "    assert callable(count_a)\n",
    "    assert count_a(\"banana\") == 3\n",
    "    assert count_a(\"cherry\") == 0\n"
   ]
  },
  {
   "cell_type": "markdown",
   "id": "991ee445",
   "metadata": {},
   "source": [
    "## Tool Calling\n",
    "\n",
    "Passing `Operation`s to `Template.define` makes them available for the LLM to call as tools. The description of these operations is inferred from their type annotations and docstrings.\n",
    "\n",
    "Tool calls are mediated by a helper operation `tool_call`. Handling this operation allows tool use to be tracked or logged."
   ]
  },
  {
   "cell_type": "code",
   "execution_count": 7,
   "id": "66711301",
   "metadata": {},
   "outputs": [
    {
     "name": "stdout",
     "output_type": "stream",
     "text": [
      "Tool call: cities(*(), **{}) -> ['Chicago', 'New York', 'Barcelona']\n",
      "Tool call: weather(*(), **{'city': 'Chicago'}) -> cold\n",
      "Tool call: weather(*(), **{'city': 'New York'}) -> wet\n",
      "Tool call: weather(*(), **{'city': 'Barcelona'}) -> sunny\n",
      "Based on the current weather conditions, Barcelona has sunny weather and would be a great choice for good weather!\n"
     ]
    }
   ],
   "source": [
    "@defop\n",
    "def cities() -> list[str]:\n",
    "    return [\"Chicago\", \"New York\", \"Barcelona\"]\n",
    "\n",
    "\n",
    "@defop\n",
    "def weather(city: str) -> str:\n",
    "    status = {\"Chicago\": \"cold\", \"New York\": \"wet\", \"Barcelona\": \"sunny\"}\n",
    "    return status.get(city, \"unknown\")\n",
    "\n",
    "\n",
    "@Template.define(tools=[cities, weather])\n",
    "def vacation() -> str:\n",
    "    \"\"\"Use the provided tools to suggest a city that has good weather.\"\"\"\n",
    "    raise NotImplementedError\n",
    "\n",
    "\n",
    "def log_tool_call(_, tool, *args, **kwargs):\n",
    "    result = fwd()\n",
    "    print(f\"Tool call: {tool}(*{args}, **{kwargs}) -> {result}\")\n",
    "    return result\n",
    "\n",
    "\n",
    "with handler(provider), handler({tool_call: log_tool_call}):\n",
    "    print(vacation())"
   ]
  },
  {
   "cell_type": "markdown",
   "id": "3d221feb",
   "metadata": {},
   "source": [
    "## Structured Output Generation\n",
    "\n",
    "Constrained generation is used for any type that is convertible to a Pydantic model."
   ]
  },
  {
   "cell_type": "code",
   "execution_count": 8,
   "id": "17668ac8",
   "metadata": {},
   "outputs": [
    {
     "name": "stdout",
     "output_type": "stream",
     "text": [
      "> You are onstage at a comedy club. You tell the following joke:\n",
      "Knock knock.\n",
      "Who's there?\n",
      "Lizard.\n",
      "Lizard who?\n",
      "Lizard who? \n",
      "Lizard be nice if you let me in!\n",
      "> The crowd laughs politely.\n"
     ]
    }
   ],
   "source": [
    "@dataclasses.dataclass\n",
    "class KnockKnockJoke:\n",
    "    whos_there: str\n",
    "    punchline: str\n",
    "\n",
    "\n",
    "@Template.define\n",
    "def write_joke(theme: str) -> KnockKnockJoke:\n",
    "    \"\"\"Write a knock-knock joke on the theme of {theme}.\"\"\"\n",
    "    raise NotImplementedError\n",
    "\n",
    "\n",
    "@Template.define\n",
    "def rate_joke(joke: KnockKnockJoke) -> bool:\n",
    "    \"\"\"Decide if {joke} is funny or not\"\"\"\n",
    "    raise NotImplementedError\n",
    "\n",
    "\n",
    "def do_comedy():\n",
    "    joke = write_joke(\"lizards\")\n",
    "    print(\"> You are onstage at a comedy club. You tell the following joke:\")\n",
    "    print(\n",
    "        f\"Knock knock.\\nWho's there?\\n{joke.whos_there}.\\n{joke.whos_there} who?\\n{joke.punchline}\"\n",
    "    )\n",
    "    if rate_joke(joke):\n",
    "        print(\"> The crowd laughs politely.\")\n",
    "    else:\n",
    "        print(\"> The crowd stares in stony silence.\")\n",
    "\n",
    "\n",
    "with handler(provider):\n",
    "    do_comedy()"
   ]
  },
  {
   "cell_type": "markdown",
   "id": "0cab62b5",
   "metadata": {},
   "source": [
    "### Logging LLM requests\n",
    "To intercept messages being called on the lower-level, we can write a handler for `llm_request`:"
   ]
  },
  {
   "cell_type": "code",
   "execution_count": null,
   "id": "cbf495a2",
   "metadata": {},
   "outputs": [
    {
     "ename": "NameError",
     "evalue": "name 'llmp' is not defined",
     "output_type": "error",
     "traceback": [
      "\u001b[31m---------------------------------------------------------------------------\u001b[39m",
      "\u001b[31mNameError\u001b[39m                                 Traceback (most recent call last)",
      "\u001b[36mCell\u001b[39m\u001b[36m \u001b[39m\u001b[32mIn[9]\u001b[39m\u001b[32m, line 13\u001b[39m\n\u001b[32m     10\u001b[39m     \u001b[38;5;28;01mpass\u001b[39;00m\n\u001b[32m     12\u001b[39m \u001b[38;5;66;03m# Put llm_request handler innermost so it has highest precedence during the call\u001b[39;00m\n\u001b[32m---> \u001b[39m\u001b[32m13\u001b[39m \u001b[38;5;28;01mwith\u001b[39;00m handler(provider), handler({\u001b[43mllmp\u001b[49m.llm_request: log_llm}):\n\u001b[32m     14\u001b[39m     _ = haiku(\u001b[33m\"\u001b[39m\u001b[33mfish2\u001b[39m\u001b[33m\"\u001b[39m)\n\u001b[32m     15\u001b[39m     _ = limerick(\u001b[33m\"\u001b[39m\u001b[33mfish\u001b[39m\u001b[33m\"\u001b[39m)        \u001b[38;5;66;03m# or use haiku(\"fish-2\") to avoid cache\u001b[39;00m\n",
      "\u001b[31mNameError\u001b[39m: name 'llmp' is not defined"
     ]
    }
   ],
   "source": [
    "def log_llm(client, model_input: list[dict], response_kwargs: dict):\n",
    "    result = fwd()\n",
    "    print(\"Request fired: \", model_input, response_kwargs, result)\n",
    "    return result\n",
    "\n",
    "# Avoid cache\n",
    "try:\n",
    "    haiku.cache_clear()\n",
    "except Exception:\n",
    "    pass\n",
    "\n",
    "# Put llm_request handler innermost so it has highest precedence during the call\n",
    "with handler(provider), handler({llm_request: log_llm}):\n",
    "    _ = haiku(\"fish2\")\n",
    "    _ = limerick(\"fish\")        # or use haiku(\"fish-2\") to avoid cache"
   ]
  }
 ],
 "metadata": {
  "kernelspec": {
   "display_name": ".venv",
   "language": "python",
   "name": "python3"
  },
  "language_info": {
   "codemirror_mode": {
    "name": "ipython",
    "version": 3
   },
   "file_extension": ".py",
   "mimetype": "text/x-python",
   "name": "python",
   "nbconvert_exporter": "python",
   "pygments_lexer": "ipython3",
   "version": "3.13.7"
  }
 },
 "nbformat": 4,
 "nbformat_minor": 5
}
