{
 "cells": [
  {
   "cell_type": "code",
   "execution_count": 1,
   "id": "5aaf649f",
   "metadata": {},
   "outputs": [],
   "source": [
    "import dataclasses\n",
    "import functools\n",
    "import logging\n",
    "import os\n",
    "import sys\n",
    "from collections.abc import Callable\n",
    "\n",
    "import openai\n",
    "\n",
    "from effectful.handlers.llm import Template\n",
    "from effectful.handlers.llm.providers import (\n",
    "    LLMLoggingHandler,\n",
    "    OpenAIAPIProvider,\n",
    "    llm_request,\n",
    "    tool_call,\n",
    ")\n",
    "from effectful.handlers.llm.synthesis import ProgramSynthesis\n",
    "from effectful.ops.semantics import fwd, handler\n",
    "from effectful.ops.syntax import defop\n",
    "\n",
    "provider = OpenAIAPIProvider(openai.OpenAI(api_key=os.getenv(\"OPENAI_API_KEY\")))"
   ]
  },
  {
   "cell_type": "markdown",
   "id": "2f9e861b",
   "metadata": {},
   "source": [
    "## Interface\n",
    "\n",
    "The `robotl.ops.llm` module provides a simplified LLM interface that uses algebraic effects to provide modularity. The module interface consists of:\n",
    "\n",
    "- A decorator `template` which creates a prompt template from a callable. We should think of the prompt template as an LLM-implemented function with behavior specified by a template string. When a templated function is called, an LLM is invoked to produce the specified behavior. The `__call__` method of a template is a handleable operation.\n",
    "- An operation `decode` which parses LLM output. `decode(t: type, c: str)` converts an LLM response `c` to the type `t`. It can be handled to provide decoding logic for particular types.\n",
    "- Interpretations for LLM providers `OpenAIIntp` and callable decoding `ProgramSynthesisIntp`. These interpretations can be composed to handle a variety of template behaviors."
   ]
  },
  {
   "cell_type": "markdown",
   "id": "c1c639d3",
   "metadata": {},
   "source": [
    "## Prompt Templates\n",
    "\n",
    "This template function writes (bad) poetry on a given theme. While difficult to implement in Python, an LLM can provide a reasonable implementation."
   ]
  },
  {
   "cell_type": "code",
   "execution_count": 2,
   "id": "1e832675",
   "metadata": {},
   "outputs": [],
   "source": [
    "@Template.define\n",
    "def limerick(theme: str) -> str:\n",
    "    \"\"\"Write a limerick on the theme of {theme}.\"\"\"\n",
    "    raise NotImplementedError"
   ]
  },
  {
   "cell_type": "markdown",
   "id": "f2ca6919",
   "metadata": {},
   "source": [
    "If we call the template with a provider interpretation installed, we get reasonable behavior. The LLM is nondeterministic by default, so calling the template twice with the same arguments gives us different results.\n",
    "\n",
    "Templates are regular callables, so can be converted to operations with `defop` if we want to override the LLM implementation in some cases."
   ]
  },
  {
   "cell_type": "code",
   "execution_count": 3,
   "id": "634f6533",
   "metadata": {},
   "outputs": [
    {
     "name": "stdout",
     "output_type": "stream",
     "text": [
      "In the sea swam a fish with a grin,  \n",
      "Who loved to dance with a fin-spin.  \n",
      "He'd flip and he'd dart,  \n",
      "Winning hearts from the start,  \n",
      "With a splash, he'd twirl and then win!  \n",
      "----------------------------------------\n",
      "In the sea where the fish love to play,  \n",
      "A school of bright colors display.  \n",
      "With a splash and a flip,  \n",
      "They go on a quick trip,  \n",
      "Chasing bubbles that dance on the bay.\n"
     ]
    }
   ],
   "source": [
    "with handler(provider):\n",
    "    print(limerick(\"fish\"))\n",
    "    print(\"-\" * 40)\n",
    "    print(limerick(\"fish\"))"
   ]
  },
  {
   "cell_type": "markdown",
   "id": "2e59acbc",
   "metadata": {},
   "source": [
    "If we want deterministic behavior, we can cache the template call."
   ]
  },
  {
   "cell_type": "code",
   "execution_count": 4,
   "id": "706ce53b",
   "metadata": {},
   "outputs": [
    {
     "name": "stdout",
     "output_type": "stream",
     "text": [
      "\n",
      "Gliding through currents,  \n",
      "Scales shimmer like silver moons—  \n",
      "Silent whispers dance.\n",
      "----------------------------------------\n",
      "Gliding through currents,  \n",
      "Scales shimmer like silver moons—  \n",
      "Silent whispers dance.\n"
     ]
    }
   ],
   "source": [
    "@functools.cache\n",
    "@Template.define\n",
    "def haiku(theme: str) -> str:\n",
    "    \"\"\"Write a haiku on the theme of {theme}.\"\"\"\n",
    "    raise NotImplementedError\n",
    "\n",
    "\n",
    "print()\n",
    "with handler(provider):\n",
    "    print(haiku(\"fish\"))\n",
    "    print(\"-\" * 40)\n",
    "    print(haiku(\"fish\"))"
   ]
  },
  {
   "cell_type": "markdown",
   "id": "13adb300",
   "metadata": {},
   "source": [
    "## Converting LLM Results to Python Objects\n",
    "\n",
    "Type conversion is handled by `decode`. By default, primitive types are converted. `DecodeError` is raised if a response cannot be converted."
   ]
  },
  {
   "cell_type": "code",
   "execution_count": 5,
   "id": "2c766859",
   "metadata": {},
   "outputs": [],
   "source": [
    "@Template.define\n",
    "def primes(first_digit: int) -> int:\n",
    "    \"\"\"Give a prime number with {first_digit} as the first digit.\"\"\"\n",
    "    raise NotImplementedError\n",
    "\n",
    "\n",
    "with handler(provider):\n",
    "    assert type(primes(6)) is int"
   ]
  },
  {
   "cell_type": "markdown",
   "id": "36d78a71",
   "metadata": {},
   "source": [
    "More complex types can be converted by providing handlers for `decode`. `ProgramSynthesisIntp` provides a `decode` handler that parses Python callables."
   ]
  },
  {
   "cell_type": "code",
   "execution_count": 6,
   "id": "c83bbdc0",
   "metadata": {},
   "outputs": [],
   "source": [
    "@Template.define\n",
    "def count_char(char: str) -> Callable[[str], int]:\n",
    "    \"\"\"Write a function which takes a string and counts the occurrances of '{char}'.\"\"\"\n",
    "    raise NotImplementedError\n",
    "\n",
    "\n",
    "with handler(provider), handler(ProgramSynthesis()):\n",
    "    count_a = count_char(\"a\")\n",
    "    assert callable(count_a)\n",
    "    assert count_a(\"banana\") == 3\n",
    "    assert count_a(\"cherry\") == 0"
   ]
  },
  {
   "cell_type": "markdown",
   "id": "991ee445",
   "metadata": {},
   "source": [
    "## Tool Calling\n",
    "\n",
    "Passing `Operation`s to `Template.define` makes them available for the LLM to call as tools. The description of these operations is inferred from their type annotations and docstrings.\n",
    "\n",
    "Tool calls are mediated by a helper operation `tool_call`. Handling this operation allows tool use to be tracked or logged."
   ]
  },
  {
   "cell_type": "code",
   "execution_count": 7,
   "id": "66711301",
   "metadata": {},
   "outputs": [
    {
     "name": "stdout",
     "output_type": "stream",
     "text": [
      "Tool call: cities(*(), **{}) -> ['Chicago', 'New York', 'Barcelona']\n",
      "Tool call: weather(*(), **{'city': 'Chicago'}) -> cold\n",
      "Tool call: weather(*(), **{'city': 'New York'}) -> wet\n",
      "Tool call: weather(*(), **{'city': 'Barcelona'}) -> sunny\n",
      "Among the cities checked, **Barcelona** currently has good weather, as it is sunny.\n"
     ]
    }
   ],
   "source": [
    "@defop\n",
    "def cities() -> list[str]:\n",
    "    return [\"Chicago\", \"New York\", \"Barcelona\"]\n",
    "\n",
    "\n",
    "@defop\n",
    "def weather(city: str) -> str:\n",
    "    status = {\"Chicago\": \"cold\", \"New York\": \"wet\", \"Barcelona\": \"sunny\"}\n",
    "    return status.get(city, \"unknown\")\n",
    "\n",
    "\n",
    "@Template.define(tools=[cities, weather])\n",
    "def vacation() -> str:\n",
    "    \"\"\"Use the provided tools to suggest a city that has good weather.\"\"\"\n",
    "    raise NotImplementedError\n",
    "\n",
    "\n",
    "def log_tool_call(_, tool, *args, **kwargs):\n",
    "    result = fwd()\n",
    "    print(f\"Tool call: {tool}(*{args}, **{kwargs}) -> {result}\")\n",
    "    return result\n",
    "\n",
    "\n",
    "with handler(provider), handler({tool_call: log_tool_call}):\n",
    "    print(vacation())"
   ]
  },
  {
   "cell_type": "markdown",
   "id": "3d221feb",
   "metadata": {},
   "source": [
    "## Structured Output Generation\n",
    "\n",
    "Constrained generation is used for any type that is convertible to a Pydantic model."
   ]
  },
  {
   "cell_type": "code",
   "execution_count": 8,
   "id": "17668ac8",
   "metadata": {},
   "outputs": [
    {
     "name": "stdout",
     "output_type": "stream",
     "text": [
      "> You are onstage at a comedy club. You tell the following joke:\n",
      "Knock knock.\n",
      "Who's there?\n",
      "Iguana.\n",
      "Iguana who?\n",
      "Iguana tell you a secret, but I'm too shy!\n",
      "> The crowd laughs politely.\n"
     ]
    }
   ],
   "source": [
    "@dataclasses.dataclass\n",
    "class KnockKnockJoke:\n",
    "    whos_there: str\n",
    "    punchline: str\n",
    "\n",
    "\n",
    "@Template.define\n",
    "def write_joke(theme: str) -> KnockKnockJoke:\n",
    "    \"\"\"Write a knock-knock joke on the theme of {theme}.\"\"\"\n",
    "    raise NotImplementedError\n",
    "\n",
    "\n",
    "@Template.define\n",
    "def rate_joke(joke: KnockKnockJoke) -> bool:\n",
    "    \"\"\"Decide if {joke} is funny or not\"\"\"\n",
    "    raise NotImplementedError\n",
    "\n",
    "\n",
    "def do_comedy():\n",
    "    joke = write_joke(\"lizards\")\n",
    "    print(\"> You are onstage at a comedy club. You tell the following joke:\")\n",
    "    print(\n",
    "        f\"Knock knock.\\nWho's there?\\n{joke.whos_there}.\\n{joke.whos_there} who?\\n{joke.punchline}\"\n",
    "    )\n",
    "    if rate_joke(joke):\n",
    "        print(\"> The crowd laughs politely.\")\n",
    "    else:\n",
    "        print(\"> The crowd stares in stony silence.\")\n",
    "\n",
    "\n",
    "with handler(provider):\n",
    "    do_comedy()"
   ]
  },
  {
   "cell_type": "markdown",
   "id": "0cab62b5",
   "metadata": {},
   "source": [
    "### Logging LLM requests\n",
    "To intercept messages being called on the lower-level, we can write a handler for `llm_request`:"
   ]
  },
  {
   "cell_type": "code",
   "execution_count": 9,
   "id": "cbf495a2",
   "metadata": {},
   "outputs": [
    {
     "name": "stdout",
     "output_type": "stream",
     "text": [
      "Request fired:  () {'input': [{'type': 'message', 'content': [{'type': 'input_text', 'text': 'Write a haiku on the theme of fish2.'}], 'role': 'user'}], 'model': 'gpt-4o', 'tools': [], 'tool_choice': 'auto'} Response(id='resp_09fcadbd12423e30006900db6313ec81959d965abbe131e37e', created_at=1761663843.0, error=None, incomplete_details=None, instructions=None, metadata={}, model='gpt-4o-2024-08-06', object='response', output=[ResponseOutputMessage(id='msg_09fcadbd12423e30006900db63be008195ae1f74af1ec1c0ec', content=[ResponseOutputText(annotations=[], text='Beneath gentle waves,  \\nWhispers of scales glide in peace—  \\nSilent dance of fins.', type='output_text', logprobs=[])], role='assistant', status='completed', type='message')], parallel_tool_calls=True, temperature=1.0, tool_choice='auto', tools=[], top_p=1.0, background=False, conversation=None, max_output_tokens=None, max_tool_calls=None, previous_response_id=None, prompt=None, prompt_cache_key=None, reasoning=Reasoning(effort=None, generate_summary=None, summary=None), safety_identifier=None, service_tier='default', status='completed', text=ResponseTextConfig(format=ResponseFormatText(type='text'), verbosity='medium'), top_logprobs=0, truncation='disabled', usage=ResponseUsage(input_tokens=18, input_tokens_details=InputTokensDetails(cached_tokens=0), output_tokens=22, output_tokens_details=OutputTokensDetails(reasoning_tokens=0), total_tokens=40), user=None, billing={'payer': 'developer'}, store=True)\n",
      "Request fired:  () {'input': [{'type': 'message', 'content': [{'type': 'input_text', 'text': 'Write a limerick on the theme of fish.'}], 'role': 'user'}], 'model': 'gpt-4o', 'tools': [], 'tool_choice': 'auto'} Response(id='resp_08d35081ff1cf93a006900db65c80881909c2bf0bd1f8fb826', created_at=1761663845.0, error=None, incomplete_details=None, instructions=None, metadata={}, model='gpt-4o-2024-08-06', object='response', output=[ResponseOutputMessage(id='msg_08d35081ff1cf93a006900db667bd88190b5e6ba81bb4ceaf5', content=[ResponseOutputText(annotations=[], text='In the sea where the bright corals swish,  \\nLived a cod with a dream to be \"pish.\"  \\nHe\\'d leap and he\\'d twirl,  \\nIn a watery swirl,  \\nEarning fame as the most stylish fish.', type='output_text', logprobs=[])], role='assistant', status='completed', type='message')], parallel_tool_calls=True, temperature=1.0, tool_choice='auto', tools=[], top_p=1.0, background=False, conversation=None, max_output_tokens=None, max_tool_calls=None, previous_response_id=None, prompt=None, prompt_cache_key=None, reasoning=Reasoning(effort=None, generate_summary=None, summary=None), safety_identifier=None, service_tier='default', status='completed', text=ResponseTextConfig(format=ResponseFormatText(type='text'), verbosity='medium'), top_logprobs=0, truncation='disabled', usage=ResponseUsage(input_tokens=18, input_tokens_details=InputTokensDetails(cached_tokens=0), output_tokens=51, output_tokens_details=OutputTokensDetails(reasoning_tokens=0), total_tokens=69), user=None, billing={'payer': 'developer'}, store=True)\n"
     ]
    }
   ],
   "source": [
    "def log_llm(client, *args, **kwargs):\n",
    "    result = fwd()\n",
    "    print(\"Request fired: \", args, kwargs, result)\n",
    "    return result\n",
    "\n",
    "\n",
    "# Avoid cache\n",
    "try:\n",
    "    haiku.cache_clear()\n",
    "except Exception:\n",
    "    pass\n",
    "\n",
    "# Put llm_request handler innermost so it has highest precedence during the call\n",
    "with handler(provider), handler({llm_request: log_llm}):\n",
    "    _ = haiku(\"fish2\")\n",
    "    _ = limerick(\"fish\")  # or use haiku(\"fish-2\") to avoid cache"
   ]
  },
  {
   "cell_type": "markdown",
   "id": "8e8e531d",
   "metadata": {},
   "source": [
    "### Python logging for LLM requests and tool calls\n",
    "We can also uses Python logger through `LLMLoggingHandler` to log both low-level LLM requests (`llm_request`) and model-initiated tool use (`tool_call`):\n"
   ]
  },
  {
   "cell_type": "code",
   "execution_count": null,
   "id": "81a15f00",
   "metadata": {},
   "outputs": [
    {
     "ename": "TypeError",
     "evalue": "StreamHandler.__init__() got an unexpected keyword argument 'formatter'",
     "output_type": "error",
     "traceback": [
      "\u001b[31m---------------------------------------------------------------------------\u001b[39m",
      "\u001b[31mTypeError\u001b[39m                                 Traceback (most recent call last)",
      "\u001b[36mCell\u001b[39m\u001b[36m \u001b[39m\u001b[32mIn[14]\u001b[39m\u001b[32m, line 4\u001b[39m\n\u001b[32m      2\u001b[39m logger = logging.getLogger(\u001b[33m\"\u001b[39m\u001b[33meffectful.llm\u001b[39m\u001b[33m\"\u001b[39m)\n\u001b[32m      3\u001b[39m logger.setLevel(logging.INFO)\n\u001b[32m----> \u001b[39m\u001b[32m4\u001b[39m logger.addHandler(\u001b[43mlogging\u001b[49m\u001b[43m.\u001b[49m\u001b[43mStreamHandler\u001b[49m\u001b[43m(\u001b[49m\u001b[43msys\u001b[49m\u001b[43m.\u001b[49m\u001b[43mstdout\u001b[49m\u001b[43m,\u001b[49m\u001b[43m \u001b[49m\u001b[43mformatter\u001b[49m\u001b[43m=\u001b[49m\u001b[43mlogging\u001b[49m\u001b[43m.\u001b[49m\u001b[43mFormatter\u001b[49m\u001b[43m(\u001b[49m\u001b[33;43m\"\u001b[39;49m\u001b[38;5;132;43;01m%(levelname)s\u001b[39;49;00m\u001b[33;43m \u001b[39;49m\u001b[38;5;132;43;01m%(payload)s\u001b[39;49;00m\u001b[33;43m\"\u001b[39;49m\u001b[43m)\u001b[49m\u001b[43m)\u001b[49m)\n\u001b[32m      5\u001b[39m \u001b[38;5;66;03m# 2. Pass it to the handler\u001b[39;00m\n\u001b[32m      6\u001b[39m llm_logger = LLMLoggingHandler(logger=logger)  \u001b[38;5;66;03m# can also be LLMLoggingHandler()\u001b[39;00m\n",
      "\u001b[31mTypeError\u001b[39m: StreamHandler.__init__() got an unexpected keyword argument 'formatter'"
     ]
    }
   ],
   "source": [
    "# 1. Create a logger\n",
    "logger = logging.getLogger(\"effectful.llm\")\n",
    "logger.setLevel(logging.INFO)\n",
    "log_handler = logging.StreamHandler(sys.stdout)\n",
    "log_handler.setFormatter(logging.Formatter(\"%(levelname)s %(payload)s\"))\n",
    "logger.addHandler(log_handler)\n",
    "# 2. Pass it to the handler\n",
    "llm_logger = LLMLoggingHandler(logger=logger)  # can also be LLMLoggingHandler()\n",
    "\n",
    "# Avoid cache for demonstration\n",
    "try:\n",
    "    haiku.cache_clear()\n",
    "    limerick.cache_clear()\n",
    "except Exception:\n",
    "    pass\n",
    "\n",
    "with handler(provider), handler(llm_logger):\n",
    "    _ = haiku(\"fish3\")\n",
    "    _ = limerick(\"fish4\")"
   ]
  }
 ],
 "metadata": {
  "kernelspec": {
   "display_name": ".venv",
   "language": "python",
   "name": "python3"
  },
  "language_info": {
   "codemirror_mode": {
    "name": "ipython",
    "version": 3
   },
   "file_extension": ".py",
   "mimetype": "text/x-python",
   "name": "python",
   "nbconvert_exporter": "python",
   "pygments_lexer": "ipython3",
   "version": "3.13.7"
  }
 },
 "nbformat": 4,
 "nbformat_minor": 5
}
