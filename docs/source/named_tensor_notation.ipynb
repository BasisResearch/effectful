{
 "cells": [
  {
   "cell_type": "markdown",
   "metadata": {},
   "source": [
    "# Named Tensor Notation"
   ]
  },
  {
   "cell_type": "markdown",
   "metadata": {},
   "source": [
    "## Introduction\n",
    "\n",
    "**This is a translation of the [Named Tensor Notation (Chiang, Rush, Barak 2021)](https://namedtensor.github.io/) example from the [funsor](https://funsor.pyro.ai/) library to `effectful`. Much of the expository text is taken directly from the [original](https://github.com/pyro-ppl/funsor/blob/master/tutorials/named_tensor_notation_i.ipynb).**\n",
    "\n",
    "The mathematical notation with *named axes* introduced in [Named Tensor Notation (Chiang, Rush, Barak 2021)](https://namedtensor.github.io/) improves the readability of mathematical formulas involving multidimensional arrays. This includes tensor operations such as elementwise operations, reductions, contractions, renaming, indexing, and broadcasting. Part 1 covers examples from [2 Informal Overview](https://namedtensor.github.io/#sec:overview), [3.4.2 Advanced Indexing](https://namedtensor.github.io/#sec:examples), and [5 Formal Definitions](https://namedtensor.github.io/#sec:definitions)."
   ]
  },
  {
   "cell_type": "code",
   "execution_count": null,
   "metadata": {},
   "outputs": [],
   "source": [
    "%reload_ext autoreload\n",
    "%autoreload 2\n",
    "\n",
    "import functools\n",
    "from typing import Annotated, TypeVar\n",
    "\n",
    "import torch\n",
    "from torch import tensor\n",
    "\n",
    "from effectful.handlers.torch import sizesof, to_tensor\n",
    "from effectful.ops.semantics import evaluate, fvsof, handler\n",
    "from effectful.ops.syntax import Scoped, defop\n",
    "from effectful.ops.types import Operation\n",
    "\n",
    "S1, S2, S3 = TypeVar(\"S1\"), TypeVar(\"S2\"), TypeVar(\"S3\")\n",
    "\n",
    "\n",
    "def subst(term, substs):\n",
    "    with handler(\n",
    "        {k: functools.partial(lambda vv: vv, v) for (k, v) in substs.items()},\n",
    "    ):\n",
    "        return evaluate(term)\n",
    "\n",
    "\n",
    "def reduce(indexes, indexed_tensor, reducer):\n",
    "    \"\"\"Reduce an indexed tensor along one or more named dimensions.\n",
    "\n",
    "    Args:\n",
    "    - indexes: Names of dimensions to reduce.\n",
    "    - indexed_tensor: The tensor to reduce.\n",
    "    - reducer: A reduction function like `torch.sum`. Must take `tensor`, `dim`, and `keepdim` arguments.\n",
    "\n",
    "    Returns: A new indexed tensor with the specified dimensions reduced.\n",
    "\n",
    "    Example:\n",
    "    >>> width, height = defop(torch.Tensor, name='width'), defop(torch.Tensor, name='height')\n",
    "    >>> t = indexed(torch.ones(2, 3))[width(), height()]\n",
    "    >>> reduce([width], t, \"sum\")\n",
    "    indexed(tensor([2., 2., 2.]))[height()]\n",
    "    \"\"\"\n",
    "    fvars = fvsof(indexed_tensor)\n",
    "    indexes = [i for i in indexes if i in fvars]\n",
    "\n",
    "    # convert indexed dimensions to positional and flatten all new positional dims\n",
    "    t = to_tensor(indexed_tensor, *indexes)\n",
    "    t_flat = torch.flatten(t, 0, len(indexes) - 1)\n",
    "\n",
    "    # reduce dim 0 into the first index of dim 0, then return reduction\n",
    "    return reducer(t_flat, 0, keepdim=True)[0]\n",
    "\n",
    "\n",
    "@functools.cache\n",
    "def name_to_symbol(name: str) -> Operation[[], torch.Tensor]:\n",
    "    \"\"\"\n",
    "    Create a persistent Operation symbol to use as a dimension name.\n",
    "    We memoize this function because `defop` returns a fresh symbol each time it's called,\n",
    "    and we want to be able to safely run notebook cells out of order.\n",
    "    \"\"\"\n",
    "    return defop(torch.Tensor, name=name)"
   ]
  },
  {
   "cell_type": "markdown",
   "metadata": {},
   "source": [
    "## Named Tensors"
   ]
  },
  {
   "cell_type": "markdown",
   "metadata": {},
   "source": [
    "Each tensor axis is given a name:"
   ]
  },
  {
   "cell_type": "markdown",
   "metadata": {},
   "source": [
    "$$\n",
    "\\begin{aligned}\n",
    "  A &\\in \\mathbb{R}^{\\mathsf{\\vphantom{fg}height}[3] \\times \\mathsf{\\vphantom{fg}width}[3]} = \\mathbb{R}^{\\mathsf{\\vphantom{fg}width}[3] \\times \\mathsf{\\vphantom{fg}height}[3]} \\\\\n",
    "  A &= \\mathsf{\\vphantom{fg}height}\n",
    "  \\begin{array}[b]{@{}c@{}}\\mathsf{\\vphantom{fg}width}\\\\\\begin{bmatrix}\n",
    "    3 & 1 & 4 \\\\\n",
    "    1 & 5 & 9 \\\\\n",
    "    2 & 6 & 5\n",
    "  \\end{bmatrix}\\end{array} =\n",
    "  \\mathsf{\\vphantom{fg}width}\n",
    "  \\begin{array}[b]{@{}c@{}}\\mathsf{\\vphantom{fg}height}\\\\\\begin{bmatrix}\n",
    "    3 & 1 & 2 \\\\\n",
    "    1 & 5 & 6 \\\\\n",
    "    4 & 9 & 5\n",
    "  \\end{bmatrix}\\end{array}.\n",
    "\\end{aligned}\n",
    "$$"
   ]
  },
  {
   "cell_type": "code",
   "execution_count": 168,
   "metadata": {},
   "outputs": [
    {
     "data": {
      "text/plain": [
       "tensor([[3, 1, 4],\n",
       "        [1, 5, 9],\n",
       "        [2, 6, 5]])[height(), width()]"
      ]
     },
     "execution_count": 168,
     "metadata": {},
     "output_type": "execute_result"
    }
   ],
   "source": [
    "height, width = name_to_symbol(\"height\"), name_to_symbol(\"width\")\n",
    "t = tensor([[3, 1, 4], [1, 5, 9], [2, 6, 5]])\n",
    "A = t[height(), width()]\n",
    "A"
   ]
  },
  {
   "cell_type": "markdown",
   "metadata": {},
   "source": [
    "Access elements of $A$ using named indices:"
   ]
  },
  {
   "cell_type": "markdown",
   "metadata": {},
   "source": [
    "$$\n",
    "A_{\\mathsf{\\vphantom{fg}height}(1), \\mathsf{\\vphantom{fg}width}(3)} = A_{\\mathsf{\\vphantom{fg}width}(3), \\mathsf{\\vphantom{fg}height}(1)} = 4\n",
    "$$"
   ]
  },
  {
   "cell_type": "code",
   "execution_count": 169,
   "metadata": {},
   "outputs": [
    {
     "data": {
      "text/plain": [
       "tensor(4)"
      ]
     },
     "execution_count": 169,
     "metadata": {},
     "output_type": "execute_result"
    }
   ],
   "source": [
    "subst(A, {height: 0, width: 2})"
   ]
  },
  {
   "cell_type": "markdown",
   "metadata": {},
   "source": [
    "Partial indexing:"
   ]
  },
  {
   "cell_type": "markdown",
   "metadata": {},
   "source": [
    "$$\n",
    "\\begin{aligned}\n",
    "A_{\\mathsf{\\vphantom{fg}height}(1)} &= \\begin{array}[b]{@{}c@{}}\\mathsf{\\vphantom{fg}width}\\\\\n",
    "\\begin{bmatrix}\n",
    "  3 & 1 & 4\n",
    "\\end{bmatrix}\\end{array}\n",
    "&\n",
    "A_{\\mathsf{\\vphantom{fg}width}(3)} &= \\begin{array}[b]{@{}c@{}}\\mathsf{\\vphantom{fg}height}\\\\\n",
    "\\begin{bmatrix}\n",
    "  4 & 9 & 5\n",
    "\\end{bmatrix}\\end{array}.\n",
    "\\end{aligned}\n",
    "$$"
   ]
  },
  {
   "cell_type": "code",
   "execution_count": 170,
   "metadata": {},
   "outputs": [
    {
     "data": {
      "text/plain": [
       "tensor([3, 1, 4])[width()]"
      ]
     },
     "execution_count": 170,
     "metadata": {},
     "output_type": "execute_result"
    }
   ],
   "source": [
    "subst(A, {height: 0})"
   ]
  },
  {
   "cell_type": "code",
   "execution_count": 171,
   "metadata": {},
   "outputs": [
    {
     "data": {
      "text/plain": [
       "tensor([4, 9, 5])[height()]"
      ]
     },
     "execution_count": 171,
     "metadata": {},
     "output_type": "execute_result"
    }
   ],
   "source": [
    "subst(A, {width: 2})"
   ]
  },
  {
   "cell_type": "markdown",
   "metadata": {},
   "source": [
    "## Named Tensor Operations"
   ]
  },
  {
   "cell_type": "markdown",
   "metadata": {},
   "source": [
    "### Elementwise Operations and Broadcasting"
   ]
  },
  {
   "cell_type": "markdown",
   "metadata": {},
   "source": [
    "Elementwise operations:"
   ]
  },
  {
   "cell_type": "markdown",
   "metadata": {},
   "source": [
    "$$\n",
    "\\frac1{1+\\exp(-A)} = \\mathsf{\\vphantom{fg}height}\n",
    "\\begin{array}[b]{@{}c@{}}\\mathsf{\\vphantom{fg}width}\\\\\n",
    "\\begin{bmatrix}\n",
    "  \\frac 1{1+\\exp(-3)} & \\frac 1{1+\\exp(-1)} & \\frac 1{1+\\exp(-4)} \\\\[1ex]\n",
    "  \\frac 1{1+\\exp(-1)} & \\frac 1{1+\\exp(-5)} & \\frac 1{1+\\exp(-9)} \\\\[1ex]\n",
    "  \\frac 1{1+\\exp(-2)} & \\frac 1{1+\\exp(-6)} & \\frac 1{1+\\exp(-5)}\n",
    "\\end{bmatrix}\\end{array}.\n",
    "$$"
   ]
  },
  {
   "cell_type": "code",
   "execution_count": 172,
   "metadata": {},
   "outputs": [
    {
     "data": {
      "text/plain": [
       "tensor([[0.9526, 0.7311, 0.9820],\n",
       "        [0.7311, 0.9933, 0.9999],\n",
       "        [0.8808, 0.9975, 0.9933]])[height(), width()]"
      ]
     },
     "execution_count": 172,
     "metadata": {},
     "output_type": "execute_result"
    }
   ],
   "source": [
    "1 / (1 + (-A).exp())"
   ]
  },
  {
   "cell_type": "markdown",
   "metadata": {},
   "source": [
    "Tensors with different shapes are automatically broadcasted against each other before an operation is applied. Let"
   ]
  },
  {
   "cell_type": "markdown",
   "metadata": {},
   "source": [
    "$$\n",
    "\\begin{aligned}\n",
    "  x &\\in \\mathbb{R}^{\\mathsf{\\vphantom{fg}height}[3]} & y &\\in \\mathbb{R}^{\\mathsf{\\vphantom{fg}width}[3]} \\\\\n",
    "  x &= \\mathsf{\\vphantom{fg}height}\n",
    "  \\begin{array}[b]{@{}c@{}}\\\\\n",
    "  \\begin{bmatrix}\n",
    "    2 \\\\ 7 \\\\ 1\n",
    "  \\end{bmatrix}\\end{array} & \n",
    "  y &= \n",
    "  \\begin{array}[b]{@{}c@{}}\\mathsf{\\vphantom{fg}width}\\\\\\begin{bmatrix}\n",
    "    1 & 4 & 1\n",
    "  \\end{bmatrix}\\end{array}.\n",
    "\\end{aligned}\n",
    "$$"
   ]
  },
  {
   "cell_type": "code",
   "execution_count": 173,
   "metadata": {},
   "outputs": [],
   "source": [
    "x = tensor([2, 7, 1])[height()]\n",
    "y = tensor([1, 4, 1])[width()]"
   ]
  },
  {
   "cell_type": "markdown",
   "metadata": {},
   "source": [
    "Binary addition operation:"
   ]
  },
  {
   "cell_type": "markdown",
   "metadata": {},
   "source": [
    "$$\n",
    "\\begin{aligned}\n",
    "A + x &= \\mathsf{\\vphantom{fg}height}\n",
    "\\begin{array}[b]{@{}c@{}}\\mathsf{\\vphantom{fg}width}\\\\\\begin{bmatrix}\n",
    "  3+2 & 1+2 & 4+2 \\\\\n",
    "  1+7 & 5+7 & 9+7 \\\\\n",
    "  2+1 & 6+1 & 5+1\n",
    "\\end{bmatrix}\\end{array} &\n",
    "A + y &= \\mathsf{\\vphantom{fg}height}\n",
    "\\begin{array}[b]{@{}c@{}}\\mathsf{\\vphantom{fg}width}\\\\\\begin{bmatrix}\n",
    "  3+1 & 1+4 & 4+1 \\\\\n",
    "  1+1 & 5+4 & 9+1 \\\\\n",
    "  2+1 & 6+4 & 5+1\n",
    "\\end{bmatrix}\\end{array}.\n",
    "\\end{aligned}\n",
    "$$"
   ]
  },
  {
   "cell_type": "code",
   "execution_count": 174,
   "metadata": {},
   "outputs": [
    {
     "data": {
      "text/plain": [
       "tensor([[ 5,  3,  6],\n",
       "        [ 8, 12, 16],\n",
       "        [ 3,  7,  6]])[height(), width()]"
      ]
     },
     "execution_count": 174,
     "metadata": {},
     "output_type": "execute_result"
    }
   ],
   "source": [
    "A + x"
   ]
  },
  {
   "cell_type": "code",
   "execution_count": 175,
   "metadata": {},
   "outputs": [
    {
     "data": {
      "text/plain": [
       "tensor([[ 4,  5,  5],\n",
       "        [ 2,  9, 10],\n",
       "        [ 3, 10,  6]])[height(), width()]"
      ]
     },
     "execution_count": 175,
     "metadata": {},
     "output_type": "execute_result"
    }
   ],
   "source": [
    "A + y"
   ]
  },
  {
   "cell_type": "markdown",
   "metadata": {},
   "source": [
    "Binary multiplication operation:\n",
    "\n",
    "$$\n",
    "A \\odot x = \\mathsf{\\vphantom{fg}height}\n",
    "\\begin{array}[b]{@{}c@{}}\\mathsf{\\vphantom{fg}width}\\\\\\begin{bmatrix}\n",
    "  3\\cdot2 & 1\\cdot2 & 4\\cdot2 \\\\\n",
    "  1\\cdot7 & 5\\cdot7 & 9\\cdot7 \\\\\n",
    "  2\\cdot1 & 6\\cdot1 & 5\\cdot1\n",
    "\\end{bmatrix}\\end{array}\n",
    "$$"
   ]
  },
  {
   "cell_type": "code",
   "execution_count": 176,
   "metadata": {},
   "outputs": [
    {
     "data": {
      "text/plain": [
       "tensor([[ 6,  2,  8],\n",
       "        [ 7, 35, 63],\n",
       "        [ 2,  6,  5]])[height(), width()]"
      ]
     },
     "execution_count": 176,
     "metadata": {},
     "output_type": "execute_result"
    }
   ],
   "source": [
    "A * x"
   ]
  },
  {
   "cell_type": "markdown",
   "metadata": {},
   "source": [
    "Binary maximum operation:\n",
    "\n",
    "$$\n",
    "\\max(A, y) = \\mathsf{\\vphantom{fg}height}\n",
    "\\begin{array}[b]{@{}c@{}}\\mathsf{\\vphantom{fg}width}\\\\\\begin{bmatrix}\n",
    "  \\max(3, 1) & \\max(1, 4) & \\max(4, 1) \\\\\n",
    "  \\max(1, 1) & \\max(5, 4) & \\max(9, 1) \\\\\n",
    "  \\max(2, 1) & \\max(6, 4) & \\max(5, 1)\n",
    "\\end{bmatrix}\\end{array}.\n",
    "$$"
   ]
  },
  {
   "cell_type": "code",
   "execution_count": 177,
   "metadata": {},
   "outputs": [
    {
     "data": {
      "text/plain": [
       "tensor([[3, 4, 4],\n",
       "        [1, 5, 9],\n",
       "        [2, 6, 5]])[height(), width()]"
      ]
     },
     "execution_count": 177,
     "metadata": {},
     "output_type": "execute_result"
    }
   ],
   "source": [
    "torch.max(A, y)"
   ]
  },
  {
   "cell_type": "markdown",
   "metadata": {},
   "source": [
    "### Reductions"
   ]
  },
  {
   "cell_type": "markdown",
   "metadata": {},
   "source": [
    "Named axes can be reduced over by calling the `.reduce` method and specifying the [reduction operator](https://en.wikipedia.org/wiki/Reduction_Operator) and names of reduced axes. Note that reduction is defined only for operators that are associative and commutative."
   ]
  },
  {
   "cell_type": "markdown",
   "metadata": {},
   "source": [
    "$$\n",
    "\\sum\\limits_{\\substack{\\mathsf{\\vphantom{fg}height}}} A = \\sum_i A_{\\mathsf{\\vphantom{fg}height}(i)} = \\begin{array}[b]{@{}c@{}}\\mathsf{\\vphantom{fg}width}\\\\\n",
    "\\begin{bmatrix}\n",
    "  3+1+2 & 1+5+6 & 4+9+5\n",
    "\\end{bmatrix}\\end{array}.\n",
    "$$"
   ]
  },
  {
   "cell_type": "code",
   "execution_count": 178,
   "metadata": {},
   "outputs": [
    {
     "data": {
      "text/plain": [
       "tensor([ 6, 12, 18])[width()]"
      ]
     },
     "execution_count": 178,
     "metadata": {},
     "output_type": "execute_result"
    }
   ],
   "source": [
    "reduce([height], A, torch.sum)"
   ]
  },
  {
   "cell_type": "markdown",
   "metadata": {},
   "source": [
    "$$\n",
    "\\sum\\limits_{\\substack{\\mathsf{\\vphantom{fg}width}}} A = \\sum_j A_{\\mathsf{\\vphantom{fg}width}(j)} = \\begin{array}[b]{@{}c@{}}\\mathsf{\\vphantom{fg}height}\\\\\n",
    "\\begin{bmatrix}\n",
    "  3+1+4 & 1+5+9 & 2+6+5\n",
    "\\end{bmatrix}\\end{array}.\n",
    "$$"
   ]
  },
  {
   "cell_type": "code",
   "execution_count": 179,
   "metadata": {},
   "outputs": [
    {
     "data": {
      "text/plain": [
       "tensor([ 8, 15, 13])[height()]"
      ]
     },
     "execution_count": 179,
     "metadata": {},
     "output_type": "execute_result"
    }
   ],
   "source": [
    "reduce([width], A, torch.sum)"
   ]
  },
  {
   "cell_type": "markdown",
   "metadata": {},
   "source": [
    "Reduction over multiple axes:"
   ]
  },
  {
   "cell_type": "markdown",
   "metadata": {},
   "source": [
    "$$\n",
    "\\sum\\limits_{\\substack{\\mathsf{\\vphantom{fg}height}\\\\\n",
    " \\mathsf{\\vphantom{fg}width}}} A = \\sum_i \\sum_j A_{\\mathsf{\\vphantom{fg}height}(i),\\mathsf{\\vphantom{fg}width}(j)} = 3+1+4+1+5+9+2+6+5.\n",
    " $$"
   ]
  },
  {
   "cell_type": "code",
   "execution_count": 180,
   "metadata": {},
   "outputs": [
    {
     "data": {
      "text/plain": [
       "tensor(36)"
      ]
     },
     "execution_count": 180,
     "metadata": {},
     "output_type": "execute_result"
    }
   ],
   "source": [
    "reduce([height, width], A, torch.sum)"
   ]
  },
  {
   "cell_type": "markdown",
   "metadata": {},
   "source": [
    "Multiplication reduction:"
   ]
  },
  {
   "cell_type": "markdown",
   "metadata": {},
   "source": [
    "$$\n",
    "\\prod\\limits_{\\substack{\\mathsf{\\vphantom{fg}height}}} A = \\prod_i A_{\\mathsf{\\vphantom{fg}height}(i)} = \\begin{array}[b]{@{}c@{}}\\mathsf{\\vphantom{fg}width}\\\\\n",
    "\\begin{bmatrix}\n",
    "  3\\cdot1\\cdot2 & 1\\cdot5\\cdot6 & 4\\cdot9\\cdot5\n",
    "\\end{bmatrix}\\end{array}.\n",
    "$$"
   ]
  },
  {
   "cell_type": "code",
   "execution_count": 181,
   "metadata": {},
   "outputs": [
    {
     "data": {
      "text/plain": [
       "tensor([  6,  30, 180])[width()]"
      ]
     },
     "execution_count": 181,
     "metadata": {},
     "output_type": "execute_result"
    }
   ],
   "source": [
    "reduce([height], A, torch.prod)"
   ]
  },
  {
   "cell_type": "markdown",
   "metadata": {},
   "source": [
    "Max reduction:"
   ]
  },
  {
   "cell_type": "markdown",
   "metadata": {},
   "source": [
    "$$\n",
    "\\max\\limits_{\\substack{\\mathsf{\\vphantom{fg}height}}} A = \\max \\{A_{\\mathsf{\\vphantom{fg}height}(i)} \\mid 1 \\leq i \\leq n\\} = \\begin{array}[b]{@{}c@{}}\\mathsf{\\vphantom{fg}width}\\\\\n",
    "\\begin{bmatrix}\n",
    "  \\max(3, 1, 2) & \\max(1, 5, 6) & \\max(4, 9, 5)\n",
    "\\end{bmatrix}\\end{array}.\n",
    "$$"
   ]
  },
  {
   "cell_type": "code",
   "execution_count": 182,
   "metadata": {},
   "outputs": [
    {
     "data": {
      "text/plain": [
       "tensor([3, 6, 9])[width()]"
      ]
     },
     "execution_count": 182,
     "metadata": {},
     "output_type": "execute_result"
    }
   ],
   "source": [
    "reduce([height], A, torch.amax)"
   ]
  },
  {
   "cell_type": "markdown",
   "metadata": {},
   "source": [
    "### Contraction"
   ]
  },
  {
   "cell_type": "markdown",
   "metadata": {},
   "source": [
    "Contraction operation can be written as elementwise multiplication followed by summation over an axis:"
   ]
  },
  {
   "cell_type": "markdown",
   "metadata": {},
   "source": [
    "$$\n",
    "A \\mathbin{\\underset{\\substack{\\mathsf{\\vphantom{fg}width}}}{\\vphantom{fg}\\odot}} y = \\sum_j A_{\\mathsf{\\vphantom{fg}width}(j)} \\, y_{\\mathsf{\\vphantom{fg}width}(j)} = \\mathsf{\\vphantom{fg}height}\n",
    "\\begin{array}[b]{@{}c@{}}\\\\\\begin{bmatrix}\n",
    "  3\\cdot 1 + 1\\cdot 4 + 4\\cdot 1 \\\\\n",
    "  1\\cdot 1 + 5\\cdot 4 + 9\\cdot 1 \\\\\n",
    "  2\\cdot 1 + 6\\cdot 4 + 5\\cdot 1\n",
    "\\end{bmatrix}\\end{array}.\n",
    "$$"
   ]
  },
  {
   "cell_type": "code",
   "execution_count": 183,
   "metadata": {},
   "outputs": [
    {
     "data": {
      "text/plain": [
       "tensor([11, 30, 31])[height()]"
      ]
     },
     "execution_count": 183,
     "metadata": {},
     "output_type": "execute_result"
    }
   ],
   "source": [
    "reduce([width], A * y, torch.sum)"
   ]
  },
  {
   "cell_type": "markdown",
   "metadata": {},
   "source": [
    "Some other operations from linear algebra:"
   ]
  },
  {
   "cell_type": "markdown",
   "metadata": {},
   "source": [
    "$$\n",
    "x \\mathbin{\\underset{\\substack{\\mathsf{\\vphantom{fg}height}}}{\\vphantom{fg}\\odot}} x = \\sum_i x_{\\mathsf{\\vphantom{fg}height}(i)} \\, x_{\\mathsf{\\vphantom{fg}height}(i)} \\qquad \\text{inner product}\n",
    "$$"
   ]
  },
  {
   "cell_type": "code",
   "execution_count": 184,
   "metadata": {},
   "outputs": [
    {
     "data": {
      "text/plain": [
       "tensor(54)"
      ]
     },
     "execution_count": 184,
     "metadata": {},
     "output_type": "execute_result"
    }
   ],
   "source": [
    "reduce([height], x * x, torch.sum)"
   ]
  },
  {
   "cell_type": "markdown",
   "metadata": {},
   "source": [
    "$$\n",
    "[x \\odot y]_{\\mathsf{\\vphantom{fg}height}(i), \\mathsf{\\vphantom{fg}width}(j)} = x_{\\mathsf{\\vphantom{fg}height}(i)} \\, y_{\\mathsf{\\vphantom{fg}width}(j)} \\qquad \\text{outer product}\n",
    "$$"
   ]
  },
  {
   "cell_type": "code",
   "execution_count": 185,
   "metadata": {},
   "outputs": [
    {
     "data": {
      "text/plain": [
       "tensor([[ 2,  8,  2],\n",
       "        [ 7, 28,  7],\n",
       "        [ 1,  4,  1]])[height(), width()]"
      ]
     },
     "execution_count": 185,
     "metadata": {},
     "output_type": "execute_result"
    }
   ],
   "source": [
    "x * y"
   ]
  },
  {
   "cell_type": "markdown",
   "metadata": {},
   "source": [
    "$$\n",
    "A \\mathbin{\\underset{\\substack{\\mathsf{\\vphantom{fg}width}}}{\\vphantom{fg}\\odot}} y = \\sum_i A_{\\mathsf{\\vphantom{fg}width}(i)} \\, y_{\\mathsf{\\vphantom{fg}width}(i)} \\qquad \\text{matrix-vector product}\n",
    "$$"
   ]
  },
  {
   "cell_type": "code",
   "execution_count": 186,
   "metadata": {},
   "outputs": [
    {
     "data": {
      "text/plain": [
       "tensor([11, 30, 31])[height()]"
      ]
     },
     "execution_count": 186,
     "metadata": {},
     "output_type": "execute_result"
    }
   ],
   "source": [
    "reduce([width], A * y, torch.sum)"
   ]
  },
  {
   "cell_type": "markdown",
   "metadata": {},
   "source": [
    "$$\n",
    "x \\mathbin{\\underset{\\substack{\\mathsf{\\vphantom{fg}height}}}{\\vphantom{fg}\\odot}} A = \\sum_i x_{\\mathsf{\\vphantom{fg}height}(i)} \\, A_{\\mathsf{\\vphantom{fg}height}(i)} \\qquad \\text{vector-matrix product} \\\\\n",
    "$$"
   ]
  },
  {
   "cell_type": "code",
   "execution_count": 187,
   "metadata": {},
   "outputs": [
    {
     "data": {
      "text/plain": [
       "tensor([15, 43, 76])[width()]"
      ]
     },
     "execution_count": 187,
     "metadata": {},
     "output_type": "execute_result"
    }
   ],
   "source": [
    "reduce([height], x * A, torch.sum)"
   ]
  },
  {
   "cell_type": "markdown",
   "metadata": {},
   "source": [
    "$$\n",
    "A \\mathbin{\\underset{\\substack{\\mathsf{\\vphantom{fg}width}}}{\\vphantom{fg}\\odot}} B = \\sum_i A_{\\mathsf{\\vphantom{fg}width}(i)} \\odot B_{\\mathsf{\\vphantom{fg}width}(i)} \\qquad \\text{matrix-matrix product}~(B \\in \\mathbb{R}^{\\mathsf{\\vphantom{fg}width}\\times \\mathsf{\\vphantom{fg}width2}})\n",
    "$$"
   ]
  },
  {
   "cell_type": "code",
   "execution_count": 188,
   "metadata": {},
   "outputs": [
    {
     "data": {
      "text/plain": [
       "tensor([[ 46,  22,  39],\n",
       "        [100,  49,  59],\n",
       "        [ 76,  43,  40]])[height(), width2()]"
      ]
     },
     "execution_count": 188,
     "metadata": {},
     "output_type": "execute_result"
    }
   ],
   "source": [
    "width2 = name_to_symbol(\"width2\")\n",
    "B = tensor([[3, 2, 5], [5, 4, 0], [8, 3, 6]])[width(), width2()]\n",
    "reduce([width], A * B, torch.sum)"
   ]
  },
  {
   "cell_type": "markdown",
   "metadata": {},
   "source": [
    "Contraction can be generalized to other binary and reduction operations:"
   ]
  },
  {
   "cell_type": "markdown",
   "metadata": {},
   "source": [
    "$$\n",
    "\\max_{\\mathsf{\\vphantom{fg}width}} (A + y) = \\mathsf{\\vphantom{fg}height}\n",
    "\\begin{array}[b]{@{}c@{}}\\\\\\begin{bmatrix}\n",
    "  \\max(3+1, 1+4, 4+1) \\\\\n",
    "  \\max(1+1, 5+4, 9+1) \\\\\n",
    "  \\max(2+1, 6+4, 5+1)\n",
    "\\end{bmatrix}\\end{array}.\n",
    "$$"
   ]
  },
  {
   "cell_type": "code",
   "execution_count": 189,
   "metadata": {},
   "outputs": [
    {
     "data": {
      "text/plain": [
       "tensor([ 5, 10, 10])[height()]"
      ]
     },
     "execution_count": 189,
     "metadata": {},
     "output_type": "execute_result"
    }
   ],
   "source": [
    "reduce([width], A + y, torch.amax)"
   ]
  },
  {
   "cell_type": "markdown",
   "metadata": {},
   "source": [
    "### Renaming and Reshaping"
   ]
  },
  {
   "cell_type": "markdown",
   "metadata": {},
   "source": [
    "Renaming named dimensions is simple:"
   ]
  },
  {
   "cell_type": "markdown",
   "metadata": {},
   "source": [
    "$$\n",
    "A_{\\mathsf{\\vphantom{fg}height}\\rightarrow\\mathsf{\\vphantom{fg}height2}} = \\mathsf{\\vphantom{fg}height2}\n",
    "\\begin{array}[b]{@{}c@{}}\\mathsf{\\vphantom{fg}width}\n",
    "\\\\\\begin{bmatrix}\n",
    "  3 & 1 & 4 \\\\\n",
    "  1 & 5 & 9 \\\\\n",
    "  2 & 6 & 5 \\\\\n",
    "\\end{bmatrix}\\end{array}.\n",
    "$$"
   ]
  },
  {
   "cell_type": "code",
   "execution_count": 190,
   "metadata": {},
   "outputs": [
    {
     "name": "stdout",
     "output_type": "stream",
     "text": [
      "tensor([[3, 1, 4],\n",
      "        [1, 5, 9],\n",
      "        [2, 6, 5]])[height2(), width()]\n"
     ]
    }
   ],
   "source": [
    "height2 = name_to_symbol(\"height2\")\n",
    "A2 = subst(A, {height: height2()})\n",
    "print(A2)"
   ]
  },
  {
   "cell_type": "markdown",
   "metadata": {},
   "source": [
    "$$\n",
    "A_{(\\mathsf{\\vphantom{fg}height},\\mathsf{\\vphantom{fg}width})\\rightarrow\\mathsf{\\vphantom{fg}layer}} = \\begin{array}[b]{@{}c@{}}\\mathsf{\\vphantom{fg}layer}\\\\\n",
    "\\begin{bmatrix}\n",
    "    3 & 1 & 4 & 1 & 5 & 9 & 2 & 6 & 5\n",
    "\\end{bmatrix}\\end{array}\n",
    "$$"
   ]
  },
  {
   "cell_type": "code",
   "execution_count": 191,
   "metadata": {},
   "outputs": [
    {
     "name": "stdout",
     "output_type": "stream",
     "text": [
      "tensor(4)\n"
     ]
    }
   ],
   "source": [
    "layer = name_to_symbol(\"layer\")\n",
    "A_layer = subst(\n",
    "    A, {height: layer() // torch.tensor(3), width: layer() % torch.tensor(3)}\n",
    ")\n",
    "A_layer_2 = subst(A_layer, {layer: torch.tensor(2)})\n",
    "print(A_layer_2)"
   ]
  },
  {
   "cell_type": "markdown",
   "metadata": {},
   "source": [
    "$$\n",
    "A_{\\mathsf{\\vphantom{fg}layer}\\rightarrow(\\mathsf{\\vphantom{fg}height},\\mathsf{\\vphantom{fg}width})} = \\mathsf{\\vphantom{fg}height}\n",
    "\\begin{array}[b]{@{}c@{}}\\mathsf{\\vphantom{fg}width}\n",
    "\\\\\\begin{bmatrix}\n",
    "  3 & 1 & 4 \\\\\n",
    "  1 & 5 & 9 \\\\\n",
    "  2 & 6 & 5 \\\\\n",
    "\\end{bmatrix}\\end{array}.\n",
    "$$"
   ]
  },
  {
   "cell_type": "code",
   "execution_count": 192,
   "metadata": {},
   "outputs": [
    {
     "name": "stdout",
     "output_type": "stream",
     "text": [
      "torch_getitem(tensor([[3, 1, 4],\n",
      "        [1, 5, 9],\n",
      "        [2, 6, 5]]), ['floor_divide(add(mul(height2(), 3), fmod(width(), 3)), tensor(3))', 'fmod(add(mul(height2(), 3), fmod(width(), 3)), tensor(3))'])\n"
     ]
    }
   ],
   "source": [
    "A_layer_hw = subst(A_layer, {layer: height2() * 3 + width() % 3})\n",
    "print(A_layer_hw)"
   ]
  },
  {
   "cell_type": "markdown",
   "metadata": {},
   "source": [
    "## Advanced Indexing"
   ]
  },
  {
   "cell_type": "markdown",
   "metadata": {},
   "source": [
    "All of advanced indexing can be achieved through name substitutions."
   ]
  },
  {
   "cell_type": "markdown",
   "metadata": {},
   "source": [
    "$$\n",
    "\\mathop{\\underset{\\substack{\\mathsf{\\vphantom{fg}ax}}}{\\vphantom{fg}\\mathrm{index}}} \\colon \\mathbb{R}^{\\mathsf{\\vphantom{fg}ax}[n]} \\times [n] \\rightarrow \\mathbb{R}\\\\\n",
    "\\mathop{\\underset{\\substack{\\mathsf{\\vphantom{fg}ax}}}{\\vphantom{fg}\\mathrm{index}}}(A, i) = A_{\\mathsf{\\vphantom{fg}ax}(i)}.\n",
    "$$"
   ]
  },
  {
   "cell_type": "markdown",
   "metadata": {},
   "source": [
    "$$\n",
    "\\begin{aligned}\n",
    "  E &\\in \\mathbb{R}^{\\mathsf{\\vphantom{fg}vocab}[n] \\times \\mathsf{\\vphantom{fg}emb}} \\\\\n",
    "  i &\\in [n] \\\\\n",
    "  I &\\in [n]^{\\mathsf{\\vphantom{fg}seq}} \\\\\n",
    "  P &\\in \\mathbb{R}^{\\mathsf{\\vphantom{fg}seq}\\times \\mathsf{\\vphantom{fg}vocab}[n]}\n",
    "\\end{aligned}\n",
    "$$"
   ]
  },
  {
   "cell_type": "markdown",
   "metadata": {},
   "source": [
    "Partial indexing $\\mathop{\\underset{\\substack{\\mathsf{\\vphantom{fg}vocab}}}{\\vphantom{fg}\\mathrm{index}}}(E,i)$:"
   ]
  },
  {
   "cell_type": "code",
   "execution_count": 193,
   "metadata": {},
   "outputs": [
    {
     "data": {
      "text/plain": [
       "tensor([1, 3, 7])[emb()]"
      ]
     },
     "execution_count": 193,
     "metadata": {},
     "output_type": "execute_result"
    }
   ],
   "source": [
    "vocab, emb = name_to_symbol(\"vocab\"), name_to_symbol(\"emb\")\n",
    "E = torch.tensor([[2, 1, 5], [3, 4, 2], [1, 3, 7], [1, 4, 3], [5, 9, 2]])[\n",
    "    vocab(), emb()\n",
    "]\n",
    "subst(E, {vocab: 2})"
   ]
  },
  {
   "cell_type": "markdown",
   "metadata": {},
   "source": [
    "Integer array indexing $\\mathop{\\underset{\\substack{\\mathsf{\\vphantom{fg}vocab}}}{\\vphantom{fg}\\mathrm{index}}}(E,I)$:"
   ]
  },
  {
   "cell_type": "code",
   "execution_count": 194,
   "metadata": {},
   "outputs": [
    {
     "data": {
      "text/plain": [
       "tensor([[1, 4, 3],\n",
       "        [1, 3, 7],\n",
       "        [5, 9, 2],\n",
       "        [2, 1, 5]])[seq(), emb()]"
      ]
     },
     "execution_count": 194,
     "metadata": {},
     "output_type": "execute_result"
    }
   ],
   "source": [
    "seq = name_to_symbol(\"seq\")\n",
    "I0 = torch.tensor([3, 2, 4, 0])[seq()]\n",
    "subst(E, {vocab: I0})"
   ]
  },
  {
   "cell_type": "markdown",
   "metadata": {},
   "source": [
    "Gather operation $\\mathop{\\underset{\\substack{\\mathsf{\\vphantom{fg}vocab}}}{\\vphantom{fg}\\mathrm{index}}}(P,I)$:"
   ]
  },
  {
   "cell_type": "code",
   "execution_count": 195,
   "metadata": {},
   "outputs": [
    {
     "data": {
      "text/plain": [
       "tensor([1, 5, 2, 2])[seq()]"
      ]
     },
     "execution_count": 195,
     "metadata": {},
     "output_type": "execute_result"
    }
   ],
   "source": [
    "P = torch.tensor(\n",
    "    [[6, 2, 4, 2], [8, 2, 1, 3], [5, 5, 7, 0], [1, 3, 8, 2], [5, 9, 2, 3]]\n",
    ")[vocab(), seq()]\n",
    "\n",
    "subst(P, {vocab: I0})"
   ]
  },
  {
   "cell_type": "markdown",
   "metadata": {},
   "source": [
    "Indexing with two integer arrays:\n",
    "\n",
    "$$\n",
    "\\begin{aligned}\n",
    "  |\\mathsf{\\vphantom{fg}seq}| &= m \\\\\n",
    "  I_1 &= [m]^\\mathsf{\\vphantom{fg}subseq}\\\\\n",
    "  I_2 &= [n]^\\mathsf{\\vphantom{fg}subseq}\\\\\n",
    "  S &= \\mathop{\\underset{\\substack{\\mathsf{\\vphantom{fg}vocab}}}{\\vphantom{fg}\\mathrm{index}}}(\\mathop{\\underset{\\substack{\\mathsf{\\vphantom{fg}seq}}}{\\vphantom{fg}\\mathrm{index}}}(P, I_1), I_2) \\in \\mathbb{R}^{\\mathsf{\\vphantom{fg}subseq}} \\\\\n",
    "  S_{\\mathsf{\\vphantom{fg}subseq}(i)} &= P_{\\mathsf{\\vphantom{fg}seq}(I_{\\mathsf{\\vphantom{fg}subseq}(i)}), \\mathsf{\\vphantom{fg}vocab}(I_{\\mathsf{\\vphantom{fg}subseq}(i)})}.\n",
    "\\end{aligned}\n",
    "$$"
   ]
  },
  {
   "cell_type": "code",
   "execution_count": 196,
   "metadata": {},
   "outputs": [
    {
     "data": {
      "text/plain": [
       "tensor([3, 4, 5])[subseq()]"
      ]
     },
     "execution_count": 196,
     "metadata": {},
     "output_type": "execute_result"
    }
   ],
   "source": [
    "subseq = name_to_symbol(\"subseq\")\n",
    "I1 = torch.tensor([1, 2, 0])[subseq()]\n",
    "I2 = torch.tensor([3, 0, 4])[subseq()]\n",
    "\n",
    "subst(P, {seq: I1, vocab: I2})"
   ]
  },
  {
   "cell_type": "markdown",
   "metadata": {},
   "source": [
    "## Constructing Neural Networks"
   ]
  },
  {
   "cell_type": "markdown",
   "metadata": {},
   "source": [
    "### Feedforward"
   ]
  },
  {
   "cell_type": "markdown",
   "metadata": {},
   "source": [
    "\\begin{aligned}\n",
    "  X^0 &\\in \\mathbb{R}^{\\mathsf{\\vphantom{fg}input}} \\\\\n",
    "  X^1 &= \\sigma(W^1 \\mathbin{\\underset{\\substack{\\mathsf{\\vphantom{fg}input}}}{\\vphantom{fg}\\odot}} X^0 + b^1) & W^1 &\\in \\mathbb{R}^{\\mathsf{\\vphantom{fg}hidden}_1 \\times \\mathsf{\\vphantom{fg}input}} & b^1 &\\in \\mathbb{R}^{\\mathsf{\\vphantom{fg}hidden}_1} \\\\\n",
    "  X^2 &= \\sigma(W^2 \\mathbin{\\underset{\\substack{\\mathsf{\\vphantom{fg}hidden}_1}}{\\vphantom{fg}\\odot}} X^1 + b^2) & W^2 &\\in \\mathbb{R}^{\\mathsf{\\vphantom{fg}hidden}_2 \\times \\mathsf{\\vphantom{fg}hidden}_1} & b^2 &\\in \\mathbb{R}^{\\mathsf{\\vphantom{fg}hidden}_2} \\\\\n",
    "  X^3 &= \\sigma(W^3 \\mathbin{\\underset{\\substack{\\mathsf{\\vphantom{fg}hidden}_2}}{\\vphantom{fg}\\odot}} X^2 + b^3) & W^3 &\\in \\mathbb{R}^{\\mathsf{\\vphantom{fg}out}\\times \\mathsf{\\vphantom{fg}hidden}_2} & b^3 &\\in \\mathbb{R}^{\\mathsf{\\vphantom{fg}out}}\n",
    "\\end{aligned}"
   ]
  },
  {
   "cell_type": "markdown",
   "metadata": {},
   "source": [
    "$$\n",
    "\\begin{aligned}\n",
    "x &\\in \\mathbb{R}^{\\mathsf{\\vphantom{fg}layer}[n_0]} \\\\\n",
    "W^l &\\in \\mathbb{R}^{\\mathsf{\\vphantom{fg}layer^2}[n_l] \\times \\mathsf{\\vphantom{fg}layer}[n_{l-1}]} \\\\\n",
    "  b^l &\\in \\mathbb{R}^{\\mathsf{\\vphantom{fg}layer^2}[n_l]} \\\\\n",
    "  \\text{FullConn}^l(x) &= \\sigma\\left(W^l \\mathbin{\\underset{\\substack{\\mathsf{\\vphantom{fg}layer}}}{\\vphantom{fg}\\odot}} x + b^l\\right)_{\\mathsf{\\vphantom{fg}layer^2}\\rightarrow\\mathsf{\\vphantom{fg}layer}}\n",
    "\\end{aligned}\n",
    "$$"
   ]
  },
  {
   "cell_type": "code",
   "execution_count": 197,
   "metadata": {},
   "outputs": [],
   "source": [
    "@defop\n",
    "def FullConn(\n",
    "    x: Annotated[torch.Tensor, Scoped[S1]],\n",
    "    W: Annotated[torch.Tensor, Scoped[S1]],\n",
    "    b: Annotated[torch.Tensor, Scoped[S1]],\n",
    "    layer: Annotated[Operation[[], torch.Tensor], Scoped[S1]],\n",
    ") -> torch.Tensor:\n",
    "    return reduce([layer], torch.sigmoid(torch.mul(W, x)), torch.sum) + b"
   ]
  },
  {
   "cell_type": "code",
   "execution_count": 198,
   "metadata": {},
   "outputs": [
    {
     "data": {
      "text/plain": [
       "tensor([49.6214, 49.1620, 46.7234, 48.5531, 49.5717, 49.0428, 49.3330, 50.5993,\n",
       "        50.1553, 49.8182, 50.9401, 49.1957, 49.4627, 51.3990, 50.4449, 48.4399,\n",
       "        49.1624, 53.8431, 49.3302, 47.4099, 49.5286, 50.8544, 50.5048, 54.8563,\n",
       "        48.1085, 51.1001, 49.7631, 52.9175, 48.7131, 50.6819, 49.1625, 50.3209])[output()]"
      ]
     },
     "execution_count": 198,
     "metadata": {},
     "output_type": "execute_result"
    }
   ],
   "source": [
    "input_size = 100\n",
    "output_size = 32\n",
    "input_, output = name_to_symbol(\"input\"), name_to_symbol(\"output\")\n",
    "\n",
    "W = torch.randn(input_size, output_size)[input_(), output()]\n",
    "b = torch.randn(output_size)[output()]\n",
    "X = torch.randn(input_size)[input_()]\n",
    "\n",
    "FullConn(X, W, b, input_)"
   ]
  },
  {
   "cell_type": "markdown",
   "metadata": {},
   "source": [
    "### Recurrent"
   ]
  },
  {
   "cell_type": "markdown",
   "metadata": {},
   "source": [
    "$$\n",
    "\\begin{aligned}\n",
    "x^{t} &\\in \\mathbb{R}^{\\mathsf{\\vphantom{fg}input}} & t &= 1, \\ldots, n \\\\\n",
    "W^{\\text{h}} &\\in \\mathbb{R}^{\\mathsf{\\vphantom{fg}hidden}\\times \\mathsf{\\vphantom{fg}hidden}^\\prime} & |\\mathsf{\\vphantom{fg}hidden}| &= |\\mathsf{\\vphantom{fg}hidden}^\\prime| \\\\\n",
    "W^{\\text{i}} &\\in \\mathbb{R}^{\\mathsf{\\vphantom{fg}input}\\times \\mathsf{\\vphantom{fg}hidden}^\\prime} \\\\\n",
    "b &\\in \\mathbb{R}^{\\mathsf{\\vphantom{fg}hidden}^\\prime} \\\\\n",
    "h^{0} &\\in \\mathbb{R}^{\\mathsf{\\vphantom{fg}hidden}} \\\\\n",
    "h^{t} &= \\sigma\\left( W^{\\text{h}} \\mathbin{\\underset{\\substack{\\mathsf{\\vphantom{fg}hidden}}}{\\vphantom{fg}\\odot}} h^{t-1} + W^{\\text{i}} \\mathbin{\\underset{\\substack{\\mathsf{\\vphantom{fg}input}}}{\\vphantom{fg}\\odot}} x^{t} + b \\right)_{\\mathsf{\\vphantom{fg}hidden}^\\prime\\rightarrow\\mathsf{\\vphantom{fg}hidden}} & t &= 1, \\ldots, n\n",
    "\\end{aligned}\n",
    "$$"
   ]
  },
  {
   "cell_type": "code",
   "execution_count": 199,
   "metadata": {},
   "outputs": [],
   "source": [
    "@defop\n",
    "def RNN(\n",
    "    x: Annotated[torch.Tensor, Scoped[S1]],\n",
    "    Wh: Annotated[torch.Tensor, Scoped[S1]],\n",
    "    Wi: Annotated[torch.Tensor, Scoped[S1]],\n",
    "    b: Annotated[torch.Tensor, Scoped[S1]],\n",
    "    h: Annotated[torch.Tensor, Scoped[S1]],\n",
    "    hidden: Annotated[Operation[[], torch.Tensor], Scoped[S1]],\n",
    "    layer: Annotated[Operation[[], torch.Tensor], Scoped[S1]],\n",
    ") -> torch.Tensor:\n",
    "    return torch.sigmoid(\n",
    "        reduce([hidden], Wh * h, torch.sum) + reduce([layer], Wi * x, torch.sum) + b\n",
    "    )"
   ]
  },
  {
   "cell_type": "code",
   "execution_count": 200,
   "metadata": {},
   "outputs": [
    {
     "data": {
      "text/plain": [
       "tensor([5.8642e-13, 9.8138e-01, 9.9968e-01, 9.9999e-01, 3.2927e-05, 9.9999e-01,\n",
       "        6.9062e-04, 5.1937e-02, 1.2397e-05, 9.9914e-01, 7.7800e-03, 1.0000e+00,\n",
       "        5.7578e-04, 2.0352e-02, 1.5684e-02, 8.6293e-05, 2.7781e-01, 4.2824e-02,\n",
       "        9.9636e-01, 9.9777e-01, 2.8032e-01, 1.9554e-02, 9.9816e-01, 2.5286e-02,\n",
       "        1.9089e-04, 2.7259e-09, 9.9995e-01, 9.3336e-01, 6.4968e-07, 3.3902e-05,\n",
       "        4.0663e-01, 1.2525e-01])[hidden2()]"
      ]
     },
     "execution_count": 200,
     "metadata": {},
     "output_type": "execute_result"
    }
   ],
   "source": [
    "input_size = 100\n",
    "hidden_size = 32\n",
    "input_, hidden, hidden2 = map(name_to_symbol, (\"input\", \"hidden\", \"hidden2\"))\n",
    "\n",
    "Wh = torch.randn(hidden_size, hidden_size)[hidden(), hidden2()]\n",
    "Wi = torch.randn(input_size, hidden_size)[input_(), hidden2()]\n",
    "b = torch.randn(hidden_size)[hidden2()]\n",
    "h = torch.randn(hidden_size)[hidden()]\n",
    "x = torch.randn(input_size)[input_()]\n",
    "\n",
    "RNN(x, Wh, Wi, b, h, hidden, input_)"
   ]
  },
  {
   "cell_type": "markdown",
   "metadata": {},
   "source": [
    "### Attention"
   ]
  },
  {
   "cell_type": "code",
   "execution_count": 201,
   "metadata": {},
   "outputs": [],
   "source": [
    "@defop\n",
    "def Softmax(\n",
    "    x: Annotated[torch.Tensor, Scoped[S1]],\n",
    "    ax: Annotated[Operation[[], torch.Tensor], Scoped[S1]],\n",
    "    ax2: Annotated[Operation[[], torch.Tensor], Scoped[S1]],\n",
    ") -> torch.Tensor:\n",
    "    x = subst(x, {ax: ax2()})\n",
    "    y = x - reduce([ax2], x, torch.logsumexp)\n",
    "    return y.exp()"
   ]
  },
  {
   "cell_type": "markdown",
   "metadata": {},
   "source": [
    "\\begin{aligned}\n",
    "  \\text{Attention} \\colon \\mathbb{R}^{\\mathsf{\\vphantom{fg}key}} \\times \\mathbb{R}^{\\mathsf{\\vphantom{fg}seq}\\times\\mathsf{\\vphantom{fg}key}} \\times \\mathbb{R}^{\\mathsf{\\vphantom{fg}seq}\\times\\mathsf{\\vphantom{fg}val}} \\times \\mathbb{R}^{\\mathsf{\\vphantom{fg}seq}} &\\rightarrow \\mathbb{R}^{\\mathsf{\\vphantom{fg}val}} \\\\\n",
    "\\text{Attention}(Q, K, V, M) &= \\mathop{\\underset{\\substack{\\mathsf{\\vphantom{fg}seq}}}{\\vphantom{fg}\\mathrm{softmax}}} \\left( \\frac{Q \\mathbin{\\underset{\\substack{\\mathsf{\\vphantom{fg}key}}}{\\vphantom{fg}\\odot}} K}{\\sqrt{|\\mathsf{\\vphantom{fg}key}|}} + M \\right) \\mathbin{\\underset{\\substack{\\mathsf{\\vphantom{fg}seq}}}{\\vphantom{fg}\\odot}} V.\n",
    "\\end{aligned}"
   ]
  },
  {
   "cell_type": "code",
   "execution_count": 202,
   "metadata": {},
   "outputs": [],
   "source": [
    "@defop\n",
    "def Attention(\n",
    "    Q: Annotated[torch.Tensor, Scoped[S1]],\n",
    "    K: Annotated[torch.Tensor, Scoped[S1]],\n",
    "    V: Annotated[torch.Tensor, Scoped[S1]],\n",
    "    M: Annotated[torch.Tensor, Scoped[S1]],\n",
    "    key: Annotated[Operation[[], torch.Tensor], Scoped[S1]],\n",
    "    seq: Annotated[Operation[[], torch.Tensor], Scoped[S1]],\n",
    "    seq2: Annotated[Operation[[], torch.Tensor], Scoped[S1]],\n",
    ") -> torch.Tensor:\n",
    "    x = reduce([key], Q * K, torch.sum) / sizesof(Q)[key] + M\n",
    "    return reduce([seq], Softmax(x, seq, seq2) * V, torch.sum)"
   ]
  },
  {
   "cell_type": "code",
   "execution_count": 203,
   "metadata": {},
   "outputs": [
    {
     "data": {
      "text/plain": [
       "tensor([[0.1311, 0.2201, 0.2817, 0.1219, 0.1279],\n",
       "        [0.7969, 1.3385, 1.7125, 0.7410, 0.7779],\n",
       "        [0.0980, 0.1647, 0.2107, 0.0912, 0.0957]])[seq2(), val()]"
      ]
     },
     "execution_count": 203,
     "metadata": {},
     "output_type": "execute_result"
    }
   ],
   "source": [
    "key_size = 10\n",
    "val_size = 5\n",
    "seq_size = 3\n",
    "\n",
    "key, val, seq, seq2 = map(name_to_symbol, (\"key\", \"val\", \"seq\", \"seq2\"))\n",
    "Q = torch.randn(key_size)[key()]\n",
    "K = torch.randn(key_size, seq_size)[key(), seq()]\n",
    "V = torch.randn(seq_size, val_size)[seq(), val()]\n",
    "M = torch.randn(seq_size)[seq()]\n",
    "\n",
    "Attention(Q, K, V, M, key, seq, seq2)"
   ]
  },
  {
   "cell_type": "markdown",
   "metadata": {},
   "source": [
    "### Convolution"
   ]
  },
  {
   "cell_type": "markdown",
   "metadata": {},
   "source": [
    "\\begin{aligned}\n",
    "  \\mathop{\\underset{\\substack{\\mathsf{\\vphantom{fg}seq}\\\\ \\mathsf{\\vphantom{fg}kernel}}}{\\vphantom{fg}\\mathrm{unroll}}} \\colon \\mathbb{R}^{\\mathsf{\\vphantom{fg}seq}[n]} &\\rightarrow \\mathbb{R}^{\\mathsf{\\vphantom{fg}seq}[n-|\\mathsf{\\vphantom{fg}kernel}|+1], \\mathsf{\\vphantom{fg}kernel}} \\\\\n",
    "  \\mathop{\\underset{\\substack{\\mathsf{\\vphantom{fg}seq}\\\\ \\mathsf{\\vphantom{fg}kernel}}}{\\vphantom{fg}\\mathrm{unroll}}} X &= Y,\\ \\text{where} \\\\\n",
    "  Y_{\\mathsf{\\vphantom{fg}seq}(i), \\mathsf{\\vphantom{fg}kernel}(j)} &= X_{\\mathsf{\\vphantom{fg}seq}(i+j - 1)}.\n",
    "\\end{aligned}"
   ]
  },
  {
   "cell_type": "code",
   "execution_count": null,
   "metadata": {},
   "outputs": [],
   "source": [
    "@defop\n",
    "def Unroll(\n",
    "    x: Annotated[torch.Tensor, Scoped[S1]],\n",
    "    seq: Annotated[Operation[[], torch.Tensor], Scoped[S1]],\n",
    "    k: int,\n",
    "    kernel: Operation[[], torch.Tensor],\n",
    "    seq2: Operation[[], torch.Tensor],\n",
    ") -> torch.Tensor:\n",
    "    return to_tensor(x, seq).unfold(0, k, 1)[seq2(), kernel()]"
   ]
  },
  {
   "cell_type": "markdown",
   "metadata": {},
   "source": [
    "\\begin{aligned}\n",
    "\\text{Conv1d} \\colon \\mathbb{R}^{\\mathsf{\\vphantom{fg}chans}\\times \\mathsf{\\vphantom{fg}seq}[n]} &\\rightarrow \\mathbb{R}^{\\mathsf{\\vphantom{fg}seq}[n^\\prime]} \\\\\n",
    "\\text{Conv1d}(X; W, b) &= W \\mathbin{\\underset{\\substack{\\mathsf{\\vphantom{fg}chans}\\\\ \\mathsf{\\vphantom{fg}kernel}}}{\\vphantom{fg}\\odot}} \\mathop{\\underset{\\substack{\\mathsf{\\vphantom{fg}seq}\\\\ \\mathsf{\\vphantom{fg}kernel}}}{\\vphantom{fg}\\mathrm{unroll}}} X + b\n",
    "\\end{aligned}"
   ]
  },
  {
   "cell_type": "markdown",
   "metadata": {},
   "source": [
    "\\begin{aligned}\n",
    "W &\\in \\mathbb{R}^{\\mathsf{\\vphantom{fg}chans}\\times \\mathsf{\\vphantom{fg}kernel}} \\\\\n",
    "b &\\in \\mathbb{R}\\\\\n",
    "\\end{aligned}"
   ]
  },
  {
   "cell_type": "code",
   "execution_count": 205,
   "metadata": {},
   "outputs": [],
   "source": [
    "@defop\n",
    "def Conv1d(\n",
    "    X: Annotated[torch.Tensor, Scoped[S1 | S2]],\n",
    "    W: Annotated[torch.Tensor, Scoped[S2]],\n",
    "    b: torch.Tensor,\n",
    "    chans: Annotated[Operation[[], torch.Tensor], Scoped[S1 | S2]],\n",
    "    k: int,\n",
    "    kernel: Annotated[Operation[[], torch.Tensor], Scoped[S1 | S2]],\n",
    "    seq: Annotated[Operation[[], torch.Tensor], Scoped[S1]],\n",
    "    seq2: Operation[[], torch.Tensor],\n",
    ") -> torch.Tensor:\n",
    "    y = W * Unroll(X, seq, k, kernel, seq2)\n",
    "    return reduce([chans, kernel], y, torch.sum) + b"
   ]
  },
  {
   "cell_type": "code",
   "execution_count": 206,
   "metadata": {},
   "outputs": [
    {
     "data": {
      "text/plain": [
       "tensor([ 1.3124,  0.1102, -6.1440, -1.6563, -5.7074,  3.8315, -2.5586, -3.6780])[seq2()]"
      ]
     },
     "execution_count": 206,
     "metadata": {},
     "output_type": "execute_result"
    }
   ],
   "source": [
    "chans_size = 3\n",
    "seq_size = 10\n",
    "kernel_size = 3\n",
    "\n",
    "chans, kernel, seq, seq2 = map(name_to_symbol, (\"chans\", \"kernel\", \"seq\", \"seq2\"))\n",
    "\n",
    "X = torch.randn(chans_size, seq_size)[chans(), seq()]\n",
    "W = torch.randn(chans_size, kernel_size)[chans(), kernel()]\n",
    "b = torch.randn(tuple())\n",
    "\n",
    "Conv1d(X, W, b, chans, 3, kernel, seq, seq2)"
   ]
  },
  {
   "cell_type": "markdown",
   "metadata": {},
   "source": [
    "$$\n",
    "\\begin{aligned}\n",
    "  \\text{Conv2d} \\colon \\mathbb{R}^{\\mathsf{\\vphantom{fg}chans}\\times \\mathsf{\\vphantom{fg}height}[h] \\times \\mathsf{\\vphantom{fg}width}[w]}\n",
    "  &\\rightarrow \\mathbb{R}^{\\mathsf{\\vphantom{fg}height}[h2] \\times \\mathsf{\\vphantom{fg}width}[w2]} \\\\\n",
    "  \\text{Conv2d}(X; W, b) &= W \\mathbin{\\underset{\\substack{\\mathsf{\\vphantom{fg}chans}\\\\ \\mathsf{\\vphantom{fg}kh}, \\mathsf{\\vphantom{fg}kw}}}{\\vphantom{fg}\\odot}} \\mathop{\\underset{\\substack{\\mathsf{\\vphantom{fg}height}\\\\ \\mathsf{\\vphantom{fg}kh}}}{\\vphantom{fg}\\mathrm{unroll}}} \\mathop{\\underset{\\substack{\\mathsf{\\vphantom{fg}width}\\\\\\mathsf{\\vphantom{fg}kw}}}{\\vphantom{fg}\\mathrm{unroll}}} X + b\\end{aligned}\n",
    "$$"
   ]
  },
  {
   "cell_type": "markdown",
   "metadata": {},
   "source": [
    "$$\n",
    "\\begin{aligned}\n",
    "W &\\in \\mathbb{R}^{\\mathsf{\\vphantom{fg}chans}\\times \\mathsf{\\vphantom{fg}kh}\\times \\mathsf{\\vphantom{fg}kw}} \\\\\n",
    "b &\\in \\mathbb{R}.\n",
    "\\end{aligned}\n",
    "$$"
   ]
  },
  {
   "cell_type": "code",
   "execution_count": 207,
   "metadata": {},
   "outputs": [],
   "source": [
    "@defop\n",
    "def Conv2d(\n",
    "    X: Annotated[torch.Tensor, Scoped[S1 | S2]],\n",
    "    W: Annotated[torch.Tensor, Scoped[S2]],\n",
    "    b: torch.Tensor,\n",
    "    chans: Annotated[Operation[[], torch.Tensor], Scoped[S2]],\n",
    "    kh_size: int,\n",
    "    kh: Annotated[Operation[[], torch.Tensor], Scoped[S1 | S2]],\n",
    "    height: Annotated[Operation[[], torch.Tensor], Scoped[S1]],\n",
    "    height2: Operation[[], torch.Tensor],\n",
    "    kw_size: int,\n",
    "    kw: Annotated[Operation[[], torch.Tensor], Scoped[S1 | S2]],\n",
    "    width: Annotated[Operation[[], torch.Tensor], Scoped[S1]],\n",
    "    width2: Operation[[], torch.Tensor],\n",
    ") -> torch.Tensor:\n",
    "    y = W * Unroll(Unroll(X, width, kw_size, kw, width2), height, kh_size, kh, height2)\n",
    "    return reduce([chans, kh, kw], y, torch.sum) + b"
   ]
  },
  {
   "cell_type": "code",
   "execution_count": 208,
   "metadata": {},
   "outputs": [
    {
     "data": {
      "text/plain": [
       "tensor([[ 3.1259, -2.5779, -8.5917, -5.2500,  0.9331, -1.0349, -2.5460, -7.8026],\n",
       "        [-2.4204,  2.6947, -4.3422, -4.1924, -1.6958, -4.8411,  6.3812,  3.1479],\n",
       "        [ 8.0389, -3.5227,  8.6371, -7.9508,  3.3021, -4.4417,  4.8447, -7.3063],\n",
       "        [ 7.1624, -0.9561,  6.7281, -1.8662,  1.8822,  0.0897,  1.0368, -4.5366],\n",
       "        [ 3.3856,  0.3371, -4.8247, -2.9813, 10.4098, -1.9862, -4.5428, -2.5016]])[width2(), height2()]"
      ]
     },
     "execution_count": 208,
     "metadata": {},
     "output_type": "execute_result"
    }
   ],
   "source": [
    "chans_size = 3\n",
    "kh_size = 3\n",
    "kw_size = 4\n",
    "height_size = 10\n",
    "width_size = 8\n",
    "\n",
    "chans, kh, kw, height, width, height2, width2 = map(\n",
    "    name_to_symbol, (\"chans\", \"kh\", \"kw\", \"height\", \"width\", \"height2\", \"width2\")\n",
    ")\n",
    "\n",
    "X = torch.randn(chans_size, height_size, width_size)[chans(), height(), width()]\n",
    "W = torch.randn(chans_size, kh_size, kw_size)[chans(), kh(), kw()]\n",
    "b = torch.randn(tuple())\n",
    "\n",
    "Conv2d(X, W, b, chans, kh_size, kh, height, height2, kw_size, kw, width, width2)"
   ]
  },
  {
   "cell_type": "markdown",
   "metadata": {},
   "source": [
    "### Max Pooling"
   ]
  },
  {
   "cell_type": "markdown",
   "metadata": {},
   "source": [
    "$$\n",
    "\\begin{aligned}\n",
    "  \\mathop{\\underset{\\substack{\\mathsf{\\vphantom{fg}seq},\\mathsf{\\vphantom{fg}kernel}}}{\\vphantom{fg}\\mathrm{pool}}} \\colon \\mathbb{R}^{\\mathsf{\\vphantom{fg}seq}[n]} &\\rightarrow \\mathbb{R}^{\\mathsf{\\vphantom{fg}seq}[n/|\\mathsf{\\vphantom{fg}kernel}|],\\mathsf{\\vphantom{fg}kernel}} \\\\\n",
    "  \\mathop{\\underset{\\substack{\\mathsf{\\vphantom{fg}seq},\\mathsf{\\vphantom{fg}kernel}}}{\\vphantom{fg}\\mathrm{pool}}} X &= Y,\\ \\text{where} \\\\\n",
    "  Y_{\\mathsf{\\vphantom{fg}seq}(i), \\mathsf{\\vphantom{fg}kernel}(j)} &= X_{\\mathsf{\\vphantom{fg}seq}((i-1) \\cdot |\\mathsf{\\vphantom{fg}kernel}| + j)}.\n",
    "\\end{aligned}\n",
    "$$"
   ]
  },
  {
   "cell_type": "code",
   "execution_count": null,
   "metadata": {},
   "outputs": [],
   "source": [
    "@defop\n",
    "def Pool(\n",
    "    x: Annotated[torch.Tensor, Scoped[S1]],\n",
    "    seq: Annotated[Operation[[], torch.Tensor], Scoped[S1]],\n",
    "    k: int,\n",
    "    kernel: Operation[[], torch.Tensor],\n",
    "    seq2: Operation[[], torch.Tensor],\n",
    ") -> torch.Tensor:\n",
    "    xp = to_tensor(x, seq)\n",
    "    return xp.reshape((xp.shape[0] // k, k) + xp.shape[1:])[seq2(), kernel()]"
   ]
  },
  {
   "cell_type": "code",
   "execution_count": 210,
   "metadata": {},
   "outputs": [
    {
     "data": {
      "text/plain": [
       "tensor([[ 0.1942,  2.0733],\n",
       "        [ 0.1388,  0.7844],\n",
       "        [-0.8563, -0.3301],\n",
       "        [ 1.0066, -0.4537],\n",
       "        [ 1.3682, -0.9057]])[seq2(), kernel()]"
      ]
     },
     "execution_count": 210,
     "metadata": {},
     "output_type": "execute_result"
    }
   ],
   "source": [
    "seq_size = 10\n",
    "seq, seq2, kernel = map(name_to_symbol, (\"seq\", \"seq2\", \"kernel\"))\n",
    "\n",
    "X = torch.randn(seq_size)[seq()]\n",
    "Y = Pool(X, seq, 2, kernel, seq2)\n",
    "Y"
   ]
  },
  {
   "cell_type": "markdown",
   "metadata": {},
   "source": [
    "$$\n",
    "\\begin{aligned}\n",
    "\\text{MaxPool1d}_{k} \\colon \\mathbb{R}^{\\mathsf{\\vphantom{fg}seq}[n]} &\\rightarrow \\mathbb{R}^{\\mathsf{\\vphantom{fg}seq}[n/k]} \\\\\n",
    "\\text{MaxPool1d}_{k}(X) &= \\mathop{\\underset{\\substack{\\mathsf{\\vphantom{fg}kernel}}}{\\vphantom{fg}\\mathrm{max}}} \\mathop{\\underset{\\substack{\\mathsf{\\vphantom{fg}seq},\\mathsf{\\vphantom{fg}kernel}}}{\\vphantom{fg}\\mathrm{pool}}} X \\\\\n",
    "|\\mathsf{\\vphantom{fg}kernel}| &= k \\\\\n",
    "\\text{MaxPool2d}_{kh,kw} \\colon \\mathbb{R}^{\\mathsf{\\vphantom{fg}height}[h] \\times \\mathsf{\\vphantom{fg}width}[w]} &\\rightarrow \\mathbb{R}^{\\mathsf{\\vphantom{fg}height}[h/kh] \\times \\mathsf{\\vphantom{fg}width}[w/kw]} \\\\\n",
    "\\text{MaxPool2d}_{kh,kw}(X) &= \\mathop{\\underset{\\substack{\\mathsf{\\vphantom{fg}kh},\\mathsf{\\vphantom{fg}kw}}}{\\vphantom{fg}\\mathrm{max}}} \\mathop{\\underset{\\substack{\\mathsf{\\vphantom{fg}height},\\mathsf{\\vphantom{fg}kh}}}{\\vphantom{fg}\\mathrm{pool}}} \\mathop{\\underset{\\substack{\\mathsf{\\vphantom{fg}width},\\mathsf{\\vphantom{fg}kw}}}{\\vphantom{fg}\\mathrm{pool}}} X \\\\\n",
    "|\\mathsf{\\vphantom{fg}kh}| &= kh \\\\\n",
    "|\\mathsf{\\vphantom{fg}kw}| &= kw.\n",
    "\\end{aligned}\n",
    "$$"
   ]
  },
  {
   "cell_type": "code",
   "execution_count": 211,
   "metadata": {},
   "outputs": [],
   "source": [
    "@defop\n",
    "def MaxPool1d(\n",
    "    X: Annotated[torch.Tensor, Scoped[S1 | S2]],\n",
    "    seq: Annotated[Operation[[], torch.Tensor], Scoped[S1]],\n",
    "    k: int,\n",
    "    kernel: Annotated[Operation[[], torch.Tensor], Scoped[S1 | S2]],\n",
    "    seq2: Operation[[], torch.Tensor],\n",
    ") -> torch.Tensor:\n",
    "    return reduce([kernel], Pool(X, seq, k, kernel, seq2), torch.max)"
   ]
  },
  {
   "cell_type": "code",
   "execution_count": 212,
   "metadata": {},
   "outputs": [
    {
     "data": {
      "text/plain": [
       "tensor([[ 0.3129],\n",
       "        [ 1.0415],\n",
       "        [-0.5359],\n",
       "        [ 1.1539],\n",
       "        [ 0.1567]])[seq2(), slice(None, None, None)]"
      ]
     },
     "execution_count": 212,
     "metadata": {},
     "output_type": "execute_result"
    }
   ],
   "source": [
    "seq_size = 10\n",
    "\n",
    "seq, seq2, kernel = map(name_to_symbol, (\"seq\", \"seq2\", \"kernel\"))\n",
    "\n",
    "X = torch.randn(seq_size)[seq()]\n",
    "MaxPool1d(X, seq, 2, kernel, seq2)"
   ]
  },
  {
   "cell_type": "code",
   "execution_count": 213,
   "metadata": {},
   "outputs": [],
   "source": [
    "@defop\n",
    "def MaxPool2d(\n",
    "    X: Annotated[torch.Tensor, Scoped[S1 | S2]],\n",
    "    height: Annotated[Operation[[], torch.Tensor], Scoped[S1]],\n",
    "    kh_size: int,\n",
    "    kh: Annotated[Operation[[], torch.Tensor], Scoped[S1 | S2]],\n",
    "    height2: Operation[[], torch.Tensor],\n",
    "    width: Annotated[Operation[[], torch.Tensor], Scoped[S1]],\n",
    "    kw_size: int,\n",
    "    kw: Annotated[Operation[[], torch.Tensor], Scoped[S1 | S2]],\n",
    "    width2: Operation[[], torch.Tensor],\n",
    ") -> torch.Tensor:\n",
    "    y = Pool(Pool(X, height, kh_size, kh, height2), width, kw_size, kw, width2)\n",
    "    return reduce([kh, kw], y, torch.max)"
   ]
  },
  {
   "cell_type": "code",
   "execution_count": 214,
   "metadata": {},
   "outputs": [
    {
     "data": {
      "text/plain": [
       "tensor([[[2.2239],\n",
       "         [1.4813],\n",
       "         [1.2894]],\n",
       "\n",
       "        [[1.7128],\n",
       "         [1.7628],\n",
       "         [1.4359]]])[height2(), width2(), slice(None, None, None)]"
      ]
     },
     "execution_count": 214,
     "metadata": {},
     "output_type": "execute_result"
    }
   ],
   "source": [
    "width_size = 9\n",
    "height_size = 4\n",
    "\n",
    "width, width2, height, height2, kw, kh = map(\n",
    "    name_to_symbol, (\"width\", \"width2\", \"height\", \"height2\", \"kw\", \"kh\")\n",
    ")\n",
    "\n",
    "X = torch.randn(width_size, height_size)[width(), height()]\n",
    "MaxPool2d(X, height, 2, kh, height2, width, 3, kw, width2)"
   ]
  },
  {
   "cell_type": "markdown",
   "metadata": {},
   "source": [
    "### Normalization Layers"
   ]
  },
  {
   "cell_type": "markdown",
   "metadata": {},
   "source": [
    "$$\n",
    "\\begin{aligned}\n",
    "  \\mathop{\\underset{\\substack{\\mathsf{\\vphantom{fg}ax}}}{\\vphantom{fg}\\mathrm{standardize}}} \\colon \\mathbb{R}^{\\mathsf{\\vphantom{fg}ax}} &\\rightarrow \\mathbb{R}^{\\mathsf{\\vphantom{fg}ax}} \\\\\n",
    "  \\mathop{\\underset{\\substack{\\mathsf{\\vphantom{fg}ax}}}{\\vphantom{fg}\\mathrm{standardize}}}(X) &= \\frac{X - \\mathop{\\underset{\\substack{\\mathsf{\\vphantom{fg}ax}}}{\\vphantom{fg}\\mathrm{mean}}}(X)}{\\sqrt{\\mathop{\\underset{\\substack{\\mathsf{\\vphantom{fg}ax}}}{\\vphantom{fg}\\mathrm{var}}}(X) + \\epsilon}}\n",
    "\\end{aligned}\n",
    "$$"
   ]
  },
  {
   "cell_type": "code",
   "execution_count": 215,
   "metadata": {},
   "outputs": [],
   "source": [
    "@defop\n",
    "def Mean(\n",
    "    X: Annotated[torch.Tensor, Scoped[S1]],\n",
    "    ax: Annotated[Operation[[], torch.Tensor], Scoped[S1]],\n",
    ") -> torch.Tensor:\n",
    "    return reduce([ax], X, torch.sum) / sizesof(X)[ax]\n",
    "\n",
    "\n",
    "@defop\n",
    "def Mean2(\n",
    "    X: Annotated[torch.Tensor, Scoped[S1]],\n",
    "    ax: Annotated[Operation[[], torch.Tensor], Scoped[S1]],\n",
    "    ax2: Annotated[Operation[[], torch.Tensor], Scoped[S1]],\n",
    ") -> torch.Tensor:\n",
    "    sizes = sizesof(X)\n",
    "    return reduce([ax, ax2], X, torch.sum) / (sizes[ax] * sizes[ax2])\n",
    "\n",
    "\n",
    "@defop\n",
    "def Variance(\n",
    "    X: Annotated[torch.Tensor, Scoped[S1]],\n",
    "    ax: Annotated[Operation[[], torch.Tensor], Scoped[S1]],\n",
    ") -> torch.Tensor:\n",
    "    return Mean((X - Mean(X, ax)) ** 2, ax)\n",
    "\n",
    "\n",
    "@defop\n",
    "def Variance2(\n",
    "    X: Annotated[torch.Tensor, Scoped[S1]],\n",
    "    ax: Annotated[Operation[[], torch.Tensor], Scoped[S1]],\n",
    "    ax2: Annotated[Operation[[], torch.Tensor], Scoped[S1]],\n",
    ") -> torch.Tensor:\n",
    "    return Mean2((X - Mean2(X, ax, ax2)) ** 2, ax, ax2)\n",
    "\n",
    "\n",
    "@defop\n",
    "def Standardize(\n",
    "    X: Annotated[torch.Tensor, Scoped[S1]],\n",
    "    ax: Annotated[Operation[[], torch.Tensor], Scoped[S1]],\n",
    "    new_ax: Operation[[], torch.Tensor],\n",
    ") -> torch.Tensor:\n",
    "    y = subst(X, {ax: new_ax()})\n",
    "    return (y - Mean(X, ax)) / (Variance(X, ax) + torch.finfo(X.dtype).eps).sqrt()\n",
    "\n",
    "\n",
    "@defop\n",
    "def Standardize2(\n",
    "    X: Annotated[torch.Tensor, Scoped[S1]],\n",
    "    ax: Annotated[Operation[[], torch.Tensor], Scoped[S1]],\n",
    "    ax2: Annotated[Operation[[], torch.Tensor], Scoped[S1]],\n",
    "    new_ax: Operation[[], torch.Tensor],\n",
    "    new_ax2: Operation[[], torch.Tensor],\n",
    ") -> torch.Tensor:\n",
    "    y = subst(X, {ax: new_ax(), ax2: new_ax2()})\n",
    "    return (y - Mean2(X, ax, ax2)) / (\n",
    "        Variance2(X, ax, ax2) + torch.finfo(X.dtype).eps\n",
    "    ).sqrt()"
   ]
  },
  {
   "cell_type": "markdown",
   "metadata": {},
   "source": [
    "$$\n",
    "\\begin{aligned}\n",
    "\\text{BatchNorm}(X; \\gamma, \\beta) &= \\mathop{\\underset{\\substack{\\mathsf{\\vphantom{fg}batch},\\mathsf{\\vphantom{fg}layer}}}{\\vphantom{fg}\\mathrm{standardize}}}(X) \\mathbin{\\underset{\\substack{}}{\\vphantom{fg}\\odot}} \\gamma + \\beta & \\gamma, \\beta &\\in \\mathbb{R}^{\\mathsf{\\vphantom{fg}chans}} \\\\\n",
    "\\text{InstanceNorm}(X; \\gamma, \\beta) &= \\mathop{\\underset{\\substack{\\mathsf{\\vphantom{fg}layer}}}{\\vphantom{fg}\\mathrm{standardize}}}(X) \\mathbin{\\underset{\\substack{}}{\\vphantom{fg}\\odot}} \\gamma + \\beta & \\gamma, \\beta &\\in \\mathbb{R}^{\\mathsf{\\vphantom{fg}chans}} \\\\\n",
    "\\text{LayerNorm}(X; \\gamma, \\beta) &= \\mathop{\\underset{\\substack{\\mathsf{\\vphantom{fg}layer},\\mathsf{\\vphantom{fg}chans}}}{\\vphantom{fg}\\mathrm{standardize}}}(X) \\mathbin{\\underset{\\substack{}}{\\vphantom{fg}\\odot}} \\gamma + \\beta & \\gamma, \\beta &\\in \\mathbb{R}^{\\mathsf{\\vphantom{fg}chans},\\mathsf{\\vphantom{fg}layer}}\n",
    "\\end{aligned}\n",
    "$$"
   ]
  },
  {
   "cell_type": "code",
   "execution_count": 216,
   "metadata": {},
   "outputs": [],
   "source": [
    "@defop\n",
    "def BatchNorm(\n",
    "    X: Annotated[torch.Tensor, Scoped[S1]],\n",
    "    gamma: torch.Tensor,\n",
    "    beta: torch.Tensor,\n",
    "    batch: Annotated[Operation[[], torch.Tensor], Scoped[S1]],\n",
    "    layer: Annotated[Operation[[], torch.Tensor], Scoped[S1]],\n",
    "    batch2: Operation[[], torch.Tensor],\n",
    "    layer2: Operation[[], torch.Tensor],\n",
    ") -> torch.Tensor:\n",
    "    return Standardize2(X, batch, layer, batch2, layer2) * gamma + beta\n",
    "\n",
    "\n",
    "@defop\n",
    "def InstanceNorm(\n",
    "    X: Annotated[torch.Tensor, Scoped[S1]],\n",
    "    gamma: torch.Tensor,\n",
    "    beta: torch.Tensor,\n",
    "    layer: Annotated[Operation[[], torch.Tensor], Scoped[S1]],\n",
    "    layer2: Operation[[], torch.Tensor],\n",
    ") -> torch.Tensor:\n",
    "    return Standardize(X, layer, layer2) * gamma + beta\n",
    "\n",
    "\n",
    "# same as BatchNorm\n",
    "@defop\n",
    "def LayerNorm(\n",
    "    X: Annotated[torch.Tensor, Scoped[S1]],\n",
    "    gamma: torch.Tensor,\n",
    "    beta: torch.Tensor,\n",
    "    chans: Annotated[Operation[[], torch.Tensor], Scoped[S1]],\n",
    "    layer: Annotated[Operation[[], torch.Tensor], Scoped[S1]],\n",
    "    chans2: Operation[[], torch.Tensor],\n",
    "    layer2: Operation[[], torch.Tensor],\n",
    ") -> torch.Tensor:\n",
    "    return Standardize2(X, chans, layer, chans2, layer2) * gamma + beta"
   ]
  },
  {
   "cell_type": "code",
   "execution_count": 217,
   "metadata": {},
   "outputs": [
    {
     "data": {
      "text/plain": [
       "tensor([[[ 0.2670, -0.1588, -1.2522, -0.7949, -0.4869],\n",
       "         [ 0.3384, -0.1322, -0.8064,  0.9302,  0.0463],\n",
       "         [ 2.1462,  2.1542,  1.9729,  2.6483,  2.8954]],\n",
       "\n",
       "        [[ 0.4752, -0.9735, -0.6327, -2.0224, -1.0046],\n",
       "         [-0.9306, -0.2433, -0.2080,  0.3491, -0.0462],\n",
       "         [ 2.0179,  3.4996,  2.2253,  2.7595,  1.7771]],\n",
       "\n",
       "        [[-2.1675,  0.3962, -0.9786,  1.1038,  0.6551],\n",
       "         [-0.3270, -0.1066, -0.1575,  0.0266,  0.5415],\n",
       "         [ 1.9313,  3.4777,  2.7468,  2.4394,  3.2106]],\n",
       "\n",
       "        [[ 2.2192, -0.8806, -1.7958, -0.9050, -1.3091],\n",
       "         [-0.3796, -0.4029, -0.8666, -0.0087,  0.6328],\n",
       "         [ 2.8615,  2.2634,  2.4476,  2.4643,  2.6424]]])[batch2(), chans(), layer2()]"
      ]
     },
     "execution_count": 217,
     "metadata": {},
     "output_type": "execute_result"
    }
   ],
   "source": [
    "batch_size, chans_size, layer_size = 4, 3, 5\n",
    "batch, batch2, chans, layer, layer2 = map(\n",
    "    name_to_symbol, (\"batch\", \"batch2\", \"chans\", \"layer\", \"layer2\")\n",
    ")\n",
    "\n",
    "x = torch.randn(batch_size, chans_size, layer_size)[batch(), chans(), layer()]\n",
    "g = torch.randn(chans_size)[chans()]\n",
    "b = torch.randn(chans_size)[chans()]\n",
    "\n",
    "BatchNorm(x, g, b, batch, layer, batch2, layer2)"
   ]
  },
  {
   "cell_type": "markdown",
   "metadata": {},
   "source": [
    "$$\n",
    "\\begin{aligned}\n",
    "\\text{GroupNorm}_k(X; \\gamma, \\beta) &= \\left[ \\mathop{\\underset{\\substack{\\mathsf{\\vphantom{fg}kernel},\\mathsf{\\vphantom{fg}layer}}}{\\vphantom{fg}\\mathrm{standardize}}} \\mathop{\\underset{\\substack{\\mathsf{\\vphantom{fg}chans}, \\mathsf{\\vphantom{fg}kernel}}}{\\vphantom{fg}\\mathrm{pool}}} X \\right]_{(\\mathsf{\\vphantom{fg}chans},\\mathsf{\\vphantom{fg}kernel})\\rightarrow \\mathsf{\\vphantom{fg}chans}} \\mathbin{\\underset{\\substack{}}{\\vphantom{fg}\\odot}} \\gamma + \\beta \\\\\n",
    "\\end{aligned}\n",
    "$$"
   ]
  },
  {
   "cell_type": "markdown",
   "metadata": {},
   "source": [
    "$$\n",
    "\\begin{aligned}\n",
    "|\\mathsf{\\vphantom{fg}kernel}| &= k\\\\\n",
    "\\gamma, \\beta &\\in \\mathbb{R}^{\\mathsf{\\vphantom{fg}chans}}.\n",
    "\\end{aligned}\n",
    "$$"
   ]
  },
  {
   "cell_type": "markdown",
   "metadata": {},
   "source": [
    "### Transformer"
   ]
  },
  {
   "cell_type": "markdown",
   "metadata": {},
   "source": [
    "$$\n",
    "\\begin{aligned}\n",
    "  I &\\in \\{0, 1\\}^{\\mathsf{\\vphantom{fg}seq}\\times \\mathsf{\\vphantom{fg}vocab}} & \\sum\\limits_{\\substack{\\mathsf{\\vphantom{fg}vocab}}} I &= 1 \\\\\n",
    "  W &= (E \\mathbin{\\underset{\\substack{\\mathsf{\\vphantom{fg}vocab}}}{\\vphantom{fg}\\odot}} I)\\sqrt{|\\mathsf{\\vphantom{fg}layer}|} & E &\\in \\mathbb{R}^{\\mathsf{\\vphantom{fg}vocab}\\times \\mathsf{\\vphantom{fg}layer}} \\\\\n",
    "  P &\\in \\mathbb{R}^{\\mathsf{\\vphantom{fg}seq}\\times \\mathsf{\\vphantom{fg}layer}} \\\\\n",
    "  P_{\\mathsf{\\vphantom{fg}seq}(p), \\mathsf{\\vphantom{fg}layer}(i)} &= \\begin{cases}\n",
    "    \\sin((p-1) / 10000^{(i-1) / |\\mathsf{\\vphantom{fg}layer}|}) & \\text{$i$ odd} \\\\ \n",
    "    \\cos((p-1) / 10000^{(i-2) / |\\mathsf{\\vphantom{fg}layer}|}) & \\text{$i$ even.}\n",
    "  \\end{cases}\n",
    "\\end{aligned}\n",
    "$$"
   ]
  },
  {
   "cell_type": "markdown",
   "metadata": {},
   "source": [
    "$$\n",
    "\\begin{aligned}\n",
    "X^0 &= W+P \\\\\n",
    "T^1 &= \\text{LayerNorm}^1(\\text{SelfAtt}^1(X^0)) + X^0\\\\\n",
    "X^1 &= \\text{LayerNorm}^{1^\\prime}(\\text{FFN}^1(T^1)) + T^1\\\\\n",
    "&\\vdotswithin{=} \\\\\n",
    "T^{L} &= \\text{LayerNorm}^L(\\text{SelfAtt}^L(X^{L-1})) + X^{L-1}\\\\\n",
    "X^{L} &= \\text{LayerNorm}^{L^\\prime}(\\text{FFN}^L(T^L)) + T^L\\\\\n",
    "O &= \\mathop{\\underset{\\substack{\\mathsf{\\vphantom{fg}vocab}}}{\\vphantom{fg}\\mathrm{softmax}}}(E \\mathbin{\\underset{\\substack{\\mathsf{\\vphantom{fg}layer}}}{\\vphantom{fg}\\odot}} X^L)\n",
    "\\end{aligned}\n",
    "$$"
   ]
  },
  {
   "cell_type": "markdown",
   "metadata": {},
   "source": [
    "$$\n",
    "\\begin{aligned}\n",
    "  \\text{LayerNorm}^l \\colon \\mathbb{R}^{\\mathsf{\\vphantom{fg}layer}} &\\rightarrow \\mathbb{R}^{\\mathsf{\\vphantom{fg}layer}} \\\\\n",
    "  \\text{LayerNorm}^l(X) &= \\mathop{\\underset{\\substack{\\mathsf{\\vphantom{fg}layer}}}{\\vphantom{fg}\\mathrm{XNorm}}}(X; \\beta^l, \\gamma^l).\n",
    "\\end{aligned}\n",
    "$$"
   ]
  },
  {
   "cell_type": "markdown",
   "metadata": {},
   "source": [
    "$$\n",
    "\\begin{aligned}\n",
    "  \\text{SelfAtt}^l \\colon \\mathbb{R}^{\\mathsf{\\vphantom{fg}seq}\\times \\mathsf{\\vphantom{fg}layer}} &\\rightarrow \\mathbb{R}^{\\mathsf{\\vphantom{fg}seq}\\times \\mathsf{\\vphantom{fg}layer}} \\\\\n",
    "  \\text{SelfAtt}^l(X) &= Y\n",
    "\\end{aligned}\n",
    "$$"
   ]
  },
  {
   "cell_type": "markdown",
   "metadata": {},
   "source": [
    "$$\n",
    "\\begin{aligned}\n",
    "  |\\mathsf{\\vphantom{fg}seq}| &= |\\mathsf{\\vphantom{fg}seq2}| \\\\\n",
    "  |\\mathsf{\\vphantom{fg}key}| = |\\mathsf{\\vphantom{fg}val}| &= |\\mathsf{\\vphantom{fg}layer}|/|\\mathsf{\\vphantom{fg}heads}| \\\\\n",
    "  Q &= W^{l,Q} \\mathbin{\\underset{\\substack{\\mathsf{\\vphantom{fg}layer}}}{\\vphantom{fg}\\odot}} X_{\\mathsf{\\vphantom{fg}seq}\\rightarrow\\mathsf{\\vphantom{fg}seq2}} & W^{l,Q} &\\in \\mathbb{R}^{\\mathsf{\\vphantom{fg}heads}\\times \\mathsf{\\vphantom{fg}layer}\\times \\mathsf{\\vphantom{fg}key}} \\\\\n",
    "  K &= W^{l,K} \\mathbin{\\underset{\\substack{\\mathsf{\\vphantom{fg}layer}}}{\\vphantom{fg}\\odot}} X & W^{l,K} &\\in \\mathbb{R}^{\\mathsf{\\vphantom{fg}heads}\\times \\mathsf{\\vphantom{fg}layer}\\times \\mathsf{\\vphantom{fg}key}} \\\\\n",
    "  V &= W^{l,V} \\mathbin{\\underset{\\substack{\\mathsf{\\vphantom{fg}layer}}}{\\vphantom{fg}\\odot}} X & W^{l,V} &\\in \\mathbb{R}^{\\mathsf{\\vphantom{fg}heads}\\times \\mathsf{\\vphantom{fg}layer}\\times \\mathsf{\\vphantom{fg}val}} \\\\\n",
    "  M & \\in \\mathbb{R}^{\\mathsf{\\vphantom{fg}seq}\\times \\mathsf{\\vphantom{fg}seq2}} \\\\\n",
    "  M_{\\mathsf{\\vphantom{fg}seq}(i), \\mathsf{\\vphantom{fg}seq2}(j)} &= \\begin{cases}\n",
    "    0 & i \\leq j\\\\\n",
    "    -\\infty & \\text{otherwise}\n",
    "  \\end{cases} \\\\\n",
    "  Y &= W^{l,O} \\mathbin{\\underset{\\substack{\\mathsf{\\vphantom{fg}heads}\\\\ \\mathsf{\\vphantom{fg}val}}}{\\vphantom{fg}\\odot}} \\text{Attention}(Q, K, V, M)_{\\mathsf{\\vphantom{fg}seq2}\\rightarrow\\mathsf{\\vphantom{fg}seq}} & W^{l,O} &\\in \\mathbb{R}^{\\mathsf{\\vphantom{fg}heads}\\times \\mathsf{\\vphantom{fg}val}\\times \\mathsf{\\vphantom{fg}layer}}\n",
    "\\end{aligned}\n",
    "$$"
   ]
  },
  {
   "cell_type": "markdown",
   "metadata": {},
   "source": [
    "$$\n",
    "\\begin{aligned}\n",
    "  \\text{FFN}^l \\colon \\mathbb{R}^{\\mathsf{\\vphantom{fg}layer}} &\\rightarrow \\mathbb{R}^{\\mathsf{\\vphantom{fg}layer}} \\\\\n",
    "  \\text{FFN}^l(X) &= X^2\n",
    "\\end{aligned}\n",
    "$$"
   ]
  },
  {
   "cell_type": "markdown",
   "metadata": {},
   "source": [
    "$$\n",
    "\\begin{aligned}\n",
    "  X^1 &= \\text{relu}(W^{l,1} \\mathbin{\\underset{\\substack{\\mathsf{\\vphantom{fg}layer}}}{\\vphantom{fg}\\odot}} X + b^{l,1}) & W^{l,1} &\\in \\mathbb{R}^{\\mathsf{\\vphantom{fg}hidden}\\times \\mathsf{\\vphantom{fg}layer}} & b^{l,1} &\\in \\mathbb{R}^{\\mathsf{\\vphantom{fg}hidden}} \\\\\n",
    "  X^2 &= \\text{relu}(W^{l,2} \\mathbin{\\underset{\\substack{\\mathsf{\\vphantom{fg}hidden}}}{\\vphantom{fg}\\odot}} X^1 + b^{l,2}) & W^{l,2} &\\in \\mathbb{R}^{\\mathsf{\\vphantom{fg}layer}\\times \\mathsf{\\vphantom{fg}hidden}} & b^{l,2} &\\in \\mathbb{R}^{\\mathsf{\\vphantom{fg}hidden}}.\n",
    "\\end{aligned}\n",
    "$$"
   ]
  },
  {
   "cell_type": "markdown",
   "metadata": {},
   "source": [
    "### LeNet"
   ]
  },
  {
   "cell_type": "markdown",
   "metadata": {},
   "source": [
    "$$\n",
    "\\begin{aligned}\n",
    "X^0 &\\in \\mathbb{R}^{\\mathsf{\\vphantom{fg}batch}\\times \\mathsf{\\vphantom{fg}chans}[c_0] \\times \\mathsf{\\vphantom{fg}height}\\times \\mathsf{\\vphantom{fg}width}} \\\\\n",
    "T^1 &= \\text{relu}(\\text{Conv}^1(X^0)) \\\\\n",
    "X^1 &= \\text{MaxPool}^1(T^1) \\\\\n",
    "T^2 &= \\text{relu}(\\text{Conv}^2(X^1)) \\\\\n",
    "X^2 &= \\text{MaxPool}^2(T^2)_{(\\mathsf{\\vphantom{fg}height},\\mathsf{\\vphantom{fg}width},\\mathsf{\\vphantom{fg}chans})\\rightarrow\\mathsf{\\vphantom{fg}layer}} \\\\\n",
    "X^3 &= \\text{relu}(W^3 \\mathbin{\\underset{\\substack{\\mathsf{\\vphantom{fg}layer}}}{\\vphantom{fg}\\odot}} X^2 + b^3) & W^3 &\\in \\mathbb{R}^{\\mathsf{\\vphantom{fg}hidden}\\times \\mathsf{\\vphantom{fg}layer}} & b^3 &\\in \\mathbb{R}^{\\mathsf{\\vphantom{fg}hidden}} \\\\\n",
    "O &= \\mathop{\\underset{\\substack{\\mathsf{\\vphantom{fg}classes}}}{\\vphantom{fg}\\mathrm{softmax}}} (W^4 \\mathbin{\\underset{\\substack{\\mathsf{\\vphantom{fg}hidden}}}{\\vphantom{fg}\\odot}} X^3 + b^4) & W^4 &\\in \\mathbb{R}^{\\mathsf{\\vphantom{fg}classes}\\times \\mathsf{\\vphantom{fg}hidden}} & b^4 &\\in \\mathbb{R}^{\\mathsf{\\vphantom{fg}classes}}\\end{aligned}\n",
    "$$"
   ]
  },
  {
   "cell_type": "markdown",
   "metadata": {},
   "source": [
    "$$\n",
    "\\begin{aligned}\n",
    "X^2 &= \\text{MaxPool}^2(T^2) \\\\\n",
    "X^3 &= \\text{relu}(W^3 \\mathbin{\\underset{\\substack{\\mathsf{\\vphantom{fg}height}\\\\ \\mathsf{\\vphantom{fg}width}\\\\ \\mathsf{\\vphantom{fg}chans}}}{\\vphantom{fg}\\odot}} X^2 + b^3) & W^3 &\\in \\mathbb{R}^{\\mathsf{\\vphantom{fg}hidden}\\times \\mathsf{\\vphantom{fg}height}\\times \\mathsf{\\vphantom{fg}width}\\times \\mathsf{\\vphantom{fg}chans}}.\n",
    "\\end{aligned}\n",
    "$$"
   ]
  },
  {
   "cell_type": "markdown",
   "metadata": {},
   "source": [
    "$$\n",
    "\\begin{aligned}\n",
    "\\text{Conv}^l(X) &= \\text{Conv2d}(X; W^l, b^l)_{\\mathsf{\\vphantom{fg}chans2}\\rightarrow\\mathsf{\\vphantom{fg}chans}}\n",
    "\\end{aligned}\n",
    "$$"
   ]
  },
  {
   "cell_type": "markdown",
   "metadata": {},
   "source": [
    "$$\n",
    "\\begin{aligned}\n",
    "W^l & \\in \\mathbb{R}^{\\mathsf{\\vphantom{fg}chans2}[c_l] \\times \\mathsf{\\vphantom{fg}chans}[c_{l-1}] \\times \\mathsf{\\vphantom{fg}kh}[kh_l] \\times \\mathsf{\\vphantom{fg}kw}[kw_l]} \\\\\n",
    "b^l &\\in \\mathbb{R}^{\\mathsf{\\vphantom{fg}chans2}[c_l]}\n",
    "\\end{aligned}\n",
    "$$"
   ]
  },
  {
   "cell_type": "markdown",
   "metadata": {},
   "source": [
    "$$\n",
    "\\begin{aligned}\n",
    "\\text{MaxPool}^l(X) &amp;= \\text{MaxPool2d}_{ph^l,ph^l}(X).\n",
    "\\end{aligned}\n",
    "$$"
   ]
  },
  {
   "cell_type": "code",
   "execution_count": 218,
   "metadata": {},
   "outputs": [],
   "source": [
    "@defop\n",
    "def Relu(X: torch.Tensor) -> torch.Tensor:\n",
    "    return torch.maximum(X, torch.tensor(0))"
   ]
  },
  {
   "cell_type": "code",
   "execution_count": 219,
   "metadata": {},
   "outputs": [
    {
     "data": {
      "text/plain": [
       "tensor([[[0.0000, 0.0000, 0.7641, 0.3760, 0.1145],\n",
       "         [0.4051, 0.0000, 0.0000, 1.4258, 0.0000],\n",
       "         [1.1718, 1.1479, 1.6898, 0.0000, 0.0000]],\n",
       "\n",
       "        [[0.0000, 0.5275, 0.2382, 1.4178, 0.5540],\n",
       "         [0.0000, 0.0000, 0.0000, 0.4236, 0.0000],\n",
       "         [1.5552, 0.0000, 0.9354, 0.0000, 2.2747]],\n",
       "\n",
       "        [[1.5410, 0.0000, 0.5318, 0.0000, 0.0000],\n",
       "         [0.0000, 0.0000, 0.0000, 0.0000, 0.7555],\n",
       "         [1.8139, 0.0000, 0.0000, 0.2960, 0.0000]],\n",
       "\n",
       "        [[0.0000, 0.4487, 1.2255, 0.4694, 0.8124],\n",
       "         [0.0000, 0.0000, 0.0000, 0.0000, 0.9130],\n",
       "         [0.0000, 0.8218, 0.2714, 0.2214, 0.0000]]])[batch(), chans(), layer()]"
      ]
     },
     "execution_count": 219,
     "metadata": {},
     "output_type": "execute_result"
    }
   ],
   "source": [
    "Relu(x)"
   ]
  },
  {
   "cell_type": "code",
   "execution_count": 220,
   "metadata": {},
   "outputs": [
    {
     "data": {
      "text/plain": [
       "tensor([[[0.0000e+00],\n",
       "         [0.0000e+00],\n",
       "         [0.0000e+00],\n",
       "         [0.0000e+00]],\n",
       "\n",
       "        [[0.0000e+00],\n",
       "         [0.0000e+00],\n",
       "         [0.0000e+00],\n",
       "         [0.0000e+00]],\n",
       "\n",
       "        [[1.5932e-07],\n",
       "         [1.0565e-36],\n",
       "         [8.7251e-37],\n",
       "         [0.0000e+00]],\n",
       "\n",
       "        [[1.0000e+00],\n",
       "         [1.0000e+00],\n",
       "         [1.0000e+00],\n",
       "         [1.0000e+00]],\n",
       "\n",
       "        [[0.0000e+00],\n",
       "         [0.0000e+00],\n",
       "         [0.0000e+00],\n",
       "         [0.0000e+00]]])[classes2(), batch(), slice(None, None, None)]"
      ]
     },
     "execution_count": 220,
     "metadata": {},
     "output_type": "execute_result"
    }
   ],
   "source": [
    "(\n",
    "    chans_size,\n",
    "    kh_size,\n",
    "    kw_size,\n",
    "    hidden_size,\n",
    "    height_size,\n",
    "    width_size,\n",
    "    classes_size,\n",
    "    batch_size,\n",
    ") = (3, 3, 4, 3, 14, 15, 5, 4)\n",
    "(\n",
    "    chans,\n",
    "    chans2,\n",
    "    kh,\n",
    "    kw,\n",
    "    height,\n",
    "    height2,\n",
    "    height3,\n",
    "    width,\n",
    "    width2,\n",
    "    width3,\n",
    "    hidden,\n",
    "    classes,\n",
    "    classes2,\n",
    "    batch,\n",
    ") = map(\n",
    "    name_to_symbol,\n",
    "    (\n",
    "        \"chans\",\n",
    "        \"chans2\",\n",
    "        \"kh\",\n",
    "        \"kw\",\n",
    "        \"height\",\n",
    "        \"height2\",\n",
    "        \"height3\",\n",
    "        \"width\",\n",
    "        \"width2\",\n",
    "        \"width3\",\n",
    "        \"hidden\",\n",
    "        \"classes\",\n",
    "        \"classes2\",\n",
    "        \"batch\",\n",
    "    ),\n",
    ")\n",
    "\n",
    "W1 = torch.randn(chans_size, kh_size, kw_size, chans_size)[\n",
    "    chans(), kh(), kw(), chans2()\n",
    "]\n",
    "b1 = torch.randn(chans_size)[chans2()]\n",
    "W3 = torch.randn(hidden_size, 4, 4, chans_size)[hidden(), height3(), width3(), chans2()]\n",
    "b3 = torch.randn(hidden_size)[hidden()]\n",
    "W4 = torch.randn(hidden_size, classes_size)[hidden(), classes()]\n",
    "b4 = torch.randn(classes_size)[classes()]\n",
    "X0 = torch.randn(batch_size, chans_size, height_size, width_size)[\n",
    "    batch(), chans(), height(), width()\n",
    "]\n",
    "\n",
    "T1 = Relu(\n",
    "    Conv2d(X0, W1, b1, chans, kh_size, kh, height, height2, kw_size, kw, width, width2)\n",
    ")\n",
    "X1 = MaxPool2d(T1, height2, 3, kh, height3, width2, 3, kw, width3)\n",
    "X3 = reduce([height3, width3, chans2], W3 * X1, torch.sum) + b3\n",
    "O_ = Softmax(reduce([hidden], W4 * X3, torch.sum) + b4, classes, classes2)\n",
    "O_"
   ]
  }
 ],
 "metadata": {
  "hide_input": false,
  "kernelspec": {
   "display_name": ".venv",
   "language": "python",
   "name": "python3"
  },
  "language_info": {
   "codemirror_mode": {
    "name": "ipython",
    "version": 3
   },
   "file_extension": ".py",
   "mimetype": "text/x-python",
   "name": "python",
   "nbconvert_exporter": "python",
   "pygments_lexer": "ipython3",
   "version": "3.10.16"
  },
  "toc": {
   "base_numbering": 1,
   "nav_menu": {},
   "number_sections": true,
   "sideBar": true,
   "skip_h1_title": false,
   "title_cell": "Table of Contents",
   "title_sidebar": "Contents",
   "toc_cell": false,
   "toc_position": {},
   "toc_section_display": true,
   "toc_window_display": false
  }
 },
 "nbformat": 4,
 "nbformat_minor": 4
}
