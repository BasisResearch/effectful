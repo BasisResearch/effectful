{
 "cells": [
  {
   "cell_type": "markdown",
   "metadata": {},
   "source": [
    "# Named Tensor Notation"
   ]
  },
  {
   "cell_type": "markdown",
   "metadata": {},
   "source": [
    "## Introduction\n",
    "\n",
    "**This is a translation of the [Named Tensor Notation (Chiang, Rush, Barak 2021)](https://namedtensor.github.io/) example from the [funsor](https://funsor.pyro.ai/) library to `effectful`. Much of the expository text is taken directly from the [original](https://github.com/pyro-ppl/funsor/blob/master/tutorials/named_tensor_notation_i.ipynb).**\n",
    "\n",
    "The mathematical notation with *named axes* introduced in [Named Tensor Notation (Chiang, Rush, Barak 2021)](https://namedtensor.github.io/) improves the readability of mathematical formulas involving multidimensional arrays. This includes tensor operations such as elementwise operations, reductions, contractions, renaming, indexing, and broadcasting. Part 1 covers examples from [2 Informal Overview](https://namedtensor.github.io/#sec:overview), [3.4.2 Advanced Indexing](https://namedtensor.github.io/#sec:examples), and [5 Formal Definitions](https://namedtensor.github.io/#sec:definitions)."
   ]
  },
  {
   "cell_type": "code",
   "execution_count": 96,
   "metadata": {},
   "outputs": [],
   "source": [
    "%reload_ext autoreload\n",
    "%autoreload 2\n",
    "\n",
    "import functools\n",
    "from typing import Annotated, TypeVar\n",
    "\n",
    "import torch\n",
    "from torch import tensor\n",
    "\n",
    "from effectful.handlers.torch import bind_dims, sizesof\n",
    "from effectful.ops.semantics import evaluate, fvsof, handler\n",
    "from effectful.ops.syntax import Scoped, defop\n",
    "from effectful.ops.types import Operation\n",
    "\n",
    "S1, S2, S3 = TypeVar(\"S1\"), TypeVar(\"S2\"), TypeVar(\"S3\")\n",
    "\n",
    "\n",
    "def subst(term, substs):\n",
    "    with handler(\n",
    "        {k: functools.partial(lambda vv: vv, v) for (k, v) in substs.items()},\n",
    "    ):\n",
    "        return evaluate(term)\n",
    "\n",
    "\n",
    "def reduce(indexes, indexed_tensor, reducer):\n",
    "    \"\"\"Reduce an indexed tensor along one or more named dimensions.\n",
    "\n",
    "    Args:\n",
    "    - indexes: Names of dimensions to reduce.\n",
    "    - indexed_tensor: The tensor to reduce.\n",
    "    - reducer: A reduction function like `torch.sum`. Must take `tensor`, `dim`, and `keepdim` arguments.\n",
    "\n",
    "    Returns: A new indexed tensor with the specified dimensions reduced.\n",
    "\n",
    "    Example:\n",
    "    >>> width, height = defop(torch.Tensor, name='width'), defop(torch.Tensor, name='height')\n",
    "    >>> t = indexed(torch.ones(2, 3))[width(), height()]\n",
    "    >>> reduce([width], t, \"sum\")\n",
    "    indexed(tensor([2., 2., 2.]))[height()]\n",
    "    \"\"\"\n",
    "    fvars = fvsof(indexed_tensor)\n",
    "    indexes = [i for i in indexes if i in fvars]\n",
    "\n",
    "    # convert indexed dimensions to positional and flatten all new positional dims\n",
    "    t = bind_dims(indexed_tensor, *indexes)\n",
    "    t_flat = torch.flatten(t, 0, len(indexes) - 1)\n",
    "\n",
    "    # reduce dim 0 into the first index of dim 0, then return reduction\n",
    "    return reducer(t_flat, 0, keepdim=True)[0]\n",
    "\n",
    "\n",
    "@functools.cache\n",
    "def name_to_symbol(name: str) -> Operation[[], torch.Tensor]:\n",
    "    \"\"\"\n",
    "    Create a persistent Operation symbol to use as a dimension name.\n",
    "    We memoize this function because `defop` returns a fresh symbol each time it's called,\n",
    "    and we want to be able to safely run notebook cells out of order.\n",
    "    \"\"\"\n",
    "    return defop(torch.Tensor, name=name)"
   ]
  },
  {
   "cell_type": "markdown",
   "metadata": {},
   "source": [
    "## Named Tensors"
   ]
  },
  {
   "cell_type": "markdown",
   "metadata": {},
   "source": [
    "Each tensor axis is given a name:"
   ]
  },
  {
   "cell_type": "markdown",
   "metadata": {},
   "source": [
    "$$\n",
    "\\begin{aligned}\n",
    "  A &\\in \\mathbb{R}^{\\mathsf{\\vphantom{fg}height}[3] \\times \\mathsf{\\vphantom{fg}width}[3]} = \\mathbb{R}^{\\mathsf{\\vphantom{fg}width}[3] \\times \\mathsf{\\vphantom{fg}height}[3]} \\\\\n",
    "  A &= \\mathsf{\\vphantom{fg}height}\n",
    "  \\begin{array}[b]{@{}c@{}}\\mathsf{\\vphantom{fg}width}\\\\\\begin{bmatrix}\n",
    "    3 & 1 & 4 \\\\\n",
    "    1 & 5 & 9 \\\\\n",
    "    2 & 6 & 5\n",
    "  \\end{bmatrix}\\end{array} =\n",
    "  \\mathsf{\\vphantom{fg}width}\n",
    "  \\begin{array}[b]{@{}c@{}}\\mathsf{\\vphantom{fg}height}\\\\\\begin{bmatrix}\n",
    "    3 & 1 & 2 \\\\\n",
    "    1 & 5 & 6 \\\\\n",
    "    4 & 9 & 5\n",
    "  \\end{bmatrix}\\end{array}.\n",
    "\\end{aligned}\n",
    "$$"
   ]
  },
  {
   "cell_type": "code",
   "execution_count": 97,
   "metadata": {},
   "outputs": [
    {
     "data": {
      "text/plain": [
       "tensor([[3, 1, 4],\n",
       "        [1, 5, 9],\n",
       "        [2, 6, 5]])[height(), width()]"
      ]
     },
     "execution_count": 97,
     "metadata": {},
     "output_type": "execute_result"
    }
   ],
   "source": [
    "height, width = name_to_symbol(\"height\"), name_to_symbol(\"width\")\n",
    "t = tensor([[3, 1, 4], [1, 5, 9], [2, 6, 5]])\n",
    "A = t[height(), width()]\n",
    "A"
   ]
  },
  {
   "cell_type": "markdown",
   "metadata": {},
   "source": [
    "Access elements of $A$ using named indices:"
   ]
  },
  {
   "cell_type": "markdown",
   "metadata": {},
   "source": [
    "$$\n",
    "A_{\\mathsf{\\vphantom{fg}height}(1), \\mathsf{\\vphantom{fg}width}(3)} = A_{\\mathsf{\\vphantom{fg}width}(3), \\mathsf{\\vphantom{fg}height}(1)} = 4\n",
    "$$"
   ]
  },
  {
   "cell_type": "code",
   "execution_count": 98,
   "metadata": {},
   "outputs": [
    {
     "data": {
      "text/plain": [
       "tensor(4)"
      ]
     },
     "execution_count": 98,
     "metadata": {},
     "output_type": "execute_result"
    }
   ],
   "source": [
    "subst(A, {height: 0, width: 2})"
   ]
  },
  {
   "cell_type": "markdown",
   "metadata": {},
   "source": [
    "Partial indexing:"
   ]
  },
  {
   "cell_type": "markdown",
   "metadata": {},
   "source": [
    "$$\n",
    "\\begin{aligned}\n",
    "A_{\\mathsf{\\vphantom{fg}height}(1)} &= \\begin{array}[b]{@{}c@{}}\\mathsf{\\vphantom{fg}width}\\\\\n",
    "\\begin{bmatrix}\n",
    "  3 & 1 & 4\n",
    "\\end{bmatrix}\\end{array}\n",
    "&\n",
    "A_{\\mathsf{\\vphantom{fg}width}(3)} &= \\begin{array}[b]{@{}c@{}}\\mathsf{\\vphantom{fg}height}\\\\\n",
    "\\begin{bmatrix}\n",
    "  4 & 9 & 5\n",
    "\\end{bmatrix}\\end{array}.\n",
    "\\end{aligned}\n",
    "$$"
   ]
  },
  {
   "cell_type": "code",
   "execution_count": 99,
   "metadata": {},
   "outputs": [
    {
     "data": {
      "text/plain": [
       "tensor([3, 1, 4])[width()]"
      ]
     },
     "execution_count": 99,
     "metadata": {},
     "output_type": "execute_result"
    }
   ],
   "source": [
    "subst(A, {height: 0})"
   ]
  },
  {
   "cell_type": "code",
   "execution_count": 100,
   "metadata": {},
   "outputs": [
    {
     "data": {
      "text/plain": [
       "tensor([4, 9, 5])[height()]"
      ]
     },
     "execution_count": 100,
     "metadata": {},
     "output_type": "execute_result"
    }
   ],
   "source": [
    "subst(A, {width: 2})"
   ]
  },
  {
   "cell_type": "markdown",
   "metadata": {},
   "source": [
    "## Named Tensor Operations"
   ]
  },
  {
   "cell_type": "markdown",
   "metadata": {},
   "source": [
    "### Elementwise Operations and Broadcasting"
   ]
  },
  {
   "cell_type": "markdown",
   "metadata": {},
   "source": [
    "Elementwise operations:"
   ]
  },
  {
   "cell_type": "markdown",
   "metadata": {},
   "source": [
    "$$\n",
    "\\frac1{1+\\exp(-A)} = \\mathsf{\\vphantom{fg}height}\n",
    "\\begin{array}[b]{@{}c@{}}\\mathsf{\\vphantom{fg}width}\\\\\n",
    "\\begin{bmatrix}\n",
    "  \\frac 1{1+\\exp(-3)} & \\frac 1{1+\\exp(-1)} & \\frac 1{1+\\exp(-4)} \\\\[1ex]\n",
    "  \\frac 1{1+\\exp(-1)} & \\frac 1{1+\\exp(-5)} & \\frac 1{1+\\exp(-9)} \\\\[1ex]\n",
    "  \\frac 1{1+\\exp(-2)} & \\frac 1{1+\\exp(-6)} & \\frac 1{1+\\exp(-5)}\n",
    "\\end{bmatrix}\\end{array}.\n",
    "$$"
   ]
  },
  {
   "cell_type": "code",
   "execution_count": 101,
   "metadata": {},
   "outputs": [
    {
     "data": {
      "text/plain": [
       "tensor([[0.9526, 0.7311, 0.9820],\n",
       "        [0.7311, 0.9933, 0.9999],\n",
       "        [0.8808, 0.9975, 0.9933]])[height(), width()]"
      ]
     },
     "execution_count": 101,
     "metadata": {},
     "output_type": "execute_result"
    }
   ],
   "source": [
    "1 / (1 + (-A).exp())"
   ]
  },
  {
   "cell_type": "markdown",
   "metadata": {},
   "source": [
    "Tensors with different shapes are automatically broadcasted against each other before an operation is applied. Let"
   ]
  },
  {
   "cell_type": "markdown",
   "metadata": {},
   "source": [
    "$$\n",
    "\\begin{aligned}\n",
    "  x &\\in \\mathbb{R}^{\\mathsf{\\vphantom{fg}height}[3]} & y &\\in \\mathbb{R}^{\\mathsf{\\vphantom{fg}width}[3]} \\\\\n",
    "  x &= \\mathsf{\\vphantom{fg}height}\n",
    "  \\begin{array}[b]{@{}c@{}}\\\\\n",
    "  \\begin{bmatrix}\n",
    "    2 \\\\ 7 \\\\ 1\n",
    "  \\end{bmatrix}\\end{array} & \n",
    "  y &= \n",
    "  \\begin{array}[b]{@{}c@{}}\\mathsf{\\vphantom{fg}width}\\\\\\begin{bmatrix}\n",
    "    1 & 4 & 1\n",
    "  \\end{bmatrix}\\end{array}.\n",
    "\\end{aligned}\n",
    "$$"
   ]
  },
  {
   "cell_type": "code",
   "execution_count": 102,
   "metadata": {},
   "outputs": [],
   "source": [
    "x = tensor([2, 7, 1])[height()]\n",
    "y = tensor([1, 4, 1])[width()]"
   ]
  },
  {
   "cell_type": "markdown",
   "metadata": {},
   "source": [
    "Binary addition operation:"
   ]
  },
  {
   "cell_type": "markdown",
   "metadata": {},
   "source": [
    "$$\n",
    "\\begin{aligned}\n",
    "A + x &= \\mathsf{\\vphantom{fg}height}\n",
    "\\begin{array}[b]{@{}c@{}}\\mathsf{\\vphantom{fg}width}\\\\\\begin{bmatrix}\n",
    "  3+2 & 1+2 & 4+2 \\\\\n",
    "  1+7 & 5+7 & 9+7 \\\\\n",
    "  2+1 & 6+1 & 5+1\n",
    "\\end{bmatrix}\\end{array} &\n",
    "A + y &= \\mathsf{\\vphantom{fg}height}\n",
    "\\begin{array}[b]{@{}c@{}}\\mathsf{\\vphantom{fg}width}\\\\\\begin{bmatrix}\n",
    "  3+1 & 1+4 & 4+1 \\\\\n",
    "  1+1 & 5+4 & 9+1 \\\\\n",
    "  2+1 & 6+4 & 5+1\n",
    "\\end{bmatrix}\\end{array}.\n",
    "\\end{aligned}\n",
    "$$"
   ]
  },
  {
   "cell_type": "code",
   "execution_count": 103,
   "metadata": {},
   "outputs": [
    {
     "data": {
      "text/plain": [
       "tensor([[ 5,  3,  6],\n",
       "        [ 8, 12, 16],\n",
       "        [ 3,  7,  6]])[height(), width()]"
      ]
     },
     "execution_count": 103,
     "metadata": {},
     "output_type": "execute_result"
    }
   ],
   "source": [
    "A + x"
   ]
  },
  {
   "cell_type": "code",
   "execution_count": 104,
   "metadata": {},
   "outputs": [
    {
     "data": {
      "text/plain": [
       "tensor([[ 4,  5,  5],\n",
       "        [ 2,  9, 10],\n",
       "        [ 3, 10,  6]])[height(), width()]"
      ]
     },
     "execution_count": 104,
     "metadata": {},
     "output_type": "execute_result"
    }
   ],
   "source": [
    "A + y"
   ]
  },
  {
   "cell_type": "markdown",
   "metadata": {},
   "source": [
    "Binary multiplication operation:\n",
    "\n",
    "$$\n",
    "A \\odot x = \\mathsf{\\vphantom{fg}height}\n",
    "\\begin{array}[b]{@{}c@{}}\\mathsf{\\vphantom{fg}width}\\\\\\begin{bmatrix}\n",
    "  3\\cdot2 & 1\\cdot2 & 4\\cdot2 \\\\\n",
    "  1\\cdot7 & 5\\cdot7 & 9\\cdot7 \\\\\n",
    "  2\\cdot1 & 6\\cdot1 & 5\\cdot1\n",
    "\\end{bmatrix}\\end{array}\n",
    "$$"
   ]
  },
  {
   "cell_type": "code",
   "execution_count": 105,
   "metadata": {},
   "outputs": [
    {
     "data": {
      "text/plain": [
       "tensor([[ 6,  2,  8],\n",
       "        [ 7, 35, 63],\n",
       "        [ 2,  6,  5]])[height(), width()]"
      ]
     },
     "execution_count": 105,
     "metadata": {},
     "output_type": "execute_result"
    }
   ],
   "source": [
    "A * x"
   ]
  },
  {
   "cell_type": "markdown",
   "metadata": {},
   "source": [
    "Binary maximum operation:\n",
    "\n",
    "$$\n",
    "\\max(A, y) = \\mathsf{\\vphantom{fg}height}\n",
    "\\begin{array}[b]{@{}c@{}}\\mathsf{\\vphantom{fg}width}\\\\\\begin{bmatrix}\n",
    "  \\max(3, 1) & \\max(1, 4) & \\max(4, 1) \\\\\n",
    "  \\max(1, 1) & \\max(5, 4) & \\max(9, 1) \\\\\n",
    "  \\max(2, 1) & \\max(6, 4) & \\max(5, 1)\n",
    "\\end{bmatrix}\\end{array}.\n",
    "$$"
   ]
  },
  {
   "cell_type": "code",
   "execution_count": 106,
   "metadata": {},
   "outputs": [
    {
     "data": {
      "text/plain": [
       "tensor([[3, 4, 4],\n",
       "        [1, 5, 9],\n",
       "        [2, 6, 5]])[height(), width()]"
      ]
     },
     "execution_count": 106,
     "metadata": {},
     "output_type": "execute_result"
    }
   ],
   "source": [
    "torch.max(A, y)"
   ]
  },
  {
   "cell_type": "markdown",
   "metadata": {},
   "source": [
    "### Reductions"
   ]
  },
  {
   "cell_type": "markdown",
   "metadata": {},
   "source": [
    "Named axes can be reduced over by calling the `.reduce` method and specifying the [reduction operator](https://en.wikipedia.org/wiki/Reduction_Operator) and names of reduced axes. Note that reduction is defined only for operators that are associative and commutative."
   ]
  },
  {
   "cell_type": "markdown",
   "metadata": {},
   "source": [
    "$$\n",
    "\\sum\\limits_{\\substack{\\mathsf{\\vphantom{fg}height}}} A = \\sum_i A_{\\mathsf{\\vphantom{fg}height}(i)} = \\begin{array}[b]{@{}c@{}}\\mathsf{\\vphantom{fg}width}\\\\\n",
    "\\begin{bmatrix}\n",
    "  3+1+2 & 1+5+6 & 4+9+5\n",
    "\\end{bmatrix}\\end{array}.\n",
    "$$"
   ]
  },
  {
   "cell_type": "code",
   "execution_count": 107,
   "metadata": {},
   "outputs": [
    {
     "data": {
      "text/plain": [
       "tensor([ 6, 12, 18])[width()]"
      ]
     },
     "execution_count": 107,
     "metadata": {},
     "output_type": "execute_result"
    }
   ],
   "source": [
    "reduce([height], A, torch.sum)"
   ]
  },
  {
   "cell_type": "markdown",
   "metadata": {},
   "source": [
    "$$\n",
    "\\sum\\limits_{\\substack{\\mathsf{\\vphantom{fg}width}}} A = \\sum_j A_{\\mathsf{\\vphantom{fg}width}(j)} = \\begin{array}[b]{@{}c@{}}\\mathsf{\\vphantom{fg}height}\\\\\n",
    "\\begin{bmatrix}\n",
    "  3+1+4 & 1+5+9 & 2+6+5\n",
    "\\end{bmatrix}\\end{array}.\n",
    "$$"
   ]
  },
  {
   "cell_type": "code",
   "execution_count": 108,
   "metadata": {},
   "outputs": [
    {
     "data": {
      "text/plain": [
       "tensor([ 8, 15, 13])[height()]"
      ]
     },
     "execution_count": 108,
     "metadata": {},
     "output_type": "execute_result"
    }
   ],
   "source": [
    "reduce([width], A, torch.sum)"
   ]
  },
  {
   "cell_type": "markdown",
   "metadata": {},
   "source": [
    "Reduction over multiple axes:"
   ]
  },
  {
   "cell_type": "markdown",
   "metadata": {},
   "source": [
    "$$\n",
    "\\sum\\limits_{\\substack{\\mathsf{\\vphantom{fg}height}\\\\\n",
    " \\mathsf{\\vphantom{fg}width}}} A = \\sum_i \\sum_j A_{\\mathsf{\\vphantom{fg}height}(i),\\mathsf{\\vphantom{fg}width}(j)} = 3+1+4+1+5+9+2+6+5.\n",
    " $$"
   ]
  },
  {
   "cell_type": "code",
   "execution_count": 109,
   "metadata": {},
   "outputs": [
    {
     "data": {
      "text/plain": [
       "tensor(36)"
      ]
     },
     "execution_count": 109,
     "metadata": {},
     "output_type": "execute_result"
    }
   ],
   "source": [
    "reduce([height, width], A, torch.sum)"
   ]
  },
  {
   "cell_type": "markdown",
   "metadata": {},
   "source": [
    "Multiplication reduction:"
   ]
  },
  {
   "cell_type": "markdown",
   "metadata": {},
   "source": [
    "$$\n",
    "\\prod\\limits_{\\substack{\\mathsf{\\vphantom{fg}height}}} A = \\prod_i A_{\\mathsf{\\vphantom{fg}height}(i)} = \\begin{array}[b]{@{}c@{}}\\mathsf{\\vphantom{fg}width}\\\\\n",
    "\\begin{bmatrix}\n",
    "  3\\cdot1\\cdot2 & 1\\cdot5\\cdot6 & 4\\cdot9\\cdot5\n",
    "\\end{bmatrix}\\end{array}.\n",
    "$$"
   ]
  },
  {
   "cell_type": "code",
   "execution_count": 110,
   "metadata": {},
   "outputs": [
    {
     "data": {
      "text/plain": [
       "tensor([  6,  30, 180])[width()]"
      ]
     },
     "execution_count": 110,
     "metadata": {},
     "output_type": "execute_result"
    }
   ],
   "source": [
    "reduce([height], A, torch.prod)"
   ]
  },
  {
   "cell_type": "markdown",
   "metadata": {},
   "source": [
    "Max reduction:"
   ]
  },
  {
   "cell_type": "markdown",
   "metadata": {},
   "source": [
    "$$\n",
    "\\max\\limits_{\\substack{\\mathsf{\\vphantom{fg}height}}} A = \\max \\{A_{\\mathsf{\\vphantom{fg}height}(i)} \\mid 1 \\leq i \\leq n\\} = \\begin{array}[b]{@{}c@{}}\\mathsf{\\vphantom{fg}width}\\\\\n",
    "\\begin{bmatrix}\n",
    "  \\max(3, 1, 2) & \\max(1, 5, 6) & \\max(4, 9, 5)\n",
    "\\end{bmatrix}\\end{array}.\n",
    "$$"
   ]
  },
  {
   "cell_type": "code",
   "execution_count": 111,
   "metadata": {},
   "outputs": [
    {
     "data": {
      "text/plain": [
       "tensor([3, 6, 9])[width()]"
      ]
     },
     "execution_count": 111,
     "metadata": {},
     "output_type": "execute_result"
    }
   ],
   "source": [
    "reduce([height], A, torch.amax)"
   ]
  },
  {
   "cell_type": "markdown",
   "metadata": {},
   "source": [
    "### Contraction"
   ]
  },
  {
   "cell_type": "markdown",
   "metadata": {},
   "source": [
    "Contraction operation can be written as elementwise multiplication followed by summation over an axis:"
   ]
  },
  {
   "cell_type": "markdown",
   "metadata": {},
   "source": [
    "$$\n",
    "A \\mathbin{\\underset{\\substack{\\mathsf{\\vphantom{fg}width}}}{\\vphantom{fg}\\odot}} y = \\sum_j A_{\\mathsf{\\vphantom{fg}width}(j)} \\, y_{\\mathsf{\\vphantom{fg}width}(j)} = \\mathsf{\\vphantom{fg}height}\n",
    "\\begin{array}[b]{@{}c@{}}\\\\\\begin{bmatrix}\n",
    "  3\\cdot 1 + 1\\cdot 4 + 4\\cdot 1 \\\\\n",
    "  1\\cdot 1 + 5\\cdot 4 + 9\\cdot 1 \\\\\n",
    "  2\\cdot 1 + 6\\cdot 4 + 5\\cdot 1\n",
    "\\end{bmatrix}\\end{array}.\n",
    "$$"
   ]
  },
  {
   "cell_type": "code",
   "execution_count": 112,
   "metadata": {},
   "outputs": [
    {
     "data": {
      "text/plain": [
       "tensor([11, 30, 31])[height()]"
      ]
     },
     "execution_count": 112,
     "metadata": {},
     "output_type": "execute_result"
    }
   ],
   "source": [
    "reduce([width], A * y, torch.sum)"
   ]
  },
  {
   "cell_type": "markdown",
   "metadata": {},
   "source": [
    "Some other operations from linear algebra:"
   ]
  },
  {
   "cell_type": "markdown",
   "metadata": {},
   "source": [
    "$$\n",
    "x \\mathbin{\\underset{\\substack{\\mathsf{\\vphantom{fg}height}}}{\\vphantom{fg}\\odot}} x = \\sum_i x_{\\mathsf{\\vphantom{fg}height}(i)} \\, x_{\\mathsf{\\vphantom{fg}height}(i)} \\qquad \\text{inner product}\n",
    "$$"
   ]
  },
  {
   "cell_type": "code",
   "execution_count": 113,
   "metadata": {},
   "outputs": [
    {
     "data": {
      "text/plain": [
       "tensor(54)"
      ]
     },
     "execution_count": 113,
     "metadata": {},
     "output_type": "execute_result"
    }
   ],
   "source": [
    "reduce([height], x * x, torch.sum)"
   ]
  },
  {
   "cell_type": "markdown",
   "metadata": {},
   "source": [
    "$$\n",
    "[x \\odot y]_{\\mathsf{\\vphantom{fg}height}(i), \\mathsf{\\vphantom{fg}width}(j)} = x_{\\mathsf{\\vphantom{fg}height}(i)} \\, y_{\\mathsf{\\vphantom{fg}width}(j)} \\qquad \\text{outer product}\n",
    "$$"
   ]
  },
  {
   "cell_type": "code",
   "execution_count": 114,
   "metadata": {},
   "outputs": [
    {
     "data": {
      "text/plain": [
       "tensor([[ 2,  8,  2],\n",
       "        [ 7, 28,  7],\n",
       "        [ 1,  4,  1]])[height(), width()]"
      ]
     },
     "execution_count": 114,
     "metadata": {},
     "output_type": "execute_result"
    }
   ],
   "source": [
    "x * y"
   ]
  },
  {
   "cell_type": "markdown",
   "metadata": {},
   "source": [
    "$$\n",
    "A \\mathbin{\\underset{\\substack{\\mathsf{\\vphantom{fg}width}}}{\\vphantom{fg}\\odot}} y = \\sum_i A_{\\mathsf{\\vphantom{fg}width}(i)} \\, y_{\\mathsf{\\vphantom{fg}width}(i)} \\qquad \\text{matrix-vector product}\n",
    "$$"
   ]
  },
  {
   "cell_type": "code",
   "execution_count": 115,
   "metadata": {},
   "outputs": [
    {
     "data": {
      "text/plain": [
       "tensor([11, 30, 31])[height()]"
      ]
     },
     "execution_count": 115,
     "metadata": {},
     "output_type": "execute_result"
    }
   ],
   "source": [
    "reduce([width], A * y, torch.sum)"
   ]
  },
  {
   "cell_type": "markdown",
   "metadata": {},
   "source": [
    "$$\n",
    "x \\mathbin{\\underset{\\substack{\\mathsf{\\vphantom{fg}height}}}{\\vphantom{fg}\\odot}} A = \\sum_i x_{\\mathsf{\\vphantom{fg}height}(i)} \\, A_{\\mathsf{\\vphantom{fg}height}(i)} \\qquad \\text{vector-matrix product} \\\\\n",
    "$$"
   ]
  },
  {
   "cell_type": "code",
   "execution_count": 116,
   "metadata": {},
   "outputs": [
    {
     "data": {
      "text/plain": [
       "tensor([15, 43, 76])[width()]"
      ]
     },
     "execution_count": 116,
     "metadata": {},
     "output_type": "execute_result"
    }
   ],
   "source": [
    "reduce([height], x * A, torch.sum)"
   ]
  },
  {
   "cell_type": "markdown",
   "metadata": {},
   "source": [
    "$$\n",
    "A \\mathbin{\\underset{\\substack{\\mathsf{\\vphantom{fg}width}}}{\\vphantom{fg}\\odot}} B = \\sum_i A_{\\mathsf{\\vphantom{fg}width}(i)} \\odot B_{\\mathsf{\\vphantom{fg}width}(i)} \\qquad \\text{matrix-matrix product}~(B \\in \\mathbb{R}^{\\mathsf{\\vphantom{fg}width}\\times \\mathsf{\\vphantom{fg}width2}})\n",
    "$$"
   ]
  },
  {
   "cell_type": "code",
   "execution_count": 117,
   "metadata": {},
   "outputs": [
    {
     "data": {
      "text/plain": [
       "tensor([[ 46,  22,  39],\n",
       "        [100,  49,  59],\n",
       "        [ 76,  43,  40]])[height(), width2()]"
      ]
     },
     "execution_count": 117,
     "metadata": {},
     "output_type": "execute_result"
    }
   ],
   "source": [
    "width2 = name_to_symbol(\"width2\")\n",
    "B = tensor([[3, 2, 5], [5, 4, 0], [8, 3, 6]])[width(), width2()]\n",
    "reduce([width], A * B, torch.sum)"
   ]
  },
  {
   "cell_type": "markdown",
   "metadata": {},
   "source": [
    "Contraction can be generalized to other binary and reduction operations:"
   ]
  },
  {
   "cell_type": "markdown",
   "metadata": {},
   "source": [
    "$$\n",
    "\\max_{\\mathsf{\\vphantom{fg}width}} (A + y) = \\mathsf{\\vphantom{fg}height}\n",
    "\\begin{array}[b]{@{}c@{}}\\\\\\begin{bmatrix}\n",
    "  \\max(3+1, 1+4, 4+1) \\\\\n",
    "  \\max(1+1, 5+4, 9+1) \\\\\n",
    "  \\max(2+1, 6+4, 5+1)\n",
    "\\end{bmatrix}\\end{array}.\n",
    "$$"
   ]
  },
  {
   "cell_type": "code",
   "execution_count": 118,
   "metadata": {},
   "outputs": [
    {
     "data": {
      "text/plain": [
       "tensor([ 5, 10, 10])[height()]"
      ]
     },
     "execution_count": 118,
     "metadata": {},
     "output_type": "execute_result"
    }
   ],
   "source": [
    "reduce([width], A + y, torch.amax)"
   ]
  },
  {
   "cell_type": "markdown",
   "metadata": {},
   "source": [
    "### Renaming and Reshaping"
   ]
  },
  {
   "cell_type": "markdown",
   "metadata": {},
   "source": [
    "Renaming named dimensions is simple:"
   ]
  },
  {
   "cell_type": "markdown",
   "metadata": {},
   "source": [
    "$$\n",
    "A_{\\mathsf{\\vphantom{fg}height}\\rightarrow\\mathsf{\\vphantom{fg}height2}} = \\mathsf{\\vphantom{fg}height2}\n",
    "\\begin{array}[b]{@{}c@{}}\\mathsf{\\vphantom{fg}width}\n",
    "\\\\\\begin{bmatrix}\n",
    "  3 & 1 & 4 \\\\\n",
    "  1 & 5 & 9 \\\\\n",
    "  2 & 6 & 5 \\\\\n",
    "\\end{bmatrix}\\end{array}.\n",
    "$$"
   ]
  },
  {
   "cell_type": "code",
   "execution_count": 119,
   "metadata": {},
   "outputs": [
    {
     "name": "stdout",
     "output_type": "stream",
     "text": [
      "tensor([[3, 1, 4],\n",
      "        [1, 5, 9],\n",
      "        [2, 6, 5]])[height2(), width()]\n"
     ]
    }
   ],
   "source": [
    "height2 = name_to_symbol(\"height2\")\n",
    "A2 = subst(A, {height: height2()})\n",
    "print(A2)"
   ]
  },
  {
   "cell_type": "markdown",
   "metadata": {},
   "source": [
    "$$\n",
    "A_{(\\mathsf{\\vphantom{fg}height},\\mathsf{\\vphantom{fg}width})\\rightarrow\\mathsf{\\vphantom{fg}layer}} = \\begin{array}[b]{@{}c@{}}\\mathsf{\\vphantom{fg}layer}\\\\\n",
    "\\begin{bmatrix}\n",
    "    3 & 1 & 4 & 1 & 5 & 9 & 2 & 6 & 5\n",
    "\\end{bmatrix}\\end{array}\n",
    "$$"
   ]
  },
  {
   "cell_type": "code",
   "execution_count": 120,
   "metadata": {},
   "outputs": [
    {
     "name": "stdout",
     "output_type": "stream",
     "text": [
      "tensor(4)\n"
     ]
    }
   ],
   "source": [
    "layer = name_to_symbol(\"layer\")\n",
    "A_layer = subst(\n",
    "    A, {height: layer() // torch.tensor(3), width: layer() % torch.tensor(3)}\n",
    ")\n",
    "A_layer_2 = subst(A_layer, {layer: torch.tensor(2)})\n",
    "print(A_layer_2)"
   ]
  },
  {
   "cell_type": "markdown",
   "metadata": {},
   "source": [
    "$$\n",
    "A_{\\mathsf{\\vphantom{fg}layer}\\rightarrow(\\mathsf{\\vphantom{fg}height},\\mathsf{\\vphantom{fg}width})} = \\mathsf{\\vphantom{fg}height}\n",
    "\\begin{array}[b]{@{}c@{}}\\mathsf{\\vphantom{fg}width}\n",
    "\\\\\\begin{bmatrix}\n",
    "  3 & 1 & 4 \\\\\n",
    "  1 & 5 & 9 \\\\\n",
    "  2 & 6 & 5 \\\\\n",
    "\\end{bmatrix}\\end{array}.\n",
    "$$"
   ]
  },
  {
   "cell_type": "code",
   "execution_count": 121,
   "metadata": {},
   "outputs": [
    {
     "name": "stdout",
     "output_type": "stream",
     "text": [
      "torch_getitem(tensor([[3, 1, 4],\n",
      "        [1, 5, 9],\n",
      "        [2, 6, 5]]), ['floor_divide(add(mul(height2(), 3), fmod(width(), 3)), tensor(3))', 'fmod(add(mul(height2(), 3), fmod(width(), 3)), tensor(3))'])\n"
     ]
    }
   ],
   "source": [
    "A_layer_hw = subst(A_layer, {layer: height2() * 3 + width() % 3})\n",
    "print(A_layer_hw)"
   ]
  },
  {
   "cell_type": "markdown",
   "metadata": {},
   "source": [
    "## Advanced Indexing"
   ]
  },
  {
   "cell_type": "markdown",
   "metadata": {},
   "source": [
    "All of advanced indexing can be achieved through name substitutions."
   ]
  },
  {
   "cell_type": "markdown",
   "metadata": {},
   "source": [
    "$$\n",
    "\\mathop{\\underset{\\substack{\\mathsf{\\vphantom{fg}ax}}}{\\vphantom{fg}\\mathrm{index}}} \\colon \\mathbb{R}^{\\mathsf{\\vphantom{fg}ax}[n]} \\times [n] \\rightarrow \\mathbb{R}\\\\\n",
    "\\mathop{\\underset{\\substack{\\mathsf{\\vphantom{fg}ax}}}{\\vphantom{fg}\\mathrm{index}}}(A, i) = A_{\\mathsf{\\vphantom{fg}ax}(i)}.\n",
    "$$"
   ]
  },
  {
   "cell_type": "markdown",
   "metadata": {},
   "source": [
    "$$\n",
    "\\begin{aligned}\n",
    "  E &\\in \\mathbb{R}^{\\mathsf{\\vphantom{fg}vocab}[n] \\times \\mathsf{\\vphantom{fg}emb}} \\\\\n",
    "  i &\\in [n] \\\\\n",
    "  I &\\in [n]^{\\mathsf{\\vphantom{fg}seq}} \\\\\n",
    "  P &\\in \\mathbb{R}^{\\mathsf{\\vphantom{fg}seq}\\times \\mathsf{\\vphantom{fg}vocab}[n]}\n",
    "\\end{aligned}\n",
    "$$"
   ]
  },
  {
   "cell_type": "markdown",
   "metadata": {},
   "source": [
    "Partial indexing $\\mathop{\\underset{\\substack{\\mathsf{\\vphantom{fg}vocab}}}{\\vphantom{fg}\\mathrm{index}}}(E,i)$:"
   ]
  },
  {
   "cell_type": "code",
   "execution_count": 122,
   "metadata": {},
   "outputs": [
    {
     "data": {
      "text/plain": [
       "tensor([1, 3, 7])[emb()]"
      ]
     },
     "execution_count": 122,
     "metadata": {},
     "output_type": "execute_result"
    }
   ],
   "source": [
    "vocab, emb = name_to_symbol(\"vocab\"), name_to_symbol(\"emb\")\n",
    "E = torch.tensor([[2, 1, 5], [3, 4, 2], [1, 3, 7], [1, 4, 3], [5, 9, 2]])[\n",
    "    vocab(), emb()\n",
    "]\n",
    "subst(E, {vocab: 2})"
   ]
  },
  {
   "cell_type": "markdown",
   "metadata": {},
   "source": [
    "Integer array indexing $\\mathop{\\underset{\\substack{\\mathsf{\\vphantom{fg}vocab}}}{\\vphantom{fg}\\mathrm{index}}}(E,I)$:"
   ]
  },
  {
   "cell_type": "code",
   "execution_count": 123,
   "metadata": {},
   "outputs": [
    {
     "data": {
      "text/plain": [
       "tensor([[1, 4, 3],\n",
       "        [1, 3, 7],\n",
       "        [5, 9, 2],\n",
       "        [2, 1, 5]])[seq(), emb()]"
      ]
     },
     "execution_count": 123,
     "metadata": {},
     "output_type": "execute_result"
    }
   ],
   "source": [
    "seq = name_to_symbol(\"seq\")\n",
    "I0 = torch.tensor([3, 2, 4, 0])[seq()]\n",
    "subst(E, {vocab: I0})"
   ]
  },
  {
   "cell_type": "markdown",
   "metadata": {},
   "source": [
    "Gather operation $\\mathop{\\underset{\\substack{\\mathsf{\\vphantom{fg}vocab}}}{\\vphantom{fg}\\mathrm{index}}}(P,I)$:"
   ]
  },
  {
   "cell_type": "code",
   "execution_count": 124,
   "metadata": {},
   "outputs": [
    {
     "data": {
      "text/plain": [
       "tensor([1, 5, 2, 2])[seq()]"
      ]
     },
     "execution_count": 124,
     "metadata": {},
     "output_type": "execute_result"
    }
   ],
   "source": [
    "P = torch.tensor(\n",
    "    [[6, 2, 4, 2], [8, 2, 1, 3], [5, 5, 7, 0], [1, 3, 8, 2], [5, 9, 2, 3]]\n",
    ")[vocab(), seq()]\n",
    "\n",
    "subst(P, {vocab: I0})"
   ]
  },
  {
   "cell_type": "markdown",
   "metadata": {},
   "source": [
    "Indexing with two integer arrays:\n",
    "\n",
    "$$\n",
    "\\begin{aligned}\n",
    "  |\\mathsf{\\vphantom{fg}seq}| &= m \\\\\n",
    "  I_1 &= [m]^\\mathsf{\\vphantom{fg}subseq}\\\\\n",
    "  I_2 &= [n]^\\mathsf{\\vphantom{fg}subseq}\\\\\n",
    "  S &= \\mathop{\\underset{\\substack{\\mathsf{\\vphantom{fg}vocab}}}{\\vphantom{fg}\\mathrm{index}}}(\\mathop{\\underset{\\substack{\\mathsf{\\vphantom{fg}seq}}}{\\vphantom{fg}\\mathrm{index}}}(P, I_1), I_2) \\in \\mathbb{R}^{\\mathsf{\\vphantom{fg}subseq}} \\\\\n",
    "  S_{\\mathsf{\\vphantom{fg}subseq}(i)} &= P_{\\mathsf{\\vphantom{fg}seq}(I_{\\mathsf{\\vphantom{fg}subseq}(i)}), \\mathsf{\\vphantom{fg}vocab}(I_{\\mathsf{\\vphantom{fg}subseq}(i)})}.\n",
    "\\end{aligned}\n",
    "$$"
   ]
  },
  {
   "cell_type": "code",
   "execution_count": 125,
   "metadata": {},
   "outputs": [
    {
     "data": {
      "text/plain": [
       "tensor([3, 4, 5])[subseq()]"
      ]
     },
     "execution_count": 125,
     "metadata": {},
     "output_type": "execute_result"
    }
   ],
   "source": [
    "subseq = name_to_symbol(\"subseq\")\n",
    "I1 = torch.tensor([1, 2, 0])[subseq()]\n",
    "I2 = torch.tensor([3, 0, 4])[subseq()]\n",
    "\n",
    "subst(P, {seq: I1, vocab: I2})"
   ]
  },
  {
   "cell_type": "markdown",
   "metadata": {},
   "source": [
    "## Constructing Neural Networks"
   ]
  },
  {
   "cell_type": "markdown",
   "metadata": {},
   "source": [
    "### Feedforward"
   ]
  },
  {
   "cell_type": "markdown",
   "metadata": {},
   "source": [
    "\\begin{aligned}\n",
    "  X^0 &\\in \\mathbb{R}^{\\mathsf{\\vphantom{fg}input}} \\\\\n",
    "  X^1 &= \\sigma(W^1 \\mathbin{\\underset{\\substack{\\mathsf{\\vphantom{fg}input}}}{\\vphantom{fg}\\odot}} X^0 + b^1) & W^1 &\\in \\mathbb{R}^{\\mathsf{\\vphantom{fg}hidden}_1 \\times \\mathsf{\\vphantom{fg}input}} & b^1 &\\in \\mathbb{R}^{\\mathsf{\\vphantom{fg}hidden}_1} \\\\\n",
    "  X^2 &= \\sigma(W^2 \\mathbin{\\underset{\\substack{\\mathsf{\\vphantom{fg}hidden}_1}}{\\vphantom{fg}\\odot}} X^1 + b^2) & W^2 &\\in \\mathbb{R}^{\\mathsf{\\vphantom{fg}hidden}_2 \\times \\mathsf{\\vphantom{fg}hidden}_1} & b^2 &\\in \\mathbb{R}^{\\mathsf{\\vphantom{fg}hidden}_2} \\\\\n",
    "  X^3 &= \\sigma(W^3 \\mathbin{\\underset{\\substack{\\mathsf{\\vphantom{fg}hidden}_2}}{\\vphantom{fg}\\odot}} X^2 + b^3) & W^3 &\\in \\mathbb{R}^{\\mathsf{\\vphantom{fg}out}\\times \\mathsf{\\vphantom{fg}hidden}_2} & b^3 &\\in \\mathbb{R}^{\\mathsf{\\vphantom{fg}out}}\n",
    "\\end{aligned}"
   ]
  },
  {
   "cell_type": "markdown",
   "metadata": {},
   "source": [
    "$$\n",
    "\\begin{aligned}\n",
    "x &\\in \\mathbb{R}^{\\mathsf{\\vphantom{fg}layer}[n_0]} \\\\\n",
    "W^l &\\in \\mathbb{R}^{\\mathsf{\\vphantom{fg}layer^2}[n_l] \\times \\mathsf{\\vphantom{fg}layer}[n_{l-1}]} \\\\\n",
    "  b^l &\\in \\mathbb{R}^{\\mathsf{\\vphantom{fg}layer^2}[n_l]} \\\\\n",
    "  \\text{FullConn}^l(x) &= \\sigma\\left(W^l \\mathbin{\\underset{\\substack{\\mathsf{\\vphantom{fg}layer}}}{\\vphantom{fg}\\odot}} x + b^l\\right)_{\\mathsf{\\vphantom{fg}layer^2}\\rightarrow\\mathsf{\\vphantom{fg}layer}}\n",
    "\\end{aligned}\n",
    "$$"
   ]
  },
  {
   "cell_type": "code",
   "execution_count": 126,
   "metadata": {},
   "outputs": [],
   "source": [
    "@defop\n",
    "def FullConn(\n",
    "    x: Annotated[torch.Tensor, Scoped[S1]],\n",
    "    W: Annotated[torch.Tensor, Scoped[S1]],\n",
    "    b: Annotated[torch.Tensor, Scoped[S1]],\n",
    "    layer: Annotated[Operation[[], torch.Tensor], Scoped[S1]],\n",
    ") -> torch.Tensor:\n",
    "    return reduce([layer], torch.sigmoid(torch.mul(W, x)), torch.sum) + b"
   ]
  },
  {
   "cell_type": "code",
   "execution_count": 127,
   "metadata": {},
   "outputs": [
    {
     "data": {
      "text/plain": [
       "tensor([48.3593, 49.3429, 49.6938, 49.5739, 49.7935, 47.6643, 48.5268, 48.7058,\n",
       "        48.5753, 47.1171, 49.0021, 46.8736, 49.2892, 49.6605, 48.2557, 50.7229,\n",
       "        51.1484, 50.1436, 53.6581, 49.8802, 48.9300, 47.6961, 51.9077, 49.2896,\n",
       "        52.1283, 49.2487, 52.4998, 49.8213, 47.8229, 53.0242, 53.1161, 50.2577])[output()]"
      ]
     },
     "execution_count": 127,
     "metadata": {},
     "output_type": "execute_result"
    }
   ],
   "source": [
    "input_size = 100\n",
    "output_size = 32\n",
    "input_, output = name_to_symbol(\"input\"), name_to_symbol(\"output\")\n",
    "\n",
    "W = torch.randn(input_size, output_size)[input_(), output()]\n",
    "b = torch.randn(output_size)[output()]\n",
    "X = torch.randn(input_size)[input_()]\n",
    "\n",
    "FullConn(X, W, b, input_)"
   ]
  },
  {
   "cell_type": "markdown",
   "metadata": {},
   "source": [
    "### Recurrent"
   ]
  },
  {
   "cell_type": "markdown",
   "metadata": {},
   "source": [
    "$$\n",
    "\\begin{aligned}\n",
    "x^{t} &\\in \\mathbb{R}^{\\mathsf{\\vphantom{fg}input}} & t &= 1, \\ldots, n \\\\\n",
    "W^{\\text{h}} &\\in \\mathbb{R}^{\\mathsf{\\vphantom{fg}hidden}\\times \\mathsf{\\vphantom{fg}hidden}^\\prime} & |\\mathsf{\\vphantom{fg}hidden}| &= |\\mathsf{\\vphantom{fg}hidden}^\\prime| \\\\\n",
    "W^{\\text{i}} &\\in \\mathbb{R}^{\\mathsf{\\vphantom{fg}input}\\times \\mathsf{\\vphantom{fg}hidden}^\\prime} \\\\\n",
    "b &\\in \\mathbb{R}^{\\mathsf{\\vphantom{fg}hidden}^\\prime} \\\\\n",
    "h^{0} &\\in \\mathbb{R}^{\\mathsf{\\vphantom{fg}hidden}} \\\\\n",
    "h^{t} &= \\sigma\\left( W^{\\text{h}} \\mathbin{\\underset{\\substack{\\mathsf{\\vphantom{fg}hidden}}}{\\vphantom{fg}\\odot}} h^{t-1} + W^{\\text{i}} \\mathbin{\\underset{\\substack{\\mathsf{\\vphantom{fg}input}}}{\\vphantom{fg}\\odot}} x^{t} + b \\right)_{\\mathsf{\\vphantom{fg}hidden}^\\prime\\rightarrow\\mathsf{\\vphantom{fg}hidden}} & t &= 1, \\ldots, n\n",
    "\\end{aligned}\n",
    "$$"
   ]
  },
  {
   "cell_type": "code",
   "execution_count": 128,
   "metadata": {},
   "outputs": [],
   "source": [
    "@defop\n",
    "def RNN(\n",
    "    x: Annotated[torch.Tensor, Scoped[S1]],\n",
    "    Wh: Annotated[torch.Tensor, Scoped[S1]],\n",
    "    Wi: Annotated[torch.Tensor, Scoped[S1]],\n",
    "    b: Annotated[torch.Tensor, Scoped[S1]],\n",
    "    h: Annotated[torch.Tensor, Scoped[S1]],\n",
    "    hidden: Annotated[Operation[[], torch.Tensor], Scoped[S1]],\n",
    "    layer: Annotated[Operation[[], torch.Tensor], Scoped[S1]],\n",
    ") -> torch.Tensor:\n",
    "    return torch.sigmoid(\n",
    "        reduce([hidden], Wh * h, torch.sum) + reduce([layer], Wi * x, torch.sum) + b\n",
    "    )"
   ]
  },
  {
   "cell_type": "code",
   "execution_count": 129,
   "metadata": {},
   "outputs": [
    {
     "data": {
      "text/plain": [
       "tensor([8.6180e-10, 9.9987e-01, 9.9873e-01, 9.9986e-01, 7.8778e-03, 4.5436e-16,\n",
       "        1.0000e+00, 9.9496e-01, 4.9092e-02, 9.9985e-01, 1.0000e+00, 4.3122e-13,\n",
       "        6.1678e-02, 9.9988e-01, 9.1688e-01, 6.8095e-01, 6.0129e-04, 2.8505e-01,\n",
       "        1.1069e-08, 1.7512e-01, 9.9994e-01, 1.0000e+00, 1.0000e+00, 9.9999e-01,\n",
       "        7.7253e-04, 5.0269e-01, 2.1951e-01, 1.4707e-08, 6.5843e-03, 1.0000e+00,\n",
       "        3.5189e-01, 9.9996e-01])[hidden2()]"
      ]
     },
     "execution_count": 129,
     "metadata": {},
     "output_type": "execute_result"
    }
   ],
   "source": [
    "input_size = 100\n",
    "hidden_size = 32\n",
    "input_, hidden, hidden2 = map(name_to_symbol, (\"input\", \"hidden\", \"hidden2\"))\n",
    "\n",
    "Wh = torch.randn(hidden_size, hidden_size)[hidden(), hidden2()]\n",
    "Wi = torch.randn(input_size, hidden_size)[input_(), hidden2()]\n",
    "b = torch.randn(hidden_size)[hidden2()]\n",
    "h = torch.randn(hidden_size)[hidden()]\n",
    "x = torch.randn(input_size)[input_()]\n",
    "\n",
    "RNN(x, Wh, Wi, b, h, hidden, input_)"
   ]
  },
  {
   "cell_type": "markdown",
   "metadata": {},
   "source": [
    "### Attention"
   ]
  },
  {
   "cell_type": "code",
   "execution_count": 130,
   "metadata": {},
   "outputs": [],
   "source": [
    "@defop\n",
    "def Softmax(\n",
    "    x: Annotated[torch.Tensor, Scoped[S1]],\n",
    "    ax: Annotated[Operation[[], torch.Tensor], Scoped[S1]],\n",
    "    ax2: Annotated[Operation[[], torch.Tensor], Scoped[S1]],\n",
    ") -> torch.Tensor:\n",
    "    x = subst(x, {ax: ax2()})\n",
    "    y = x - reduce([ax2], x, torch.logsumexp)\n",
    "    return y.exp()"
   ]
  },
  {
   "cell_type": "markdown",
   "metadata": {},
   "source": [
    "\\begin{aligned}\n",
    "  \\text{Attention} \\colon \\mathbb{R}^{\\mathsf{\\vphantom{fg}key}} \\times \\mathbb{R}^{\\mathsf{\\vphantom{fg}seq}\\times\\mathsf{\\vphantom{fg}key}} \\times \\mathbb{R}^{\\mathsf{\\vphantom{fg}seq}\\times\\mathsf{\\vphantom{fg}val}} \\times \\mathbb{R}^{\\mathsf{\\vphantom{fg}seq}} &\\rightarrow \\mathbb{R}^{\\mathsf{\\vphantom{fg}val}} \\\\\n",
    "\\text{Attention}(Q, K, V, M) &= \\mathop{\\underset{\\substack{\\mathsf{\\vphantom{fg}seq}}}{\\vphantom{fg}\\mathrm{softmax}}} \\left( \\frac{Q \\mathbin{\\underset{\\substack{\\mathsf{\\vphantom{fg}key}}}{\\vphantom{fg}\\odot}} K}{\\sqrt{|\\mathsf{\\vphantom{fg}key}|}} + M \\right) \\mathbin{\\underset{\\substack{\\mathsf{\\vphantom{fg}seq}}}{\\vphantom{fg}\\odot}} V.\n",
    "\\end{aligned}"
   ]
  },
  {
   "cell_type": "code",
   "execution_count": 131,
   "metadata": {},
   "outputs": [],
   "source": [
    "@defop\n",
    "def Attention(\n",
    "    Q: Annotated[torch.Tensor, Scoped[S1]],\n",
    "    K: Annotated[torch.Tensor, Scoped[S1]],\n",
    "    V: Annotated[torch.Tensor, Scoped[S1]],\n",
    "    M: Annotated[torch.Tensor, Scoped[S1]],\n",
    "    key: Annotated[Operation[[], torch.Tensor], Scoped[S1]],\n",
    "    seq: Annotated[Operation[[], torch.Tensor], Scoped[S1]],\n",
    "    seq2: Annotated[Operation[[], torch.Tensor], Scoped[S1]],\n",
    ") -> torch.Tensor:\n",
    "    x = reduce([key], Q * K, torch.sum) / sizesof(Q)[key] + M\n",
    "    return reduce([seq], Softmax(x, seq, seq2) * V, torch.sum)"
   ]
  },
  {
   "cell_type": "code",
   "execution_count": 132,
   "metadata": {},
   "outputs": [
    {
     "data": {
      "text/plain": [
       "tensor([[-0.0563, -0.4442, -0.1326,  0.2052,  0.0198],\n",
       "        [-0.4215, -3.3251, -0.9924,  1.5363,  0.1484],\n",
       "        [-0.1722, -1.3586, -0.4055,  0.6277,  0.0606]])[seq2(), val()]"
      ]
     },
     "execution_count": 132,
     "metadata": {},
     "output_type": "execute_result"
    }
   ],
   "source": [
    "key_size = 10\n",
    "val_size = 5\n",
    "seq_size = 3\n",
    "\n",
    "key, val, seq, seq2 = map(name_to_symbol, (\"key\", \"val\", \"seq\", \"seq2\"))\n",
    "Q = torch.randn(key_size)[key()]\n",
    "K = torch.randn(key_size, seq_size)[key(), seq()]\n",
    "V = torch.randn(seq_size, val_size)[seq(), val()]\n",
    "M = torch.randn(seq_size)[seq()]\n",
    "\n",
    "Attention(Q, K, V, M, key, seq, seq2)"
   ]
  },
  {
   "cell_type": "markdown",
   "metadata": {},
   "source": [
    "### Convolution"
   ]
  },
  {
   "cell_type": "markdown",
   "metadata": {},
   "source": [
    "\\begin{aligned}\n",
    "  \\mathop{\\underset{\\substack{\\mathsf{\\vphantom{fg}seq}\\\\ \\mathsf{\\vphantom{fg}kernel}}}{\\vphantom{fg}\\mathrm{unroll}}} \\colon \\mathbb{R}^{\\mathsf{\\vphantom{fg}seq}[n]} &\\rightarrow \\mathbb{R}^{\\mathsf{\\vphantom{fg}seq}[n-|\\mathsf{\\vphantom{fg}kernel}|+1], \\mathsf{\\vphantom{fg}kernel}} \\\\\n",
    "  \\mathop{\\underset{\\substack{\\mathsf{\\vphantom{fg}seq}\\\\ \\mathsf{\\vphantom{fg}kernel}}}{\\vphantom{fg}\\mathrm{unroll}}} X &= Y,\\ \\text{where} \\\\\n",
    "  Y_{\\mathsf{\\vphantom{fg}seq}(i), \\mathsf{\\vphantom{fg}kernel}(j)} &= X_{\\mathsf{\\vphantom{fg}seq}(i+j - 1)}.\n",
    "\\end{aligned}"
   ]
  },
  {
   "cell_type": "code",
   "execution_count": 133,
   "metadata": {},
   "outputs": [],
   "source": [
    "@defop\n",
    "def Unroll(\n",
    "    x: Annotated[torch.Tensor, Scoped[S1]],\n",
    "    seq: Annotated[Operation[[], torch.Tensor], Scoped[S1]],\n",
    "    k: int,\n",
    "    kernel: Operation[[], torch.Tensor],\n",
    "    seq2: Operation[[], torch.Tensor],\n",
    ") -> torch.Tensor:\n",
    "    return bind_dims(x, seq).unfold(0, k, 1)[seq2(), kernel()]"
   ]
  },
  {
   "cell_type": "markdown",
   "metadata": {},
   "source": [
    "\\begin{aligned}\n",
    "\\text{Conv1d} \\colon \\mathbb{R}^{\\mathsf{\\vphantom{fg}chans}\\times \\mathsf{\\vphantom{fg}seq}[n]} &\\rightarrow \\mathbb{R}^{\\mathsf{\\vphantom{fg}seq}[n^\\prime]} \\\\\n",
    "\\text{Conv1d}(X; W, b) &= W \\mathbin{\\underset{\\substack{\\mathsf{\\vphantom{fg}chans}\\\\ \\mathsf{\\vphantom{fg}kernel}}}{\\vphantom{fg}\\odot}} \\mathop{\\underset{\\substack{\\mathsf{\\vphantom{fg}seq}\\\\ \\mathsf{\\vphantom{fg}kernel}}}{\\vphantom{fg}\\mathrm{unroll}}} X + b\n",
    "\\end{aligned}"
   ]
  },
  {
   "cell_type": "markdown",
   "metadata": {},
   "source": [
    "\\begin{aligned}\n",
    "W &\\in \\mathbb{R}^{\\mathsf{\\vphantom{fg}chans}\\times \\mathsf{\\vphantom{fg}kernel}} \\\\\n",
    "b &\\in \\mathbb{R}\\\\\n",
    "\\end{aligned}"
   ]
  },
  {
   "cell_type": "code",
   "execution_count": 134,
   "metadata": {},
   "outputs": [],
   "source": [
    "@defop\n",
    "def Conv1d(\n",
    "    X: Annotated[torch.Tensor, Scoped[S1 | S2]],\n",
    "    W: Annotated[torch.Tensor, Scoped[S2]],\n",
    "    b: torch.Tensor,\n",
    "    chans: Annotated[Operation[[], torch.Tensor], Scoped[S1 | S2]],\n",
    "    k: int,\n",
    "    kernel: Annotated[Operation[[], torch.Tensor], Scoped[S1 | S2]],\n",
    "    seq: Annotated[Operation[[], torch.Tensor], Scoped[S1]],\n",
    "    seq2: Operation[[], torch.Tensor],\n",
    ") -> torch.Tensor:\n",
    "    y = W * Unroll(X, seq, k, kernel, seq2)\n",
    "    return reduce([chans, kernel], y, torch.sum) + b"
   ]
  },
  {
   "cell_type": "code",
   "execution_count": 135,
   "metadata": {},
   "outputs": [
    {
     "data": {
      "text/plain": [
       "tensor([ 3.7172, -3.7238, -2.8743, -1.5637, -2.1118, -0.7070,  0.0755, -0.8824])[seq2()]"
      ]
     },
     "execution_count": 135,
     "metadata": {},
     "output_type": "execute_result"
    }
   ],
   "source": [
    "chans_size = 3\n",
    "seq_size = 10\n",
    "kernel_size = 3\n",
    "\n",
    "chans, kernel, seq, seq2 = map(name_to_symbol, (\"chans\", \"kernel\", \"seq\", \"seq2\"))\n",
    "\n",
    "X = torch.randn(chans_size, seq_size)[chans(), seq()]\n",
    "W = torch.randn(chans_size, kernel_size)[chans(), kernel()]\n",
    "b = torch.randn(tuple())\n",
    "\n",
    "Conv1d(X, W, b, chans, 3, kernel, seq, seq2)"
   ]
  },
  {
   "cell_type": "markdown",
   "metadata": {},
   "source": [
    "$$\n",
    "\\begin{aligned}\n",
    "  \\text{Conv2d} \\colon \\mathbb{R}^{\\mathsf{\\vphantom{fg}chans}\\times \\mathsf{\\vphantom{fg}height}[h] \\times \\mathsf{\\vphantom{fg}width}[w]}\n",
    "  &\\rightarrow \\mathbb{R}^{\\mathsf{\\vphantom{fg}height}[h2] \\times \\mathsf{\\vphantom{fg}width}[w2]} \\\\\n",
    "  \\text{Conv2d}(X; W, b) &= W \\mathbin{\\underset{\\substack{\\mathsf{\\vphantom{fg}chans}\\\\ \\mathsf{\\vphantom{fg}kh}, \\mathsf{\\vphantom{fg}kw}}}{\\vphantom{fg}\\odot}} \\mathop{\\underset{\\substack{\\mathsf{\\vphantom{fg}height}\\\\ \\mathsf{\\vphantom{fg}kh}}}{\\vphantom{fg}\\mathrm{unroll}}} \\mathop{\\underset{\\substack{\\mathsf{\\vphantom{fg}width}\\\\\\mathsf{\\vphantom{fg}kw}}}{\\vphantom{fg}\\mathrm{unroll}}} X + b\\end{aligned}\n",
    "$$"
   ]
  },
  {
   "cell_type": "markdown",
   "metadata": {},
   "source": [
    "$$\n",
    "\\begin{aligned}\n",
    "W &\\in \\mathbb{R}^{\\mathsf{\\vphantom{fg}chans}\\times \\mathsf{\\vphantom{fg}kh}\\times \\mathsf{\\vphantom{fg}kw}} \\\\\n",
    "b &\\in \\mathbb{R}.\n",
    "\\end{aligned}\n",
    "$$"
   ]
  },
  {
   "cell_type": "code",
   "execution_count": 136,
   "metadata": {},
   "outputs": [],
   "source": [
    "@defop\n",
    "def Conv2d(\n",
    "    X: Annotated[torch.Tensor, Scoped[S1 | S2]],\n",
    "    W: Annotated[torch.Tensor, Scoped[S2]],\n",
    "    b: torch.Tensor,\n",
    "    chans: Annotated[Operation[[], torch.Tensor], Scoped[S2]],\n",
    "    kh_size: int,\n",
    "    kh: Annotated[Operation[[], torch.Tensor], Scoped[S1 | S2]],\n",
    "    height: Annotated[Operation[[], torch.Tensor], Scoped[S1]],\n",
    "    height2: Operation[[], torch.Tensor],\n",
    "    kw_size: int,\n",
    "    kw: Annotated[Operation[[], torch.Tensor], Scoped[S1 | S2]],\n",
    "    width: Annotated[Operation[[], torch.Tensor], Scoped[S1]],\n",
    "    width2: Operation[[], torch.Tensor],\n",
    ") -> torch.Tensor:\n",
    "    y = W * Unroll(Unroll(X, width, kw_size, kw, width2), height, kh_size, kh, height2)\n",
    "    return reduce([chans, kh, kw], y, torch.sum) + b"
   ]
  },
  {
   "cell_type": "code",
   "execution_count": 137,
   "metadata": {},
   "outputs": [
    {
     "data": {
      "text/plain": [
       "tensor([[ -0.7712,  -0.4630,  -2.1199,   2.0400,  -5.2443,   0.7167,  11.3082,\n",
       "          -7.4289],\n",
       "        [ -1.2358,   2.4401, -10.5980,  -3.6137, -14.8803, -12.0193,  -0.3878,\n",
       "          -4.7996],\n",
       "        [ -0.3710,   8.4944,  -4.7507,  10.5713,   0.5455,  -3.3798,   0.5670,\n",
       "          15.1692],\n",
       "        [ 10.9288, -12.4020,   7.1001, -10.2582,   1.6296,   4.3733,  -0.6362,\n",
       "           8.1692],\n",
       "        [-13.7094,  -2.2593,   0.0851,  -7.8723,   0.5353,   9.0647, -15.1656,\n",
       "           2.3979]])[width2(), height2()]"
      ]
     },
     "execution_count": 137,
     "metadata": {},
     "output_type": "execute_result"
    }
   ],
   "source": [
    "chans_size = 3\n",
    "kh_size = 3\n",
    "kw_size = 4\n",
    "height_size = 10\n",
    "width_size = 8\n",
    "\n",
    "chans, kh, kw, height, width, height2, width2 = map(\n",
    "    name_to_symbol, (\"chans\", \"kh\", \"kw\", \"height\", \"width\", \"height2\", \"width2\")\n",
    ")\n",
    "\n",
    "X = torch.randn(chans_size, height_size, width_size)[chans(), height(), width()]\n",
    "W = torch.randn(chans_size, kh_size, kw_size)[chans(), kh(), kw()]\n",
    "b = torch.randn(tuple())\n",
    "\n",
    "Conv2d(X, W, b, chans, kh_size, kh, height, height2, kw_size, kw, width, width2)"
   ]
  },
  {
   "cell_type": "markdown",
   "metadata": {},
   "source": [
    "### Max Pooling"
   ]
  },
  {
   "cell_type": "markdown",
   "metadata": {},
   "source": [
    "$$\n",
    "\\begin{aligned}\n",
    "  \\mathop{\\underset{\\substack{\\mathsf{\\vphantom{fg}seq},\\mathsf{\\vphantom{fg}kernel}}}{\\vphantom{fg}\\mathrm{pool}}} \\colon \\mathbb{R}^{\\mathsf{\\vphantom{fg}seq}[n]} &\\rightarrow \\mathbb{R}^{\\mathsf{\\vphantom{fg}seq}[n/|\\mathsf{\\vphantom{fg}kernel}|],\\mathsf{\\vphantom{fg}kernel}} \\\\\n",
    "  \\mathop{\\underset{\\substack{\\mathsf{\\vphantom{fg}seq},\\mathsf{\\vphantom{fg}kernel}}}{\\vphantom{fg}\\mathrm{pool}}} X &= Y,\\ \\text{where} \\\\\n",
    "  Y_{\\mathsf{\\vphantom{fg}seq}(i), \\mathsf{\\vphantom{fg}kernel}(j)} &= X_{\\mathsf{\\vphantom{fg}seq}((i-1) \\cdot |\\mathsf{\\vphantom{fg}kernel}| + j)}.\n",
    "\\end{aligned}\n",
    "$$"
   ]
  },
  {
   "cell_type": "code",
   "execution_count": 138,
   "metadata": {},
   "outputs": [],
   "source": [
    "@defop\n",
    "def Pool(\n",
    "    x: Annotated[torch.Tensor, Scoped[S1]],\n",
    "    seq: Annotated[Operation[[], torch.Tensor], Scoped[S1]],\n",
    "    k: int,\n",
    "    kernel: Operation[[], torch.Tensor],\n",
    "    seq2: Operation[[], torch.Tensor],\n",
    ") -> torch.Tensor:\n",
    "    xp = bind_dims(x, seq)\n",
    "    return xp.reshape((xp.shape[0] // k, k) + xp.shape[1:])[seq2(), kernel()]"
   ]
  },
  {
   "cell_type": "code",
   "execution_count": 139,
   "metadata": {},
   "outputs": [
    {
     "data": {
      "text/plain": [
       "tensor([[ 2.6660, -1.6172],\n",
       "        [ 0.6933,  0.9224],\n",
       "        [ 1.5376, -1.1706],\n",
       "        [ 0.7437,  1.6497],\n",
       "        [ 0.8990,  0.8265]])[seq2(), kernel()]"
      ]
     },
     "execution_count": 139,
     "metadata": {},
     "output_type": "execute_result"
    }
   ],
   "source": [
    "seq_size = 10\n",
    "seq, seq2, kernel = map(name_to_symbol, (\"seq\", \"seq2\", \"kernel\"))\n",
    "\n",
    "X = torch.randn(seq_size)[seq()]\n",
    "Y = Pool(X, seq, 2, kernel, seq2)\n",
    "Y"
   ]
  },
  {
   "cell_type": "markdown",
   "metadata": {},
   "source": [
    "$$\n",
    "\\begin{aligned}\n",
    "\\text{MaxPool1d}_{k} \\colon \\mathbb{R}^{\\mathsf{\\vphantom{fg}seq}[n]} &\\rightarrow \\mathbb{R}^{\\mathsf{\\vphantom{fg}seq}[n/k]} \\\\\n",
    "\\text{MaxPool1d}_{k}(X) &= \\mathop{\\underset{\\substack{\\mathsf{\\vphantom{fg}kernel}}}{\\vphantom{fg}\\mathrm{max}}} \\mathop{\\underset{\\substack{\\mathsf{\\vphantom{fg}seq},\\mathsf{\\vphantom{fg}kernel}}}{\\vphantom{fg}\\mathrm{pool}}} X \\\\\n",
    "|\\mathsf{\\vphantom{fg}kernel}| &= k \\\\\n",
    "\\text{MaxPool2d}_{kh,kw} \\colon \\mathbb{R}^{\\mathsf{\\vphantom{fg}height}[h] \\times \\mathsf{\\vphantom{fg}width}[w]} &\\rightarrow \\mathbb{R}^{\\mathsf{\\vphantom{fg}height}[h/kh] \\times \\mathsf{\\vphantom{fg}width}[w/kw]} \\\\\n",
    "\\text{MaxPool2d}_{kh,kw}(X) &= \\mathop{\\underset{\\substack{\\mathsf{\\vphantom{fg}kh},\\mathsf{\\vphantom{fg}kw}}}{\\vphantom{fg}\\mathrm{max}}} \\mathop{\\underset{\\substack{\\mathsf{\\vphantom{fg}height},\\mathsf{\\vphantom{fg}kh}}}{\\vphantom{fg}\\mathrm{pool}}} \\mathop{\\underset{\\substack{\\mathsf{\\vphantom{fg}width},\\mathsf{\\vphantom{fg}kw}}}{\\vphantom{fg}\\mathrm{pool}}} X \\\\\n",
    "|\\mathsf{\\vphantom{fg}kh}| &= kh \\\\\n",
    "|\\mathsf{\\vphantom{fg}kw}| &= kw.\n",
    "\\end{aligned}\n",
    "$$"
   ]
  },
  {
   "cell_type": "code",
   "execution_count": 140,
   "metadata": {},
   "outputs": [],
   "source": [
    "@defop\n",
    "def MaxPool1d(\n",
    "    X: Annotated[torch.Tensor, Scoped[S1 | S2]],\n",
    "    seq: Annotated[Operation[[], torch.Tensor], Scoped[S1]],\n",
    "    k: int,\n",
    "    kernel: Annotated[Operation[[], torch.Tensor], Scoped[S1 | S2]],\n",
    "    seq2: Operation[[], torch.Tensor],\n",
    ") -> torch.Tensor:\n",
    "    return reduce([kernel], Pool(X, seq, k, kernel, seq2), torch.max)"
   ]
  },
  {
   "cell_type": "code",
   "execution_count": 141,
   "metadata": {},
   "outputs": [
    {
     "data": {
      "text/plain": [
       "tensor([[ 0.8047],\n",
       "        [ 1.0641],\n",
       "        [ 0.2888],\n",
       "        [-0.9893],\n",
       "        [-0.0883]])[seq2(), slice(None, None, None)]"
      ]
     },
     "execution_count": 141,
     "metadata": {},
     "output_type": "execute_result"
    }
   ],
   "source": [
    "seq_size = 10\n",
    "\n",
    "seq, seq2, kernel = map(name_to_symbol, (\"seq\", \"seq2\", \"kernel\"))\n",
    "\n",
    "X = torch.randn(seq_size)[seq()]\n",
    "MaxPool1d(X, seq, 2, kernel, seq2)"
   ]
  },
  {
   "cell_type": "code",
   "execution_count": 142,
   "metadata": {},
   "outputs": [],
   "source": [
    "@defop\n",
    "def MaxPool2d(\n",
    "    X: Annotated[torch.Tensor, Scoped[S1 | S2]],\n",
    "    height: Annotated[Operation[[], torch.Tensor], Scoped[S1]],\n",
    "    kh_size: int,\n",
    "    kh: Annotated[Operation[[], torch.Tensor], Scoped[S1 | S2]],\n",
    "    height2: Operation[[], torch.Tensor],\n",
    "    width: Annotated[Operation[[], torch.Tensor], Scoped[S1]],\n",
    "    kw_size: int,\n",
    "    kw: Annotated[Operation[[], torch.Tensor], Scoped[S1 | S2]],\n",
    "    width2: Operation[[], torch.Tensor],\n",
    ") -> torch.Tensor:\n",
    "    y = Pool(Pool(X, height, kh_size, kh, height2), width, kw_size, kw, width2)\n",
    "    return reduce([kh, kw], y, torch.max)"
   ]
  },
  {
   "cell_type": "code",
   "execution_count": 143,
   "metadata": {},
   "outputs": [
    {
     "data": {
      "text/plain": [
       "tensor([[[1.7747],\n",
       "         [1.9943],\n",
       "         [0.8689]],\n",
       "\n",
       "        [[0.3376],\n",
       "         [1.3729],\n",
       "         [1.4328]]])[height2(), width2(), slice(None, None, None)]"
      ]
     },
     "execution_count": 143,
     "metadata": {},
     "output_type": "execute_result"
    }
   ],
   "source": [
    "width_size = 9\n",
    "height_size = 4\n",
    "\n",
    "width, width2, height, height2, kw, kh = map(\n",
    "    name_to_symbol, (\"width\", \"width2\", \"height\", \"height2\", \"kw\", \"kh\")\n",
    ")\n",
    "\n",
    "X = torch.randn(width_size, height_size)[width(), height()]\n",
    "MaxPool2d(X, height, 2, kh, height2, width, 3, kw, width2)"
   ]
  },
  {
   "cell_type": "markdown",
   "metadata": {},
   "source": [
    "### Normalization Layers"
   ]
  },
  {
   "cell_type": "markdown",
   "metadata": {},
   "source": [
    "$$\n",
    "\\begin{aligned}\n",
    "  \\mathop{\\underset{\\substack{\\mathsf{\\vphantom{fg}ax}}}{\\vphantom{fg}\\mathrm{standardize}}} \\colon \\mathbb{R}^{\\mathsf{\\vphantom{fg}ax}} &\\rightarrow \\mathbb{R}^{\\mathsf{\\vphantom{fg}ax}} \\\\\n",
    "  \\mathop{\\underset{\\substack{\\mathsf{\\vphantom{fg}ax}}}{\\vphantom{fg}\\mathrm{standardize}}}(X) &= \\frac{X - \\mathop{\\underset{\\substack{\\mathsf{\\vphantom{fg}ax}}}{\\vphantom{fg}\\mathrm{mean}}}(X)}{\\sqrt{\\mathop{\\underset{\\substack{\\mathsf{\\vphantom{fg}ax}}}{\\vphantom{fg}\\mathrm{var}}}(X) + \\epsilon}}\n",
    "\\end{aligned}\n",
    "$$"
   ]
  },
  {
   "cell_type": "code",
   "execution_count": 144,
   "metadata": {},
   "outputs": [],
   "source": [
    "@defop\n",
    "def Mean(\n",
    "    X: Annotated[torch.Tensor, Scoped[S1]],\n",
    "    ax: Annotated[Operation[[], torch.Tensor], Scoped[S1]],\n",
    ") -> torch.Tensor:\n",
    "    return reduce([ax], X, torch.sum) / sizesof(X)[ax]\n",
    "\n",
    "\n",
    "@defop\n",
    "def Mean2(\n",
    "    X: Annotated[torch.Tensor, Scoped[S1]],\n",
    "    ax: Annotated[Operation[[], torch.Tensor], Scoped[S1]],\n",
    "    ax2: Annotated[Operation[[], torch.Tensor], Scoped[S1]],\n",
    ") -> torch.Tensor:\n",
    "    sizes = sizesof(X)\n",
    "    return reduce([ax, ax2], X, torch.sum) / (sizes[ax] * sizes[ax2])\n",
    "\n",
    "\n",
    "@defop\n",
    "def Variance(\n",
    "    X: Annotated[torch.Tensor, Scoped[S1]],\n",
    "    ax: Annotated[Operation[[], torch.Tensor], Scoped[S1]],\n",
    ") -> torch.Tensor:\n",
    "    return Mean((X - Mean(X, ax)) ** 2, ax)\n",
    "\n",
    "\n",
    "@defop\n",
    "def Variance2(\n",
    "    X: Annotated[torch.Tensor, Scoped[S1]],\n",
    "    ax: Annotated[Operation[[], torch.Tensor], Scoped[S1]],\n",
    "    ax2: Annotated[Operation[[], torch.Tensor], Scoped[S1]],\n",
    ") -> torch.Tensor:\n",
    "    return Mean2((X - Mean2(X, ax, ax2)) ** 2, ax, ax2)\n",
    "\n",
    "\n",
    "@defop\n",
    "def Standardize(\n",
    "    X: Annotated[torch.Tensor, Scoped[S1]],\n",
    "    ax: Annotated[Operation[[], torch.Tensor], Scoped[S1]],\n",
    "    new_ax: Operation[[], torch.Tensor],\n",
    ") -> torch.Tensor:\n",
    "    y = subst(X, {ax: new_ax()})\n",
    "    return (y - Mean(X, ax)) / (Variance(X, ax) + torch.finfo(X.dtype).eps).sqrt()\n",
    "\n",
    "\n",
    "@defop\n",
    "def Standardize2(\n",
    "    X: Annotated[torch.Tensor, Scoped[S1]],\n",
    "    ax: Annotated[Operation[[], torch.Tensor], Scoped[S1]],\n",
    "    ax2: Annotated[Operation[[], torch.Tensor], Scoped[S1]],\n",
    "    new_ax: Operation[[], torch.Tensor],\n",
    "    new_ax2: Operation[[], torch.Tensor],\n",
    ") -> torch.Tensor:\n",
    "    y = subst(X, {ax: new_ax(), ax2: new_ax2()})\n",
    "    return (y - Mean2(X, ax, ax2)) / (\n",
    "        Variance2(X, ax, ax2) + torch.finfo(X.dtype).eps\n",
    "    ).sqrt()"
   ]
  },
  {
   "cell_type": "markdown",
   "metadata": {},
   "source": [
    "$$\n",
    "\\begin{aligned}\n",
    "\\text{BatchNorm}(X; \\gamma, \\beta) &= \\mathop{\\underset{\\substack{\\mathsf{\\vphantom{fg}batch},\\mathsf{\\vphantom{fg}layer}}}{\\vphantom{fg}\\mathrm{standardize}}}(X) \\mathbin{\\underset{\\substack{}}{\\vphantom{fg}\\odot}} \\gamma + \\beta & \\gamma, \\beta &\\in \\mathbb{R}^{\\mathsf{\\vphantom{fg}chans}} \\\\\n",
    "\\text{InstanceNorm}(X; \\gamma, \\beta) &= \\mathop{\\underset{\\substack{\\mathsf{\\vphantom{fg}layer}}}{\\vphantom{fg}\\mathrm{standardize}}}(X) \\mathbin{\\underset{\\substack{}}{\\vphantom{fg}\\odot}} \\gamma + \\beta & \\gamma, \\beta &\\in \\mathbb{R}^{\\mathsf{\\vphantom{fg}chans}} \\\\\n",
    "\\text{LayerNorm}(X; \\gamma, \\beta) &= \\mathop{\\underset{\\substack{\\mathsf{\\vphantom{fg}layer},\\mathsf{\\vphantom{fg}chans}}}{\\vphantom{fg}\\mathrm{standardize}}}(X) \\mathbin{\\underset{\\substack{}}{\\vphantom{fg}\\odot}} \\gamma + \\beta & \\gamma, \\beta &\\in \\mathbb{R}^{\\mathsf{\\vphantom{fg}chans},\\mathsf{\\vphantom{fg}layer}}\n",
    "\\end{aligned}\n",
    "$$"
   ]
  },
  {
   "cell_type": "code",
   "execution_count": 145,
   "metadata": {},
   "outputs": [],
   "source": [
    "@defop\n",
    "def BatchNorm(\n",
    "    X: Annotated[torch.Tensor, Scoped[S1]],\n",
    "    gamma: torch.Tensor,\n",
    "    beta: torch.Tensor,\n",
    "    batch: Annotated[Operation[[], torch.Tensor], Scoped[S1]],\n",
    "    layer: Annotated[Operation[[], torch.Tensor], Scoped[S1]],\n",
    "    batch2: Operation[[], torch.Tensor],\n",
    "    layer2: Operation[[], torch.Tensor],\n",
    ") -> torch.Tensor:\n",
    "    return Standardize2(X, batch, layer, batch2, layer2) * gamma + beta\n",
    "\n",
    "\n",
    "@defop\n",
    "def InstanceNorm(\n",
    "    X: Annotated[torch.Tensor, Scoped[S1]],\n",
    "    gamma: torch.Tensor,\n",
    "    beta: torch.Tensor,\n",
    "    layer: Annotated[Operation[[], torch.Tensor], Scoped[S1]],\n",
    "    layer2: Operation[[], torch.Tensor],\n",
    ") -> torch.Tensor:\n",
    "    return Standardize(X, layer, layer2) * gamma + beta\n",
    "\n",
    "\n",
    "# same as BatchNorm\n",
    "@defop\n",
    "def LayerNorm(\n",
    "    X: Annotated[torch.Tensor, Scoped[S1]],\n",
    "    gamma: torch.Tensor,\n",
    "    beta: torch.Tensor,\n",
    "    chans: Annotated[Operation[[], torch.Tensor], Scoped[S1]],\n",
    "    layer: Annotated[Operation[[], torch.Tensor], Scoped[S1]],\n",
    "    chans2: Operation[[], torch.Tensor],\n",
    "    layer2: Operation[[], torch.Tensor],\n",
    ") -> torch.Tensor:\n",
    "    return Standardize2(X, chans, layer, chans2, layer2) * gamma + beta"
   ]
  },
  {
   "cell_type": "code",
   "execution_count": 146,
   "metadata": {},
   "outputs": [
    {
     "data": {
      "text/plain": [
       "tensor([[[-0.0980,  1.1506, -0.6597,  3.1979,  1.3816],\n",
       "         [-1.8462, -0.7802, -2.2415, -2.8337, -2.4419],\n",
       "         [-0.1820, -0.1727,  1.8149, -1.1343,  0.8576]],\n",
       "\n",
       "        [[-1.3853,  0.4412, -0.0613,  0.0438, -1.2001],\n",
       "         [-1.1071, -2.8085, -0.2433, -2.1072, -2.8466],\n",
       "         [ 0.9574,  1.7885, -1.6812, -0.7833,  1.7904]],\n",
       "\n",
       "        [[ 1.8424,  0.5241,  2.8473,  0.0444,  1.8414],\n",
       "         [-2.8606, -0.8699, -3.0584, -2.4499, -2.6714],\n",
       "         [ 0.4484, -1.7353,  1.5164,  2.0637,  1.2156]],\n",
       "\n",
       "        [[ 1.4954,  0.2327,  1.4578,  2.0248,  1.2005],\n",
       "         [-3.4012, -2.1421, -3.6344, -2.3489, -1.5841],\n",
       "         [-0.2463,  0.1265, -2.5361, -1.2339,  0.4741]]])[batch2(), chans(), layer2()]"
      ]
     },
     "execution_count": 146,
     "metadata": {},
     "output_type": "execute_result"
    }
   ],
   "source": [
    "batch_size, chans_size, layer_size = 4, 3, 5\n",
    "batch, batch2, chans, layer, layer2 = map(\n",
    "    name_to_symbol, (\"batch\", \"batch2\", \"chans\", \"layer\", \"layer2\")\n",
    ")\n",
    "\n",
    "x = torch.randn(batch_size, chans_size, layer_size)[batch(), chans(), layer()]\n",
    "g = torch.randn(chans_size)[chans()]\n",
    "b = torch.randn(chans_size)[chans()]\n",
    "\n",
    "BatchNorm(x, g, b, batch, layer, batch2, layer2)"
   ]
  },
  {
   "cell_type": "markdown",
   "metadata": {},
   "source": [
    "$$\n",
    "\\begin{aligned}\n",
    "\\text{GroupNorm}_k(X; \\gamma, \\beta) &= \\left[ \\mathop{\\underset{\\substack{\\mathsf{\\vphantom{fg}kernel},\\mathsf{\\vphantom{fg}layer}}}{\\vphantom{fg}\\mathrm{standardize}}} \\mathop{\\underset{\\substack{\\mathsf{\\vphantom{fg}chans}, \\mathsf{\\vphantom{fg}kernel}}}{\\vphantom{fg}\\mathrm{pool}}} X \\right]_{(\\mathsf{\\vphantom{fg}chans},\\mathsf{\\vphantom{fg}kernel})\\rightarrow \\mathsf{\\vphantom{fg}chans}} \\mathbin{\\underset{\\substack{}}{\\vphantom{fg}\\odot}} \\gamma + \\beta \\\\\n",
    "\\end{aligned}\n",
    "$$"
   ]
  },
  {
   "cell_type": "markdown",
   "metadata": {},
   "source": [
    "$$\n",
    "\\begin{aligned}\n",
    "|\\mathsf{\\vphantom{fg}kernel}| &= k\\\\\n",
    "\\gamma, \\beta &\\in \\mathbb{R}^{\\mathsf{\\vphantom{fg}chans}}.\n",
    "\\end{aligned}\n",
    "$$"
   ]
  },
  {
   "cell_type": "markdown",
   "metadata": {},
   "source": [
    "### Transformer"
   ]
  },
  {
   "cell_type": "markdown",
   "metadata": {},
   "source": [
    "$$\n",
    "\\begin{aligned}\n",
    "  I &\\in \\{0, 1\\}^{\\mathsf{\\vphantom{fg}seq}\\times \\mathsf{\\vphantom{fg}vocab}} & \\sum\\limits_{\\substack{\\mathsf{\\vphantom{fg}vocab}}} I &= 1 \\\\\n",
    "  W &= (E \\mathbin{\\underset{\\substack{\\mathsf{\\vphantom{fg}vocab}}}{\\vphantom{fg}\\odot}} I)\\sqrt{|\\mathsf{\\vphantom{fg}layer}|} & E &\\in \\mathbb{R}^{\\mathsf{\\vphantom{fg}vocab}\\times \\mathsf{\\vphantom{fg}layer}} \\\\\n",
    "  P &\\in \\mathbb{R}^{\\mathsf{\\vphantom{fg}seq}\\times \\mathsf{\\vphantom{fg}layer}} \\\\\n",
    "  P_{\\mathsf{\\vphantom{fg}seq}(p), \\mathsf{\\vphantom{fg}layer}(i)} &= \\begin{cases}\n",
    "    \\sin((p-1) / 10000^{(i-1) / |\\mathsf{\\vphantom{fg}layer}|}) & \\text{$i$ odd} \\\\ \n",
    "    \\cos((p-1) / 10000^{(i-2) / |\\mathsf{\\vphantom{fg}layer}|}) & \\text{$i$ even.}\n",
    "  \\end{cases}\n",
    "\\end{aligned}\n",
    "$$"
   ]
  },
  {
   "cell_type": "markdown",
   "metadata": {},
   "source": [
    "$$\n",
    "\\begin{aligned}\n",
    "X^0 &= W+P \\\\\n",
    "T^1 &= \\text{LayerNorm}^1(\\text{SelfAtt}^1(X^0)) + X^0\\\\\n",
    "X^1 &= \\text{LayerNorm}^{1^\\prime}(\\text{FFN}^1(T^1)) + T^1\\\\\n",
    "&\\vdotswithin{=} \\\\\n",
    "T^{L} &= \\text{LayerNorm}^L(\\text{SelfAtt}^L(X^{L-1})) + X^{L-1}\\\\\n",
    "X^{L} &= \\text{LayerNorm}^{L^\\prime}(\\text{FFN}^L(T^L)) + T^L\\\\\n",
    "O &= \\mathop{\\underset{\\substack{\\mathsf{\\vphantom{fg}vocab}}}{\\vphantom{fg}\\mathrm{softmax}}}(E \\mathbin{\\underset{\\substack{\\mathsf{\\vphantom{fg}layer}}}{\\vphantom{fg}\\odot}} X^L)\n",
    "\\end{aligned}\n",
    "$$"
   ]
  },
  {
   "cell_type": "markdown",
   "metadata": {},
   "source": [
    "$$\n",
    "\\begin{aligned}\n",
    "  \\text{LayerNorm}^l \\colon \\mathbb{R}^{\\mathsf{\\vphantom{fg}layer}} &\\rightarrow \\mathbb{R}^{\\mathsf{\\vphantom{fg}layer}} \\\\\n",
    "  \\text{LayerNorm}^l(X) &= \\mathop{\\underset{\\substack{\\mathsf{\\vphantom{fg}layer}}}{\\vphantom{fg}\\mathrm{XNorm}}}(X; \\beta^l, \\gamma^l).\n",
    "\\end{aligned}\n",
    "$$"
   ]
  },
  {
   "cell_type": "markdown",
   "metadata": {},
   "source": [
    "$$\n",
    "\\begin{aligned}\n",
    "  \\text{SelfAtt}^l \\colon \\mathbb{R}^{\\mathsf{\\vphantom{fg}seq}\\times \\mathsf{\\vphantom{fg}layer}} &\\rightarrow \\mathbb{R}^{\\mathsf{\\vphantom{fg}seq}\\times \\mathsf{\\vphantom{fg}layer}} \\\\\n",
    "  \\text{SelfAtt}^l(X) &= Y\n",
    "\\end{aligned}\n",
    "$$"
   ]
  },
  {
   "cell_type": "markdown",
   "metadata": {},
   "source": [
    "$$\n",
    "\\begin{aligned}\n",
    "  |\\mathsf{\\vphantom{fg}seq}| &= |\\mathsf{\\vphantom{fg}seq2}| \\\\\n",
    "  |\\mathsf{\\vphantom{fg}key}| = |\\mathsf{\\vphantom{fg}val}| &= |\\mathsf{\\vphantom{fg}layer}|/|\\mathsf{\\vphantom{fg}heads}| \\\\\n",
    "  Q &= W^{l,Q} \\mathbin{\\underset{\\substack{\\mathsf{\\vphantom{fg}layer}}}{\\vphantom{fg}\\odot}} X_{\\mathsf{\\vphantom{fg}seq}\\rightarrow\\mathsf{\\vphantom{fg}seq2}} & W^{l,Q} &\\in \\mathbb{R}^{\\mathsf{\\vphantom{fg}heads}\\times \\mathsf{\\vphantom{fg}layer}\\times \\mathsf{\\vphantom{fg}key}} \\\\\n",
    "  K &= W^{l,K} \\mathbin{\\underset{\\substack{\\mathsf{\\vphantom{fg}layer}}}{\\vphantom{fg}\\odot}} X & W^{l,K} &\\in \\mathbb{R}^{\\mathsf{\\vphantom{fg}heads}\\times \\mathsf{\\vphantom{fg}layer}\\times \\mathsf{\\vphantom{fg}key}} \\\\\n",
    "  V &= W^{l,V} \\mathbin{\\underset{\\substack{\\mathsf{\\vphantom{fg}layer}}}{\\vphantom{fg}\\odot}} X & W^{l,V} &\\in \\mathbb{R}^{\\mathsf{\\vphantom{fg}heads}\\times \\mathsf{\\vphantom{fg}layer}\\times \\mathsf{\\vphantom{fg}val}} \\\\\n",
    "  M & \\in \\mathbb{R}^{\\mathsf{\\vphantom{fg}seq}\\times \\mathsf{\\vphantom{fg}seq2}} \\\\\n",
    "  M_{\\mathsf{\\vphantom{fg}seq}(i), \\mathsf{\\vphantom{fg}seq2}(j)} &= \\begin{cases}\n",
    "    0 & i \\leq j\\\\\n",
    "    -\\infty & \\text{otherwise}\n",
    "  \\end{cases} \\\\\n",
    "  Y &= W^{l,O} \\mathbin{\\underset{\\substack{\\mathsf{\\vphantom{fg}heads}\\\\ \\mathsf{\\vphantom{fg}val}}}{\\vphantom{fg}\\odot}} \\text{Attention}(Q, K, V, M)_{\\mathsf{\\vphantom{fg}seq2}\\rightarrow\\mathsf{\\vphantom{fg}seq}} & W^{l,O} &\\in \\mathbb{R}^{\\mathsf{\\vphantom{fg}heads}\\times \\mathsf{\\vphantom{fg}val}\\times \\mathsf{\\vphantom{fg}layer}}\n",
    "\\end{aligned}\n",
    "$$"
   ]
  },
  {
   "cell_type": "markdown",
   "metadata": {},
   "source": [
    "$$\n",
    "\\begin{aligned}\n",
    "  \\text{FFN}^l \\colon \\mathbb{R}^{\\mathsf{\\vphantom{fg}layer}} &\\rightarrow \\mathbb{R}^{\\mathsf{\\vphantom{fg}layer}} \\\\\n",
    "  \\text{FFN}^l(X) &= X^2\n",
    "\\end{aligned}\n",
    "$$"
   ]
  },
  {
   "cell_type": "markdown",
   "metadata": {},
   "source": [
    "$$\n",
    "\\begin{aligned}\n",
    "  X^1 &= \\text{relu}(W^{l,1} \\mathbin{\\underset{\\substack{\\mathsf{\\vphantom{fg}layer}}}{\\vphantom{fg}\\odot}} X + b^{l,1}) & W^{l,1} &\\in \\mathbb{R}^{\\mathsf{\\vphantom{fg}hidden}\\times \\mathsf{\\vphantom{fg}layer}} & b^{l,1} &\\in \\mathbb{R}^{\\mathsf{\\vphantom{fg}hidden}} \\\\\n",
    "  X^2 &= \\text{relu}(W^{l,2} \\mathbin{\\underset{\\substack{\\mathsf{\\vphantom{fg}hidden}}}{\\vphantom{fg}\\odot}} X^1 + b^{l,2}) & W^{l,2} &\\in \\mathbb{R}^{\\mathsf{\\vphantom{fg}layer}\\times \\mathsf{\\vphantom{fg}hidden}} & b^{l,2} &\\in \\mathbb{R}^{\\mathsf{\\vphantom{fg}hidden}}.\n",
    "\\end{aligned}\n",
    "$$"
   ]
  },
  {
   "cell_type": "markdown",
   "metadata": {},
   "source": [
    "### LeNet"
   ]
  },
  {
   "cell_type": "markdown",
   "metadata": {},
   "source": [
    "$$\n",
    "\\begin{aligned}\n",
    "X^0 &\\in \\mathbb{R}^{\\mathsf{\\vphantom{fg}batch}\\times \\mathsf{\\vphantom{fg}chans}[c_0] \\times \\mathsf{\\vphantom{fg}height}\\times \\mathsf{\\vphantom{fg}width}} \\\\\n",
    "T^1 &= \\text{relu}(\\text{Conv}^1(X^0)) \\\\\n",
    "X^1 &= \\text{MaxPool}^1(T^1) \\\\\n",
    "T^2 &= \\text{relu}(\\text{Conv}^2(X^1)) \\\\\n",
    "X^2 &= \\text{MaxPool}^2(T^2)_{(\\mathsf{\\vphantom{fg}height},\\mathsf{\\vphantom{fg}width},\\mathsf{\\vphantom{fg}chans})\\rightarrow\\mathsf{\\vphantom{fg}layer}} \\\\\n",
    "X^3 &= \\text{relu}(W^3 \\mathbin{\\underset{\\substack{\\mathsf{\\vphantom{fg}layer}}}{\\vphantom{fg}\\odot}} X^2 + b^3) & W^3 &\\in \\mathbb{R}^{\\mathsf{\\vphantom{fg}hidden}\\times \\mathsf{\\vphantom{fg}layer}} & b^3 &\\in \\mathbb{R}^{\\mathsf{\\vphantom{fg}hidden}} \\\\\n",
    "O &= \\mathop{\\underset{\\substack{\\mathsf{\\vphantom{fg}classes}}}{\\vphantom{fg}\\mathrm{softmax}}} (W^4 \\mathbin{\\underset{\\substack{\\mathsf{\\vphantom{fg}hidden}}}{\\vphantom{fg}\\odot}} X^3 + b^4) & W^4 &\\in \\mathbb{R}^{\\mathsf{\\vphantom{fg}classes}\\times \\mathsf{\\vphantom{fg}hidden}} & b^4 &\\in \\mathbb{R}^{\\mathsf{\\vphantom{fg}classes}}\\end{aligned}\n",
    "$$"
   ]
  },
  {
   "cell_type": "markdown",
   "metadata": {},
   "source": [
    "$$\n",
    "\\begin{aligned}\n",
    "X^2 &= \\text{MaxPool}^2(T^2) \\\\\n",
    "X^3 &= \\text{relu}(W^3 \\mathbin{\\underset{\\substack{\\mathsf{\\vphantom{fg}height}\\\\ \\mathsf{\\vphantom{fg}width}\\\\ \\mathsf{\\vphantom{fg}chans}}}{\\vphantom{fg}\\odot}} X^2 + b^3) & W^3 &\\in \\mathbb{R}^{\\mathsf{\\vphantom{fg}hidden}\\times \\mathsf{\\vphantom{fg}height}\\times \\mathsf{\\vphantom{fg}width}\\times \\mathsf{\\vphantom{fg}chans}}.\n",
    "\\end{aligned}\n",
    "$$"
   ]
  },
  {
   "cell_type": "markdown",
   "metadata": {},
   "source": [
    "$$\n",
    "\\begin{aligned}\n",
    "\\text{Conv}^l(X) &= \\text{Conv2d}(X; W^l, b^l)_{\\mathsf{\\vphantom{fg}chans2}\\rightarrow\\mathsf{\\vphantom{fg}chans}}\n",
    "\\end{aligned}\n",
    "$$"
   ]
  },
  {
   "cell_type": "markdown",
   "metadata": {},
   "source": [
    "$$\n",
    "\\begin{aligned}\n",
    "W^l & \\in \\mathbb{R}^{\\mathsf{\\vphantom{fg}chans2}[c_l] \\times \\mathsf{\\vphantom{fg}chans}[c_{l-1}] \\times \\mathsf{\\vphantom{fg}kh}[kh_l] \\times \\mathsf{\\vphantom{fg}kw}[kw_l]} \\\\\n",
    "b^l &\\in \\mathbb{R}^{\\mathsf{\\vphantom{fg}chans2}[c_l]}\n",
    "\\end{aligned}\n",
    "$$"
   ]
  },
  {
   "cell_type": "markdown",
   "metadata": {},
   "source": [
    "$$\n",
    "\\begin{aligned}\n",
    "\\text{MaxPool}^l(X) &amp;= \\text{MaxPool2d}_{ph^l,ph^l}(X).\n",
    "\\end{aligned}\n",
    "$$"
   ]
  },
  {
   "cell_type": "code",
   "execution_count": 147,
   "metadata": {},
   "outputs": [],
   "source": [
    "@defop\n",
    "def Relu(X: torch.Tensor) -> torch.Tensor:\n",
    "    return torch.maximum(X, torch.tensor(0))"
   ]
  },
  {
   "cell_type": "code",
   "execution_count": 148,
   "metadata": {},
   "outputs": [
    {
     "data": {
      "text/plain": [
       "tensor([[[0.0000, 0.3641, 0.0000, 1.7635, 0.5220],\n",
       "         [0.0757, 1.2179, 0.0000, 0.0000, 0.0000],\n",
       "         [0.0000, 0.0000, 1.1420, 0.0000, 0.3911]],\n",
       "\n",
       "        [[0.0000, 0.0000, 0.0000, 0.0000, 0.0000],\n",
       "         [0.8676, 0.0000, 1.7932, 0.0000, 0.0000],\n",
       "         [0.4694, 1.1212, 0.0000, 0.0000, 1.1227]],\n",
       "\n",
       "        [[0.8370, 0.0000, 1.5239, 0.0000, 0.8363],\n",
       "         [0.0000, 1.1218, 0.0000, 0.0000, 0.0000],\n",
       "         [0.0702, 0.0000, 0.9078, 1.3371, 0.6719]],\n",
       "\n",
       "        [[0.5998, 0.0000, 0.5741, 0.9617, 0.3982],\n",
       "         [0.0000, 0.0000, 0.0000, 0.0000, 0.3565],\n",
       "         [0.0000, 0.0000, 0.0000, 0.0000, 0.0904]]])[batch(), chans(), layer()]"
      ]
     },
     "execution_count": 148,
     "metadata": {},
     "output_type": "execute_result"
    }
   ],
   "source": [
    "Relu(x)"
   ]
  },
  {
   "cell_type": "code",
   "execution_count": 149,
   "metadata": {},
   "outputs": [
    {
     "data": {
      "text/plain": [
       "tensor([[[0.0000e+00],\n",
       "         [0.0000e+00],\n",
       "         [0.0000e+00],\n",
       "         [0.0000e+00]],\n",
       "\n",
       "        [[1.0000e+00],\n",
       "         [1.0000e+00],\n",
       "         [1.0000e+00],\n",
       "         [1.0000e+00]],\n",
       "\n",
       "        [[1.6579e-15],\n",
       "         [0.0000e+00],\n",
       "         [0.0000e+00],\n",
       "         [0.0000e+00]],\n",
       "\n",
       "        [[0.0000e+00],\n",
       "         [0.0000e+00],\n",
       "         [0.0000e+00],\n",
       "         [0.0000e+00]],\n",
       "\n",
       "        [[0.0000e+00],\n",
       "         [0.0000e+00],\n",
       "         [0.0000e+00],\n",
       "         [0.0000e+00]]])[classes2(), batch(), slice(None, None, None)]"
      ]
     },
     "execution_count": 149,
     "metadata": {},
     "output_type": "execute_result"
    }
   ],
   "source": [
    "(\n",
    "    chans_size,\n",
    "    kh_size,\n",
    "    kw_size,\n",
    "    hidden_size,\n",
    "    height_size,\n",
    "    width_size,\n",
    "    classes_size,\n",
    "    batch_size,\n",
    ") = (3, 3, 4, 3, 14, 15, 5, 4)\n",
    "(\n",
    "    chans,\n",
    "    chans2,\n",
    "    kh,\n",
    "    kw,\n",
    "    height,\n",
    "    height2,\n",
    "    height3,\n",
    "    width,\n",
    "    width2,\n",
    "    width3,\n",
    "    hidden,\n",
    "    classes,\n",
    "    classes2,\n",
    "    batch,\n",
    ") = map(\n",
    "    name_to_symbol,\n",
    "    (\n",
    "        \"chans\",\n",
    "        \"chans2\",\n",
    "        \"kh\",\n",
    "        \"kw\",\n",
    "        \"height\",\n",
    "        \"height2\",\n",
    "        \"height3\",\n",
    "        \"width\",\n",
    "        \"width2\",\n",
    "        \"width3\",\n",
    "        \"hidden\",\n",
    "        \"classes\",\n",
    "        \"classes2\",\n",
    "        \"batch\",\n",
    "    ),\n",
    ")\n",
    "\n",
    "W1 = torch.randn(chans_size, kh_size, kw_size, chans_size)[\n",
    "    chans(), kh(), kw(), chans2()\n",
    "]\n",
    "b1 = torch.randn(chans_size)[chans2()]\n",
    "W3 = torch.randn(hidden_size, 4, 4, chans_size)[hidden(), height3(), width3(), chans2()]\n",
    "b3 = torch.randn(hidden_size)[hidden()]\n",
    "W4 = torch.randn(hidden_size, classes_size)[hidden(), classes()]\n",
    "b4 = torch.randn(classes_size)[classes()]\n",
    "X0 = torch.randn(batch_size, chans_size, height_size, width_size)[\n",
    "    batch(), chans(), height(), width()\n",
    "]\n",
    "\n",
    "T1 = Relu(\n",
    "    Conv2d(X0, W1, b1, chans, kh_size, kh, height, height2, kw_size, kw, width, width2)\n",
    ")\n",
    "X1 = MaxPool2d(T1, height2, 3, kh, height3, width2, 3, kw, width3)\n",
    "X3 = reduce([height3, width3, chans2], W3 * X1, torch.sum) + b3\n",
    "O_ = Softmax(reduce([hidden], W4 * X3, torch.sum) + b4, classes, classes2)\n",
    "O_"
   ]
  }
 ],
 "metadata": {
  "hide_input": false,
  "kernelspec": {
   "display_name": ".venv",
   "language": "python",
   "name": "python3"
  },
  "language_info": {
   "codemirror_mode": {
    "name": "ipython",
    "version": 3
   },
   "file_extension": ".py",
   "mimetype": "text/x-python",
   "name": "python",
   "nbconvert_exporter": "python",
   "pygments_lexer": "ipython3",
   "version": "3.12.9"
  },
  "toc": {
   "base_numbering": 1,
   "nav_menu": {},
   "number_sections": true,
   "sideBar": true,
   "skip_h1_title": false,
   "title_cell": "Table of Contents",
   "title_sidebar": "Contents",
   "toc_cell": false,
   "toc_position": {},
   "toc_section_display": true,
   "toc_window_display": false
  }
 },
 "nbformat": 4,
 "nbformat_minor": 4
}
