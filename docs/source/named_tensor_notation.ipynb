{
 "cells": [
  {
   "cell_type": "markdown",
   "metadata": {},
   "source": [
    "# Named Tensor Notation"
   ]
  },
  {
   "cell_type": "markdown",
   "metadata": {},
   "source": [
    "## Introduction\n",
    "\n",
    "**This is a translation of the [Named Tensor Notation (Chiang, Rush, Barak 2021)](https://namedtensor.github.io/) example from the [funsor](https://funsor.pyro.ai/) library to `effectful`. Much of the expository text is taken directly from the [original](https://github.com/pyro-ppl/funsor/blob/master/tutorials/named_tensor_notation_i.ipynb).**\n",
    "\n",
    "The mathematical notation with *named axes* introduced in [Named Tensor Notation (Chiang, Rush, Barak 2021)](https://namedtensor.github.io/) improves the readability of mathematical formulas involving multidimensional arrays. This includes tensor operations such as elementwise operations, reductions, contractions, renaming, indexing, and broadcasting. Part 1 covers examples from [2 Informal Overview](https://namedtensor.github.io/#sec:overview), [3.4.2 Advanced Indexing](https://namedtensor.github.io/#sec:examples), and [5 Formal Definitions](https://namedtensor.github.io/#sec:definitions)."
   ]
  },
  {
   "cell_type": "code",
   "execution_count": 75,
   "metadata": {},
   "outputs": [],
   "source": [
    "import functools\n",
    "\n",
    "import torch\n",
    "from torch import tensor\n",
    "\n",
    "from effectful.ops.core import evaluate, ctxof\n",
    "from effectful.ops.handler import handler\n",
    "from effectful.internals.sugar import gensym, torch_getitem, sizesof\n",
    "from effectful.indexed.ops import Indexable, to_tensor\n",
    "\n",
    "\n",
    "def subst(term, substs):\n",
    "    with handler(\n",
    "        {k: functools.partial(lambda vv: vv, v) for (k, v) in substs.items()},\n",
    "    ):\n",
    "        return evaluate(term)\n",
    "\n",
    "\n",
    "def reduce(indexes, indexed_tensor, reducer):\n",
    "    \"\"\"Reduce an indexed tensor along one or more named dimensions.\n",
    "\n",
    "    Args:\n",
    "    - indexes: Names of dimensions to reduce.\n",
    "    - indexed_tensor: The tensor to reduce.\n",
    "    - reducer: A reduction function like `torch.sum`. Must take `tensor`, `dim`, and `keepdim` arguments.\n",
    "\n",
    "    Returns: A new indexed tensor with the specified dimensions reduced.\n",
    "\n",
    "    Example:\n",
    "    >>> width, height = gensym(int, name='width'), gensym(int, name='height')\n",
    "    >>> t = indexed(torch.ones(2, 3))[width(), height()]\n",
    "    >>> reduce([width], t, \"sum\")\n",
    "    indexed(tensor([2., 2., 2.]))[height()]\n",
    "    \"\"\"\n",
    "    fvars = ctxof(indexed_tensor)\n",
    "    indexes = [i for i in indexes if i in fvars]\n",
    "\n",
    "    # convert indexed dimensions to positional and flatten all new positional dims\n",
    "    t = to_tensor(indexed_tensor, indexes)\n",
    "    t_flat = torch.flatten(t, 0, len(indexes) - 1)\n",
    "\n",
    "    # reduce dim 0 into the first index of dim 0, then return reduction\n",
    "    return reducer(t_flat, 0, keepdim=True)[0]\n",
    "\n",
    "\n",
    "def gensyms(*names, type_=int):\n",
    "    return tuple(gensym(int, name=n) for n in names)"
   ]
  },
  {
   "cell_type": "markdown",
   "metadata": {},
   "source": [
    "## Named Tensors"
   ]
  },
  {
   "cell_type": "markdown",
   "metadata": {},
   "source": [
    "Each tensor axis is given a name:"
   ]
  },
  {
   "cell_type": "markdown",
   "metadata": {},
   "source": [
    "$$\n",
    "\\begin{aligned}\n",
    "  A &\\in \\mathbb{R}^{\\mathsf{\\vphantom{fg}height}[3] \\times \\mathsf{\\vphantom{fg}width}[3]} = \\mathbb{R}^{\\mathsf{\\vphantom{fg}width}[3] \\times \\mathsf{\\vphantom{fg}height}[3]} \\\\\n",
    "  A &= \\mathsf{\\vphantom{fg}height}\n",
    "  \\begin{array}[b]{@{}c@{}}\\mathsf{\\vphantom{fg}width}\\\\\\begin{bmatrix}\n",
    "    3 & 1 & 4 \\\\\n",
    "    1 & 5 & 9 \\\\\n",
    "    2 & 6 & 5\n",
    "  \\end{bmatrix}\\end{array} =\n",
    "  \\mathsf{\\vphantom{fg}width}\n",
    "  \\begin{array}[b]{@{}c@{}}\\mathsf{\\vphantom{fg}height}\\\\\\begin{bmatrix}\n",
    "    3 & 1 & 2 \\\\\n",
    "    1 & 5 & 6 \\\\\n",
    "    4 & 9 & 5\n",
    "  \\end{bmatrix}\\end{array}.\n",
    "\\end{aligned}\n",
    "$$"
   ]
  },
  {
   "cell_type": "code",
   "execution_count": 76,
   "metadata": {},
   "outputs": [
    {
     "data": {
      "text/plain": [
       "Indexable(tensor([[3, 1, 4],\n",
       "                  [1, 5, 9],\n",
       "                  [2, 6, 5]]))[height(), width()]"
      ]
     },
     "execution_count": 76,
     "metadata": {},
     "output_type": "execute_result"
    }
   ],
   "source": [
    "height, width = gensym(int, name=\"height\"), gensym(int, name=\"width\")\n",
    "t = tensor([[3, 1, 4], [1, 5, 9], [2, 6, 5]])\n",
    "A = Indexable(tensor([[3, 1, 4], [1, 5, 9], [2, 6, 5]]))[height(), width()]\n",
    "A"
   ]
  },
  {
   "cell_type": "markdown",
   "metadata": {},
   "source": [
    "Access elements of $A$ using named indices:"
   ]
  },
  {
   "cell_type": "markdown",
   "metadata": {},
   "source": [
    "$$\n",
    "A_{\\mathsf{\\vphantom{fg}height}(1), \\mathsf{\\vphantom{fg}width}(3)} = A_{\\mathsf{\\vphantom{fg}width}(3), \\mathsf{\\vphantom{fg}height}(1)} = 4\n",
    "$$"
   ]
  },
  {
   "cell_type": "code",
   "execution_count": 77,
   "metadata": {},
   "outputs": [
    {
     "data": {
      "text/plain": [
       "tensor(4)"
      ]
     },
     "execution_count": 77,
     "metadata": {},
     "output_type": "execute_result"
    }
   ],
   "source": [
    "subst(A, {height: 0, width: 2})"
   ]
  },
  {
   "cell_type": "markdown",
   "metadata": {},
   "source": [
    "Partial indexing:"
   ]
  },
  {
   "cell_type": "markdown",
   "metadata": {},
   "source": [
    "$$\n",
    "\\begin{aligned}\n",
    "A_{\\mathsf{\\vphantom{fg}height}(1)} &= \\begin{array}[b]{@{}c@{}}\\mathsf{\\vphantom{fg}width}\\\\\n",
    "\\begin{bmatrix}\n",
    "  3 & 1 & 4\n",
    "\\end{bmatrix}\\end{array}\n",
    "&\n",
    "A_{\\mathsf{\\vphantom{fg}width}(3)} &= \\begin{array}[b]{@{}c@{}}\\mathsf{\\vphantom{fg}height}\\\\\n",
    "\\begin{bmatrix}\n",
    "  4 & 9 & 5\n",
    "\\end{bmatrix}\\end{array}.\n",
    "\\end{aligned}\n",
    "$$"
   ]
  },
  {
   "cell_type": "code",
   "execution_count": 78,
   "metadata": {},
   "outputs": [
    {
     "data": {
      "text/plain": [
       "Indexable(tensor([3, 1, 4]))[width()]"
      ]
     },
     "execution_count": 78,
     "metadata": {},
     "output_type": "execute_result"
    }
   ],
   "source": [
    "subst(A, {height: 0})"
   ]
  },
  {
   "cell_type": "code",
   "execution_count": 79,
   "metadata": {},
   "outputs": [
    {
     "data": {
      "text/plain": [
       "Indexable(tensor([4, 9, 5]))[height()]"
      ]
     },
     "execution_count": 79,
     "metadata": {},
     "output_type": "execute_result"
    }
   ],
   "source": [
    "subst(A, {width: 2})"
   ]
  },
  {
   "cell_type": "markdown",
   "metadata": {},
   "source": [
    "## Named Tensor Operations"
   ]
  },
  {
   "cell_type": "markdown",
   "metadata": {},
   "source": [
    "### Elementwise Operations and Broadcasting"
   ]
  },
  {
   "cell_type": "markdown",
   "metadata": {},
   "source": [
    "Elementwise operations:"
   ]
  },
  {
   "cell_type": "markdown",
   "metadata": {},
   "source": [
    "$$\n",
    "\\frac1{1+\\exp(-A)} = \\mathsf{\\vphantom{fg}height}\n",
    "\\begin{array}[b]{@{}c@{}}\\mathsf{\\vphantom{fg}width}\\\\\n",
    "\\begin{bmatrix}\n",
    "  \\frac 1{1+\\exp(-3)} & \\frac 1{1+\\exp(-1)} & \\frac 1{1+\\exp(-4)} \\\\[1ex]\n",
    "  \\frac 1{1+\\exp(-1)} & \\frac 1{1+\\exp(-5)} & \\frac 1{1+\\exp(-9)} \\\\[1ex]\n",
    "  \\frac 1{1+\\exp(-2)} & \\frac 1{1+\\exp(-6)} & \\frac 1{1+\\exp(-5)}\n",
    "\\end{bmatrix}\\end{array}.\n",
    "$$"
   ]
  },
  {
   "cell_type": "code",
   "execution_count": 80,
   "metadata": {},
   "outputs": [
    {
     "data": {
      "text/plain": [
       "Indexable(tensor([[0.9526, 0.7311, 0.9820],\n",
       "                  [0.7311, 0.9933, 0.9999],\n",
       "                  [0.8808, 0.9975, 0.9933]]))[height(), width()]"
      ]
     },
     "execution_count": 80,
     "metadata": {},
     "output_type": "execute_result"
    }
   ],
   "source": [
    "1 / (1 + (-A).exp())"
   ]
  },
  {
   "cell_type": "markdown",
   "metadata": {},
   "source": [
    "Tensors with different shapes are automatically broadcasted against each other before an operation is applied. Let"
   ]
  },
  {
   "cell_type": "markdown",
   "metadata": {},
   "source": [
    "$$\n",
    "\\begin{aligned}\n",
    "  x &\\in \\mathbb{R}^{\\mathsf{\\vphantom{fg}height}[3]} & y &\\in \\mathbb{R}^{\\mathsf{\\vphantom{fg}width}[3]} \\\\\n",
    "  x &= \\mathsf{\\vphantom{fg}height}\n",
    "  \\begin{array}[b]{@{}c@{}}\\\\\n",
    "  \\begin{bmatrix}\n",
    "    2 \\\\ 7 \\\\ 1\n",
    "  \\end{bmatrix}\\end{array} & \n",
    "  y &= \n",
    "  \\begin{array}[b]{@{}c@{}}\\mathsf{\\vphantom{fg}width}\\\\\\begin{bmatrix}\n",
    "    1 & 4 & 1\n",
    "  \\end{bmatrix}\\end{array}.\n",
    "\\end{aligned}\n",
    "$$"
   ]
  },
  {
   "cell_type": "code",
   "execution_count": 81,
   "metadata": {},
   "outputs": [],
   "source": [
    "x = Indexable(tensor([2, 7, 1]))[height()]\n",
    "y = Indexable(tensor([1, 4, 1]))[width()]"
   ]
  },
  {
   "cell_type": "markdown",
   "metadata": {},
   "source": [
    "Binary addition operation:"
   ]
  },
  {
   "cell_type": "markdown",
   "metadata": {},
   "source": [
    "$$\n",
    "\\begin{aligned}\n",
    "A + x &= \\mathsf{\\vphantom{fg}height}\n",
    "\\begin{array}[b]{@{}c@{}}\\mathsf{\\vphantom{fg}width}\\\\\\begin{bmatrix}\n",
    "  3+2 & 1+2 & 4+2 \\\\\n",
    "  1+7 & 5+7 & 9+7 \\\\\n",
    "  2+1 & 6+1 & 5+1\n",
    "\\end{bmatrix}\\end{array} &\n",
    "A + y &= \\mathsf{\\vphantom{fg}height}\n",
    "\\begin{array}[b]{@{}c@{}}\\mathsf{\\vphantom{fg}width}\\\\\\begin{bmatrix}\n",
    "  3+1 & 1+4 & 4+1 \\\\\n",
    "  1+1 & 5+4 & 9+1 \\\\\n",
    "  2+1 & 6+4 & 5+1\n",
    "\\end{bmatrix}\\end{array}.\n",
    "\\end{aligned}\n",
    "$$"
   ]
  },
  {
   "cell_type": "code",
   "execution_count": 82,
   "metadata": {},
   "outputs": [
    {
     "data": {
      "text/plain": [
       "Indexable(tensor([[ 5,  3,  6],\n",
       "                  [ 8, 12, 16],\n",
       "                  [ 3,  7,  6]]))[height(), width()]"
      ]
     },
     "execution_count": 82,
     "metadata": {},
     "output_type": "execute_result"
    }
   ],
   "source": [
    "A + x"
   ]
  },
  {
   "cell_type": "code",
   "execution_count": 83,
   "metadata": {},
   "outputs": [
    {
     "data": {
      "text/plain": [
       "Indexable(tensor([[ 4,  5,  5],\n",
       "                  [ 2,  9, 10],\n",
       "                  [ 3, 10,  6]]))[height(), width()]"
      ]
     },
     "execution_count": 83,
     "metadata": {},
     "output_type": "execute_result"
    }
   ],
   "source": [
    "A + y"
   ]
  },
  {
   "cell_type": "markdown",
   "metadata": {},
   "source": [
    "Binary multiplication operation:\n",
    "\n",
    "$$\n",
    "A \\odot x = \\mathsf{\\vphantom{fg}height}\n",
    "\\begin{array}[b]{@{}c@{}}\\mathsf{\\vphantom{fg}width}\\\\\\begin{bmatrix}\n",
    "  3\\cdot2 & 1\\cdot2 & 4\\cdot2 \\\\\n",
    "  1\\cdot7 & 5\\cdot7 & 9\\cdot7 \\\\\n",
    "  2\\cdot1 & 6\\cdot1 & 5\\cdot1\n",
    "\\end{bmatrix}\\end{array}\n",
    "$$"
   ]
  },
  {
   "cell_type": "code",
   "execution_count": 84,
   "metadata": {},
   "outputs": [
    {
     "data": {
      "text/plain": [
       "Indexable(tensor([[ 6,  2,  8],\n",
       "                  [ 7, 35, 63],\n",
       "                  [ 2,  6,  5]]))[height(), width()]"
      ]
     },
     "execution_count": 84,
     "metadata": {},
     "output_type": "execute_result"
    }
   ],
   "source": [
    "A * x"
   ]
  },
  {
   "cell_type": "markdown",
   "metadata": {},
   "source": [
    "Binary maximum operation:\n",
    "\n",
    "$$\n",
    "\\max(A, y) = \\mathsf{\\vphantom{fg}height}\n",
    "\\begin{array}[b]{@{}c@{}}\\mathsf{\\vphantom{fg}width}\\\\\\begin{bmatrix}\n",
    "  \\max(3, 1) & \\max(1, 4) & \\max(4, 1) \\\\\n",
    "  \\max(1, 1) & \\max(5, 4) & \\max(9, 1) \\\\\n",
    "  \\max(2, 1) & \\max(6, 4) & \\max(5, 1)\n",
    "\\end{bmatrix}\\end{array}.\n",
    "$$"
   ]
  },
  {
   "cell_type": "code",
   "execution_count": 85,
   "metadata": {},
   "outputs": [
    {
     "data": {
      "text/plain": [
       "Indexable(tensor([[3, 4, 4],\n",
       "                  [1, 5, 9],\n",
       "                  [2, 6, 5]]))[height(), width()]"
      ]
     },
     "execution_count": 85,
     "metadata": {},
     "output_type": "execute_result"
    }
   ],
   "source": [
    "torch.max(A, y)"
   ]
  },
  {
   "cell_type": "markdown",
   "metadata": {},
   "source": [
    "### Reductions"
   ]
  },
  {
   "cell_type": "markdown",
   "metadata": {},
   "source": [
    "Named axes can be reduced over by calling the `.reduce` method and specifying the [reduction operator](https://en.wikipedia.org/wiki/Reduction_Operator) and names of reduced axes. Note that reduction is defined only for operators that are associative and commutative."
   ]
  },
  {
   "cell_type": "markdown",
   "metadata": {},
   "source": [
    "$$\n",
    "\\sum\\limits_{\\substack{\\mathsf{\\vphantom{fg}height}}} A = \\sum_i A_{\\mathsf{\\vphantom{fg}height}(i)} = \\begin{array}[b]{@{}c@{}}\\mathsf{\\vphantom{fg}width}\\\\\n",
    "\\begin{bmatrix}\n",
    "  3+1+2 & 1+5+6 & 4+9+5\n",
    "\\end{bmatrix}\\end{array}.\n",
    "$$"
   ]
  },
  {
   "cell_type": "code",
   "execution_count": 86,
   "metadata": {},
   "outputs": [
    {
     "data": {
      "text/plain": [
       "Indexable(tensor([ 6, 12, 18]))[width()]"
      ]
     },
     "execution_count": 86,
     "metadata": {},
     "output_type": "execute_result"
    }
   ],
   "source": [
    "reduce([height], A, torch.sum)"
   ]
  },
  {
   "cell_type": "markdown",
   "metadata": {},
   "source": [
    "$$\n",
    "\\sum\\limits_{\\substack{\\mathsf{\\vphantom{fg}width}}} A = \\sum_j A_{\\mathsf{\\vphantom{fg}width}(j)} = \\begin{array}[b]{@{}c@{}}\\mathsf{\\vphantom{fg}height}\\\\\n",
    "\\begin{bmatrix}\n",
    "  3+1+4 & 1+5+9 & 2+6+5\n",
    "\\end{bmatrix}\\end{array}.\n",
    "$$"
   ]
  },
  {
   "cell_type": "code",
   "execution_count": 87,
   "metadata": {},
   "outputs": [
    {
     "data": {
      "text/plain": [
       "Indexable(tensor([ 8, 15, 13]))[height()]"
      ]
     },
     "execution_count": 87,
     "metadata": {},
     "output_type": "execute_result"
    }
   ],
   "source": [
    "reduce([width], A, torch.sum)"
   ]
  },
  {
   "cell_type": "markdown",
   "metadata": {},
   "source": [
    "Reduction over multiple axes:"
   ]
  },
  {
   "cell_type": "markdown",
   "metadata": {},
   "source": [
    "$$\n",
    "\\sum\\limits_{\\substack{\\mathsf{\\vphantom{fg}height}\\\\\n",
    " \\mathsf{\\vphantom{fg}width}}} A = \\sum_i \\sum_j A_{\\mathsf{\\vphantom{fg}height}(i),\\mathsf{\\vphantom{fg}width}(j)} = 3+1+4+1+5+9+2+6+5.\n",
    " $$"
   ]
  },
  {
   "cell_type": "code",
   "execution_count": 88,
   "metadata": {},
   "outputs": [
    {
     "data": {
      "text/plain": [
       "tensor(36)"
      ]
     },
     "execution_count": 88,
     "metadata": {},
     "output_type": "execute_result"
    }
   ],
   "source": [
    "reduce([height, width], A, torch.sum)"
   ]
  },
  {
   "cell_type": "markdown",
   "metadata": {},
   "source": [
    "Multiplication reduction:"
   ]
  },
  {
   "cell_type": "markdown",
   "metadata": {},
   "source": [
    "$$\n",
    "\\prod\\limits_{\\substack{\\mathsf{\\vphantom{fg}height}}} A = \\prod_i A_{\\mathsf{\\vphantom{fg}height}(i)} = \\begin{array}[b]{@{}c@{}}\\mathsf{\\vphantom{fg}width}\\\\\n",
    "\\begin{bmatrix}\n",
    "  3\\cdot1\\cdot2 & 1\\cdot5\\cdot6 & 4\\cdot9\\cdot5\n",
    "\\end{bmatrix}\\end{array}.\n",
    "$$"
   ]
  },
  {
   "cell_type": "code",
   "execution_count": 89,
   "metadata": {},
   "outputs": [
    {
     "data": {
      "text/plain": [
       "Indexable(tensor([  6,  30, 180]))[width()]"
      ]
     },
     "execution_count": 89,
     "metadata": {},
     "output_type": "execute_result"
    }
   ],
   "source": [
    "reduce([height], A, torch.prod)"
   ]
  },
  {
   "cell_type": "markdown",
   "metadata": {},
   "source": [
    "Max reduction:"
   ]
  },
  {
   "cell_type": "markdown",
   "metadata": {},
   "source": [
    "$$\n",
    "\\max\\limits_{\\substack{\\mathsf{\\vphantom{fg}height}}} A = \\max \\{A_{\\mathsf{\\vphantom{fg}height}(i)} \\mid 1 \\leq i \\leq n\\} = \\begin{array}[b]{@{}c@{}}\\mathsf{\\vphantom{fg}width}\\\\\n",
    "\\begin{bmatrix}\n",
    "  \\max(3, 1, 2) & \\max(1, 5, 6) & \\max(4, 9, 5)\n",
    "\\end{bmatrix}\\end{array}.\n",
    "$$"
   ]
  },
  {
   "cell_type": "code",
   "execution_count": 90,
   "metadata": {},
   "outputs": [
    {
     "data": {
      "text/plain": [
       "Indexable(tensor([3, 6, 9]))[width()]"
      ]
     },
     "execution_count": 90,
     "metadata": {},
     "output_type": "execute_result"
    }
   ],
   "source": [
    "reduce([height], A, torch.amax)"
   ]
  },
  {
   "cell_type": "markdown",
   "metadata": {},
   "source": [
    "### Contraction"
   ]
  },
  {
   "cell_type": "markdown",
   "metadata": {},
   "source": [
    "Contraction operation can be written as elementwise multiplication followed by summation over an axis:"
   ]
  },
  {
   "cell_type": "markdown",
   "metadata": {},
   "source": [
    "$$\n",
    "A \\mathbin{\\underset{\\substack{\\mathsf{\\vphantom{fg}width}}}{\\vphantom{fg}\\odot}} y = \\sum_j A_{\\mathsf{\\vphantom{fg}width}(j)} \\, y_{\\mathsf{\\vphantom{fg}width}(j)} = \\mathsf{\\vphantom{fg}height}\n",
    "\\begin{array}[b]{@{}c@{}}\\\\\\begin{bmatrix}\n",
    "  3\\cdot 1 + 1\\cdot 4 + 4\\cdot 1 \\\\\n",
    "  1\\cdot 1 + 5\\cdot 4 + 9\\cdot 1 \\\\\n",
    "  2\\cdot 1 + 6\\cdot 4 + 5\\cdot 1\n",
    "\\end{bmatrix}\\end{array}.\n",
    "$$"
   ]
  },
  {
   "cell_type": "code",
   "execution_count": 91,
   "metadata": {},
   "outputs": [
    {
     "data": {
      "text/plain": [
       "Indexable(tensor([11, 30, 31]))[height()]"
      ]
     },
     "execution_count": 91,
     "metadata": {},
     "output_type": "execute_result"
    }
   ],
   "source": [
    "reduce([width], A * y, torch.sum)"
   ]
  },
  {
   "cell_type": "markdown",
   "metadata": {},
   "source": [
    "Some other operations from linear algebra:"
   ]
  },
  {
   "cell_type": "markdown",
   "metadata": {},
   "source": [
    "$$\n",
    "x \\mathbin{\\underset{\\substack{\\mathsf{\\vphantom{fg}height}}}{\\vphantom{fg}\\odot}} x = \\sum_i x_{\\mathsf{\\vphantom{fg}height}(i)} \\, x_{\\mathsf{\\vphantom{fg}height}(i)} \\qquad \\text{inner product}\n",
    "$$"
   ]
  },
  {
   "cell_type": "code",
   "execution_count": 92,
   "metadata": {},
   "outputs": [
    {
     "data": {
      "text/plain": [
       "tensor(54)"
      ]
     },
     "execution_count": 92,
     "metadata": {},
     "output_type": "execute_result"
    }
   ],
   "source": [
    "reduce([height], x * x, torch.sum)"
   ]
  },
  {
   "cell_type": "markdown",
   "metadata": {},
   "source": [
    "$$\n",
    "[x \\odot y]_{\\mathsf{\\vphantom{fg}height}(i), \\mathsf{\\vphantom{fg}width}(j)} = x_{\\mathsf{\\vphantom{fg}height}(i)} \\, y_{\\mathsf{\\vphantom{fg}width}(j)} \\qquad \\text{outer product}\n",
    "$$"
   ]
  },
  {
   "cell_type": "code",
   "execution_count": 93,
   "metadata": {},
   "outputs": [
    {
     "data": {
      "text/plain": [
       "Indexable(tensor([[ 2,  8,  2],\n",
       "                  [ 7, 28,  7],\n",
       "                  [ 1,  4,  1]]))[height(), width()]"
      ]
     },
     "execution_count": 93,
     "metadata": {},
     "output_type": "execute_result"
    }
   ],
   "source": [
    "x * y"
   ]
  },
  {
   "cell_type": "markdown",
   "metadata": {},
   "source": [
    "$$\n",
    "A \\mathbin{\\underset{\\substack{\\mathsf{\\vphantom{fg}width}}}{\\vphantom{fg}\\odot}} y = \\sum_i A_{\\mathsf{\\vphantom{fg}width}(i)} \\, y_{\\mathsf{\\vphantom{fg}width}(i)} \\qquad \\text{matrix-vector product}\n",
    "$$"
   ]
  },
  {
   "cell_type": "code",
   "execution_count": 94,
   "metadata": {},
   "outputs": [
    {
     "data": {
      "text/plain": [
       "Indexable(tensor([11, 30, 31]))[height()]"
      ]
     },
     "execution_count": 94,
     "metadata": {},
     "output_type": "execute_result"
    }
   ],
   "source": [
    "reduce([width], A * y, torch.sum)"
   ]
  },
  {
   "cell_type": "markdown",
   "metadata": {},
   "source": [
    "$$\n",
    "x \\mathbin{\\underset{\\substack{\\mathsf{\\vphantom{fg}height}}}{\\vphantom{fg}\\odot}} A = \\sum_i x_{\\mathsf{\\vphantom{fg}height}(i)} \\, A_{\\mathsf{\\vphantom{fg}height}(i)} \\qquad \\text{vector-matrix product} \\\\\n",
    "$$"
   ]
  },
  {
   "cell_type": "code",
   "execution_count": 95,
   "metadata": {},
   "outputs": [
    {
     "data": {
      "text/plain": [
       "Indexable(tensor([15, 43, 76]))[width()]"
      ]
     },
     "execution_count": 95,
     "metadata": {},
     "output_type": "execute_result"
    }
   ],
   "source": [
    "reduce([height], x * A, torch.sum)"
   ]
  },
  {
   "cell_type": "markdown",
   "metadata": {},
   "source": [
    "$$\n",
    "A \\mathbin{\\underset{\\substack{\\mathsf{\\vphantom{fg}width}}}{\\vphantom{fg}\\odot}} B = \\sum_i A_{\\mathsf{\\vphantom{fg}width}(i)} \\odot B_{\\mathsf{\\vphantom{fg}width}(i)} \\qquad \\text{matrix-matrix product}~(B \\in \\mathbb{R}^{\\mathsf{\\vphantom{fg}width}\\times \\mathsf{\\vphantom{fg}width2}})\n",
    "$$"
   ]
  },
  {
   "cell_type": "code",
   "execution_count": 96,
   "metadata": {},
   "outputs": [
    {
     "data": {
      "text/plain": [
       "Indexable(tensor([[ 46,  22,  39],\n",
       "                  [100,  49,  59],\n",
       "                  [ 76,  43,  40]]))[height(), width2()]"
      ]
     },
     "execution_count": 96,
     "metadata": {},
     "output_type": "execute_result"
    }
   ],
   "source": [
    "width2 = gensym(int, name=\"width2\")\n",
    "B = Indexable(\n",
    "    tensor([[3, 2, 5], [5, 4, 0], [8, 3, 6]]),\n",
    ")[width(), width2()]\n",
    "\n",
    "reduce([width], A * B, torch.sum)"
   ]
  },
  {
   "cell_type": "markdown",
   "metadata": {},
   "source": [
    "Contraction can be generalized to other binary and reduction operations:"
   ]
  },
  {
   "cell_type": "markdown",
   "metadata": {},
   "source": [
    "$$\n",
    "\\max_{\\mathsf{\\vphantom{fg}width}} (A + y) = \\mathsf{\\vphantom{fg}height}\n",
    "\\begin{array}[b]{@{}c@{}}\\\\\\begin{bmatrix}\n",
    "  \\max(3+1, 1+4, 4+1) \\\\\n",
    "  \\max(1+1, 5+4, 9+1) \\\\\n",
    "  \\max(2+1, 6+4, 5+1)\n",
    "\\end{bmatrix}\\end{array}.\n",
    "$$"
   ]
  },
  {
   "cell_type": "code",
   "execution_count": 97,
   "metadata": {},
   "outputs": [
    {
     "data": {
      "text/plain": [
       "Indexable(tensor([ 5, 10, 10]))[height()]"
      ]
     },
     "execution_count": 97,
     "metadata": {},
     "output_type": "execute_result"
    }
   ],
   "source": [
    "reduce([width], A + y, torch.amax)"
   ]
  },
  {
   "cell_type": "markdown",
   "metadata": {},
   "source": [
    "### Renaming and Reshaping"
   ]
  },
  {
   "cell_type": "markdown",
   "metadata": {},
   "source": [
    "Renaming named dimensions is simple:"
   ]
  },
  {
   "cell_type": "markdown",
   "metadata": {},
   "source": [
    "$$\n",
    "A_{\\mathsf{\\vphantom{fg}height}\\rightarrow\\mathsf{\\vphantom{fg}height2}} = \\mathsf{\\vphantom{fg}height2}\n",
    "\\begin{array}[b]{@{}c@{}}\\mathsf{\\vphantom{fg}width}\n",
    "\\\\\\begin{bmatrix}\n",
    "  3 & 1 & 4 \\\\\n",
    "  1 & 5 & 9 \\\\\n",
    "  2 & 6 & 5 \\\\\n",
    "\\end{bmatrix}\\end{array}.\n",
    "$$"
   ]
  },
  {
   "cell_type": "code",
   "execution_count": 98,
   "metadata": {},
   "outputs": [
    {
     "data": {
      "text/plain": [
       "Indexable(tensor([[3, 1, 4],\n",
       "                  [1, 5, 9],\n",
       "                  [2, 6, 5]]))[height2(), width()]"
      ]
     },
     "execution_count": 98,
     "metadata": {},
     "output_type": "execute_result"
    }
   ],
   "source": [
    "height2 = gensym(int, name=\"height2\")\n",
    "subst(A, {height: height2()})"
   ]
  },
  {
   "cell_type": "markdown",
   "metadata": {},
   "source": [
    "$$\n",
    "A_{(\\mathsf{\\vphantom{fg}height},\\mathsf{\\vphantom{fg}width})\\rightarrow\\mathsf{\\vphantom{fg}layer}} = \\begin{array}[b]{@{}c@{}}\\mathsf{\\vphantom{fg}layer}\\\\\n",
    "\\begin{bmatrix}\n",
    "    3 & 1 & 4 & 1 & 5 & 9 & 2 & 6 & 5\n",
    "\\end{bmatrix}\\end{array}\n",
    "$$"
   ]
  },
  {
   "cell_type": "code",
   "execution_count": 99,
   "metadata": {},
   "outputs": [
    {
     "name": "stdout",
     "output_type": "stream",
     "text": [
      "tensor(4)\n"
     ]
    }
   ],
   "source": [
    "layer = gensym(int, name=\"layer\")\n",
    "A_layer = subst(A, {height: layer() // 3, width: layer() % 3})\n",
    "print(subst(A_layer, {layer: 2}))"
   ]
  },
  {
   "cell_type": "markdown",
   "metadata": {},
   "source": [
    "$$\n",
    "A_{\\mathsf{\\vphantom{fg}layer}\\rightarrow(\\mathsf{\\vphantom{fg}height},\\mathsf{\\vphantom{fg}width})} = \\mathsf{\\vphantom{fg}height}\n",
    "\\begin{array}[b]{@{}c@{}}\\mathsf{\\vphantom{fg}width}\n",
    "\\\\\\begin{bmatrix}\n",
    "  3 & 1 & 4 \\\\\n",
    "  1 & 5 & 9 \\\\\n",
    "  2 & 6 & 5 \\\\\n",
    "\\end{bmatrix}\\end{array}.\n",
    "$$"
   ]
  },
  {
   "cell_type": "code",
   "execution_count": 100,
   "metadata": {},
   "outputs": [
    {
     "name": "stdout",
     "output_type": "stream",
     "text": [
      "_torch_op(tensor([[3, 1, 4],\n",
      "        [1, 5, 9],\n",
      "        [2, 6, 5]]), [floordiv(add(mul(height(), 3), mod(width(), 3)), 3), mod(add(mul(height(), 3), mod(width(), 3)), 3)])\n"
     ]
    }
   ],
   "source": [
    "print(subst(A_layer, {layer: height() * 3 + width() % 3}))"
   ]
  },
  {
   "cell_type": "markdown",
   "metadata": {},
   "source": [
    "## Advanced Indexing"
   ]
  },
  {
   "cell_type": "markdown",
   "metadata": {},
   "source": [
    "All of advanced indexing can be achieved through name substitutions."
   ]
  },
  {
   "cell_type": "markdown",
   "metadata": {},
   "source": [
    "$$\n",
    "\\mathop{\\underset{\\substack{\\mathsf{\\vphantom{fg}ax}}}{\\vphantom{fg}\\mathrm{index}}} \\colon \\mathbb{R}^{\\mathsf{\\vphantom{fg}ax}[n]} \\times [n] \\rightarrow \\mathbb{R}\\\\\n",
    "\\mathop{\\underset{\\substack{\\mathsf{\\vphantom{fg}ax}}}{\\vphantom{fg}\\mathrm{index}}}(A, i) = A_{\\mathsf{\\vphantom{fg}ax}(i)}.\n",
    "$$"
   ]
  },
  {
   "cell_type": "markdown",
   "metadata": {},
   "source": [
    "$$\n",
    "\\begin{aligned}\n",
    "  E &\\in \\mathbb{R}^{\\mathsf{\\vphantom{fg}vocab}[n] \\times \\mathsf{\\vphantom{fg}emb}} \\\\\n",
    "  i &\\in [n] \\\\\n",
    "  I &\\in [n]^{\\mathsf{\\vphantom{fg}seq}} \\\\\n",
    "  P &\\in \\mathbb{R}^{\\mathsf{\\vphantom{fg}seq}\\times \\mathsf{\\vphantom{fg}vocab}[n]}\n",
    "\\end{aligned}\n",
    "$$"
   ]
  },
  {
   "cell_type": "markdown",
   "metadata": {},
   "source": [
    "Partial indexing $\\mathop{\\underset{\\substack{\\mathsf{\\vphantom{fg}vocab}}}{\\vphantom{fg}\\mathrm{index}}}(E,i)$:"
   ]
  },
  {
   "cell_type": "code",
   "execution_count": 101,
   "metadata": {},
   "outputs": [
    {
     "data": {
      "text/plain": [
       "Indexable(tensor([1, 3, 7]))[emb()]"
      ]
     },
     "execution_count": 101,
     "metadata": {},
     "output_type": "execute_result"
    }
   ],
   "source": [
    "vocab, emb = gensym(int, name=\"vocab\"), gensym(int, name=\"emb\")\n",
    "E = Indexable(\n",
    "    tensor([[2, 1, 5], [3, 4, 2], [1, 3, 7], [1, 4, 3], [5, 9, 2]]),\n",
    ")[vocab(), emb()]\n",
    "\n",
    "subst(E, {vocab: 2})"
   ]
  },
  {
   "cell_type": "markdown",
   "metadata": {},
   "source": [
    "Integer array indexing $\\mathop{\\underset{\\substack{\\mathsf{\\vphantom{fg}vocab}}}{\\vphantom{fg}\\mathrm{index}}}(E,I)$:"
   ]
  },
  {
   "cell_type": "code",
   "execution_count": 102,
   "metadata": {},
   "outputs": [
    {
     "data": {
      "text/plain": [
       "Indexable(tensor([[1, 4, 3],\n",
       "                  [1, 3, 7],\n",
       "                  [5, 9, 2],\n",
       "                  [2, 1, 5]]))[seq(), emb()]"
      ]
     },
     "execution_count": 102,
     "metadata": {},
     "output_type": "execute_result"
    }
   ],
   "source": [
    "seq = gensym(int, name=\"seq\")\n",
    "I = Indexable(tensor([3, 2, 4, 0]))[seq()]\n",
    "\n",
    "subst(E, {vocab: I})"
   ]
  },
  {
   "cell_type": "markdown",
   "metadata": {},
   "source": [
    "Gather operation $\\mathop{\\underset{\\substack{\\mathsf{\\vphantom{fg}vocab}}}{\\vphantom{fg}\\mathrm{index}}}(P,I)$:"
   ]
  },
  {
   "cell_type": "code",
   "execution_count": 103,
   "metadata": {},
   "outputs": [
    {
     "data": {
      "text/plain": [
       "Indexable(tensor([1, 5, 2, 2]))[seq()]"
      ]
     },
     "execution_count": 103,
     "metadata": {},
     "output_type": "execute_result"
    }
   ],
   "source": [
    "P = Indexable(\n",
    "    tensor([[6, 2, 4, 2], [8, 2, 1, 3], [5, 5, 7, 0], [1, 3, 8, 2], [5, 9, 2, 3]]),\n",
    ")[vocab(), seq()]\n",
    "\n",
    "subst(P, {vocab: I})"
   ]
  },
  {
   "cell_type": "markdown",
   "metadata": {},
   "source": [
    "Indexing with two integer arrays:\n",
    "\n",
    "$$\n",
    "\\begin{aligned}\n",
    "  |\\mathsf{\\vphantom{fg}seq}| &= m \\\\\n",
    "  I_1 &= [m]^\\mathsf{\\vphantom{fg}subseq}\\\\\n",
    "  I_2 &= [n]^\\mathsf{\\vphantom{fg}subseq}\\\\\n",
    "  S &= \\mathop{\\underset{\\substack{\\mathsf{\\vphantom{fg}vocab}}}{\\vphantom{fg}\\mathrm{index}}}(\\mathop{\\underset{\\substack{\\mathsf{\\vphantom{fg}seq}}}{\\vphantom{fg}\\mathrm{index}}}(P, I_1), I_2) \\in \\mathbb{R}^{\\mathsf{\\vphantom{fg}subseq}} \\\\\n",
    "  S_{\\mathsf{\\vphantom{fg}subseq}(i)} &= P_{\\mathsf{\\vphantom{fg}seq}(I_{\\mathsf{\\vphantom{fg}subseq}(i)}), \\mathsf{\\vphantom{fg}vocab}(I_{\\mathsf{\\vphantom{fg}subseq}(i)})}.\n",
    "\\end{aligned}\n",
    "$$"
   ]
  },
  {
   "cell_type": "code",
   "execution_count": 104,
   "metadata": {},
   "outputs": [
    {
     "data": {
      "text/plain": [
       "Indexable(tensor([3, 4, 5]))[subseq()]"
      ]
     },
     "execution_count": 104,
     "metadata": {},
     "output_type": "execute_result"
    }
   ],
   "source": [
    "subseq = gensym(int, name=\"subseq\")\n",
    "I1 = Indexable(tensor([1, 2, 0]))[subseq()]\n",
    "I2 = Indexable(tensor([3, 0, 4]))[subseq()]\n",
    "\n",
    "subst(P, {seq: I1, vocab: I2})"
   ]
  },
  {
   "cell_type": "markdown",
   "metadata": {},
   "source": [
    "## Constructing Neural Networks"
   ]
  },
  {
   "cell_type": "code",
   "execution_count": 105,
   "metadata": {},
   "outputs": [],
   "source": [
    "\"\"\"\n",
    "from collections import OrderedDict\n",
    "import functools\n",
    "\n",
    "import math\n",
    "import torch\n",
    "from torch.distributions import constraints\n",
    "\n",
    "%env FUNSOR_TYPECHECK=1\n",
    "import funsor\n",
    "from funsor.terms import Funsor, Variable, Number, Lambda, Slice\n",
    "from funsor.tensor import Tensor\n",
    "from funsor.domains import Array, Bint, Real, Reals\n",
    "from funsor.factory import Bound, Fresh, Has, Value, make_funsor, to_funsor\n",
    "import funsor.ops as ops\n",
    "from funsor.cnf import Contraction\n",
    "from funsor.testing import random_tensor\n",
    "from funsor.interpretations import reflect, memoize\n",
    "import funsor.torch.distributions as dist\n",
    "\n",
    "funsor.set_backend(\"torch\")\n",
    "torch.set_default_dtype(torch.float32)\n",
    "\"\"\"\n",
    "\n",
    "import functools\n",
    "\n",
    "import torch\n",
    "from torch import tensor\n",
    "\n",
    "from effectful.ops.core import evaluate, as_term, Operation\n",
    "from effectful.ops.handler import handler\n",
    "from effectful.internals.sugar import gensym, torch_getitem, Bound\n",
    "from effectful.indexed.ops import Indexable, to_tensor\n",
    "\n",
    "\n",
    "def reduce(indexes, indexed_tensor, reducer):\n",
    "    \"\"\"Reduce an indexed tensor along one or more named dimensions.\n",
    "\n",
    "    Args:\n",
    "    - indexes: Names of dimensions to reduce.\n",
    "    - indexed_tensor: The tensor to reduce.\n",
    "    - reducer: A reduction function like `torch.sum`. Must take `tensor`, `dim`, and `keepdim` arguments.\n",
    "\n",
    "    Returns: A new indexed tensor with the specified dimensions reduced.\n",
    "\n",
    "    Example:\n",
    "    >>> width, height = gensym(int, name='width'), gensym(int, name='height')\n",
    "    >>> t = indexed(torch.ones(2, 3))[width(), height()]\n",
    "    >>> reduce([width], t, \"sum\")\n",
    "    indexed(tensor([2., 2., 2.]))[height()]\n",
    "    \"\"\"\n",
    "    num_positional = len(indexed_tensor.shape)\n",
    "    # convert indexed dimensions to positional and flatten all new positional dims\n",
    "    t = to_tensor(indexed_tensor, indexes)\n",
    "    new_positional = len(t.shape) - num_positional\n",
    "    t_flat = torch.flatten(t, 0, new_positional - 1)\n",
    "\n",
    "    # reduce dim 0 into the first index of dim 0, then return reduction\n",
    "    return reducer(t_flat, 0, keepdim=True)[0]"
   ]
  },
  {
   "cell_type": "markdown",
   "metadata": {},
   "source": [
    "### Feedforward"
   ]
  },
  {
   "cell_type": "markdown",
   "metadata": {},
   "source": [
    "\\begin{aligned}\n",
    "  X^0 &\\in \\mathbb{R}^{\\mathsf{\\vphantom{fg}input}} \\\\\n",
    "  X^1 &= \\sigma(W^1 \\mathbin{\\underset{\\substack{\\mathsf{\\vphantom{fg}input}}}{\\vphantom{fg}\\odot}} X^0 + b^1) & W^1 &\\in \\mathbb{R}^{\\mathsf{\\vphantom{fg}hidden}_1 \\times \\mathsf{\\vphantom{fg}input}} & b^1 &\\in \\mathbb{R}^{\\mathsf{\\vphantom{fg}hidden}_1} \\\\\n",
    "  X^2 &= \\sigma(W^2 \\mathbin{\\underset{\\substack{\\mathsf{\\vphantom{fg}hidden}_1}}{\\vphantom{fg}\\odot}} X^1 + b^2) & W^2 &\\in \\mathbb{R}^{\\mathsf{\\vphantom{fg}hidden}_2 \\times \\mathsf{\\vphantom{fg}hidden}_1} & b^2 &\\in \\mathbb{R}^{\\mathsf{\\vphantom{fg}hidden}_2} \\\\\n",
    "  X^3 &= \\sigma(W^3 \\mathbin{\\underset{\\substack{\\mathsf{\\vphantom{fg}hidden}_2}}{\\vphantom{fg}\\odot}} X^2 + b^3) & W^3 &\\in \\mathbb{R}^{\\mathsf{\\vphantom{fg}out}\\times \\mathsf{\\vphantom{fg}hidden}_2} & b^3 &\\in \\mathbb{R}^{\\mathsf{\\vphantom{fg}out}}\n",
    "\\end{aligned}"
   ]
  },
  {
   "cell_type": "markdown",
   "metadata": {},
   "source": [
    "$$\n",
    "\\begin{aligned}\n",
    "x &\\in \\mathbb{R}^{\\mathsf{\\vphantom{fg}layer}[n_0]} \\\\\n",
    "W^l &\\in \\mathbb{R}^{\\mathsf{\\vphantom{fg}layer^2}[n_l] \\times \\mathsf{\\vphantom{fg}layer}[n_{l-1}]} \\\\\n",
    "  b^l &\\in \\mathbb{R}^{\\mathsf{\\vphantom{fg}layer^2}[n_l]} \\\\\n",
    "  \\text{FullConn}^l(x) &= \\sigma\\left(W^l \\mathbin{\\underset{\\substack{\\mathsf{\\vphantom{fg}layer}}}{\\vphantom{fg}\\odot}} x + b^l\\right)_{\\mathsf{\\vphantom{fg}layer^2}\\rightarrow\\mathsf{\\vphantom{fg}layer}}\n",
    "\\end{aligned}\n",
    "$$"
   ]
  },
  {
   "cell_type": "code",
   "execution_count": 106,
   "metadata": {},
   "outputs": [],
   "source": [
    "@Operation\n",
    "def FullConn(x: torch.Tensor, W: torch.Tensor, b: torch.Tensor, layer: Bound):\n",
    "    return reduce([layer], torch.sigmoid(torch.mul(W, x)), torch.sum) + b"
   ]
  },
  {
   "cell_type": "code",
   "execution_count": 107,
   "metadata": {},
   "outputs": [
    {
     "data": {
      "text/plain": [
       "Indexable(tensor([50.2887, 50.5099, 51.7655, 50.6503, 51.3610, 49.2150, 49.7114, 47.1713,\n",
       "                  48.9635, 51.5345, 50.5998, 50.2993, 49.1324, 49.7469, 50.2354, 49.6577,\n",
       "                  48.4640, 50.0672, 50.9392, 51.5744, 48.8719, 52.0908, 52.0701, 53.3827,\n",
       "                  48.5565, 44.4681, 46.4762, 48.3316, 51.3174, 48.6470, 48.6671, 51.1641]))[output()]"
      ]
     },
     "execution_count": 107,
     "metadata": {},
     "output_type": "execute_result"
    }
   ],
   "source": [
    "input_size = 100\n",
    "output_size = 32\n",
    "input_, output = gensym(int, name=\"input\"), gensym(int, name=\"output\")\n",
    "\n",
    "W = Indexable(torch.randn(input_size, output_size))[input_(), output()]\n",
    "b = Indexable(torch.randn(output_size))[output()]\n",
    "X = Indexable(torch.randn(input_size))[input_()]\n",
    "\n",
    "FullConn(X, W, b, input_)"
   ]
  },
  {
   "cell_type": "markdown",
   "metadata": {},
   "source": [
    "### Recurrent"
   ]
  },
  {
   "cell_type": "markdown",
   "metadata": {},
   "source": [
    "$$\n",
    "\\begin{aligned}\n",
    "x^{t} &\\in \\mathbb{R}^{\\mathsf{\\vphantom{fg}input}} & t &= 1, \\ldots, n \\\\\n",
    "W^{\\text{h}} &\\in \\mathbb{R}^{\\mathsf{\\vphantom{fg}hidden}\\times \\mathsf{\\vphantom{fg}hidden}^\\prime} & |\\mathsf{\\vphantom{fg}hidden}| &= |\\mathsf{\\vphantom{fg}hidden}^\\prime| \\\\\n",
    "W^{\\text{i}} &\\in \\mathbb{R}^{\\mathsf{\\vphantom{fg}input}\\times \\mathsf{\\vphantom{fg}hidden}^\\prime} \\\\\n",
    "b &\\in \\mathbb{R}^{\\mathsf{\\vphantom{fg}hidden}^\\prime} \\\\\n",
    "h^{0} &\\in \\mathbb{R}^{\\mathsf{\\vphantom{fg}hidden}} \\\\\n",
    "h^{t} &= \\sigma\\left( W^{\\text{h}} \\mathbin{\\underset{\\substack{\\mathsf{\\vphantom{fg}hidden}}}{\\vphantom{fg}\\odot}} h^{t-1} + W^{\\text{i}} \\mathbin{\\underset{\\substack{\\mathsf{\\vphantom{fg}input}}}{\\vphantom{fg}\\odot}} x^{t} + b \\right)_{\\mathsf{\\vphantom{fg}hidden}^\\prime\\rightarrow\\mathsf{\\vphantom{fg}hidden}} & t &= 1, \\ldots, n\n",
    "\\end{aligned}\n",
    "$$"
   ]
  },
  {
   "cell_type": "code",
   "execution_count": 108,
   "metadata": {},
   "outputs": [],
   "source": [
    "@Operation\n",
    "def RNN(\n",
    "    x: torch.Tensor,\n",
    "    Wh: torch.Tensor,\n",
    "    Wi: torch.Tensor,\n",
    "    b: torch.Tensor,\n",
    "    h: torch.Tensor,\n",
    "    hidden: Bound,\n",
    "    layer: Bound,\n",
    ") -> torch.Tensor:\n",
    "    return torch.sigmoid(\n",
    "        reduce([hidden], Wh * h, torch.sum) + reduce([layer], Wi * x, torch.sum) + b\n",
    "    )"
   ]
  },
  {
   "cell_type": "code",
   "execution_count": 109,
   "metadata": {},
   "outputs": [
    {
     "data": {
      "text/plain": [
       "Indexable(tensor([1.3253e-06, 9.0270e-01, 9.9990e-01, 6.1722e-06, 1.2837e-03, 1.1857e-14,\n",
       "                  9.9768e-01, 3.7273e-08, 9.9039e-01, 1.0000e+00, 9.9986e-01, 1.0000e+00,\n",
       "                  9.7511e-01, 1.2422e-03, 1.0000e+00, 4.8692e-08, 3.0489e-06, 9.9999e-01,\n",
       "                  4.8624e-10, 2.1622e-01, 6.6186e-03, 9.8496e-01, 8.7746e-01, 9.8309e-01,\n",
       "                  9.9993e-01, 9.1546e-01, 1.0000e+00, 4.2056e-09, 2.2722e-06, 3.1396e-04,\n",
       "                  9.9066e-01, 9.9999e-01]))[hidden2()]"
      ]
     },
     "execution_count": 109,
     "metadata": {},
     "output_type": "execute_result"
    }
   ],
   "source": [
    "input_size = 100\n",
    "hidden_size = 32\n",
    "input_, hidden, hidden2 = gensyms(\"input\", \"hidden\", \"hidden2\")\n",
    "\n",
    "Wh = Indexable(torch.randn(hidden_size, hidden_size))[hidden(), hidden2()]\n",
    "Wi = Indexable(torch.randn(input_size, hidden_size))[input_(), hidden2()]\n",
    "b = Indexable(torch.randn(hidden_size))[hidden2()]\n",
    "h = Indexable(torch.randn(hidden_size))[hidden()]\n",
    "x = Indexable(torch.randn(input_size))[input_()]\n",
    "\n",
    "RNN(x, Wh, Wi, b, h, hidden, input_)"
   ]
  },
  {
   "cell_type": "markdown",
   "metadata": {},
   "source": [
    "### Attention"
   ]
  },
  {
   "cell_type": "code",
   "execution_count": 110,
   "metadata": {},
   "outputs": [],
   "source": [
    "@Operation\n",
    "def Softmax(x: torch.Tensor, ax: Bound, ax2: Bound) -> torch.Tensor:\n",
    "    x = subst(x, {ax: ax2()})\n",
    "    y = x - reduce([ax2], x, torch.logsumexp)\n",
    "    return y.exp()"
   ]
  },
  {
   "cell_type": "markdown",
   "metadata": {},
   "source": [
    "\\begin{aligned}\n",
    "  \\text{Attention} \\colon \\mathbb{R}^{\\mathsf{\\vphantom{fg}key}} \\times \\mathbb{R}^{\\mathsf{\\vphantom{fg}seq}\\times\\mathsf{\\vphantom{fg}key}} \\times \\mathbb{R}^{\\mathsf{\\vphantom{fg}seq}\\times\\mathsf{\\vphantom{fg}val}} \\times \\mathbb{R}^{\\mathsf{\\vphantom{fg}seq}} &\\rightarrow \\mathbb{R}^{\\mathsf{\\vphantom{fg}val}} \\\\\n",
    "\\text{Attention}(Q, K, V, M) &= \\mathop{\\underset{\\substack{\\mathsf{\\vphantom{fg}seq}}}{\\vphantom{fg}\\mathrm{softmax}}} \\left( \\frac{Q \\mathbin{\\underset{\\substack{\\mathsf{\\vphantom{fg}key}}}{\\vphantom{fg}\\odot}} K}{\\sqrt{|\\mathsf{\\vphantom{fg}key}|}} + M \\right) \\mathbin{\\underset{\\substack{\\mathsf{\\vphantom{fg}seq}}}{\\vphantom{fg}\\odot}} V.\n",
    "\\end{aligned}"
   ]
  },
  {
   "cell_type": "code",
   "execution_count": 111,
   "metadata": {},
   "outputs": [],
   "source": [
    "@Operation\n",
    "def Attention(\n",
    "    Q: torch.Tensor,\n",
    "    K: torch.Tensor,\n",
    "    V: torch.Tensor,\n",
    "    M: torch.Tensor,\n",
    "    key: Bound,\n",
    "    seq: Bound,\n",
    "    seq2: Bound,\n",
    ") -> torch.Tensor:\n",
    "    x = reduce([key], Q * K, torch.sum) / sizesof(Q)[key] + M\n",
    "    return reduce([seq], Softmax(x, seq, seq2) * V, torch.sum)"
   ]
  },
  {
   "cell_type": "code",
   "execution_count": 112,
   "metadata": {},
   "outputs": [
    {
     "data": {
      "text/plain": [
       "Indexable(tensor([[0.0127, 0.1222, 0.0344, 0.0174, 0.1486],\n",
       "                  [0.0799, 0.7717, 0.2169, 0.1098, 0.9383],\n",
       "                  [0.0152, 0.1466, 0.0412, 0.0209, 0.1783]]))[seq2(), val()]"
      ]
     },
     "execution_count": 112,
     "metadata": {},
     "output_type": "execute_result"
    }
   ],
   "source": [
    "key_size = 10\n",
    "val_size = 5\n",
    "seq_size = 3\n",
    "\n",
    "key, val, seq, seq2 = gensyms(\"key\", \"val\", \"seq\", \"seq2\")\n",
    "Q = Indexable(torch.randn(key_size))[key()]\n",
    "K = Indexable(torch.randn(key_size, seq_size))[key(), seq()]\n",
    "V = Indexable(torch.randn(seq_size, val_size))[seq(), val()]\n",
    "M = Indexable(torch.randn(seq_size))[seq()]\n",
    "\n",
    "Attention(Q, K, V, M, key, seq, seq2)"
   ]
  },
  {
   "cell_type": "markdown",
   "metadata": {},
   "source": [
    "### Convolution"
   ]
  },
  {
   "cell_type": "markdown",
   "metadata": {},
   "source": [
    "\\begin{aligned}\n",
    "  \\mathop{\\underset{\\substack{\\mathsf{\\vphantom{fg}seq}\\\\ \\mathsf{\\vphantom{fg}kernel}}}{\\vphantom{fg}\\mathrm{unroll}}} \\colon \\mathbb{R}^{\\mathsf{\\vphantom{fg}seq}[n]} &\\rightarrow \\mathbb{R}^{\\mathsf{\\vphantom{fg}seq}[n-|\\mathsf{\\vphantom{fg}kernel}|+1], \\mathsf{\\vphantom{fg}kernel}} \\\\\n",
    "  \\mathop{\\underset{\\substack{\\mathsf{\\vphantom{fg}seq}\\\\ \\mathsf{\\vphantom{fg}kernel}}}{\\vphantom{fg}\\mathrm{unroll}}} X &= Y,\\ \\text{where} \\\\\n",
    "  Y_{\\mathsf{\\vphantom{fg}seq}(i), \\mathsf{\\vphantom{fg}kernel}(j)} &= X_{\\mathsf{\\vphantom{fg}seq}(i+j - 1)}.\n",
    "\\end{aligned}"
   ]
  },
  {
   "cell_type": "code",
   "execution_count": 130,
   "metadata": {},
   "outputs": [],
   "source": [
    "@Operation\n",
    "def Unroll(\n",
    "    x: torch.Tensor, seq: Bound, k: int, kernel: Bound, seq2: Bound\n",
    ") -> torch.Tensor:\n",
    "    return Indexable(to_tensor(x, [seq]).unfold(0, k, 1))[seq2(), kernel()]"
   ]
  },
  {
   "cell_type": "markdown",
   "metadata": {},
   "source": [
    "\\begin{aligned}\n",
    "\\text{Conv1d} \\colon \\mathbb{R}^{\\mathsf{\\vphantom{fg}chans}\\times \\mathsf{\\vphantom{fg}seq}[n]} &\\rightarrow \\mathbb{R}^{\\mathsf{\\vphantom{fg}seq}[n^\\prime]} \\\\\n",
    "\\text{Conv1d}(X; W, b) &= W \\mathbin{\\underset{\\substack{\\mathsf{\\vphantom{fg}chans}\\\\ \\mathsf{\\vphantom{fg}kernel}}}{\\vphantom{fg}\\odot}} \\mathop{\\underset{\\substack{\\mathsf{\\vphantom{fg}seq}\\\\ \\mathsf{\\vphantom{fg}kernel}}}{\\vphantom{fg}\\mathrm{unroll}}} X + b\n",
    "\\end{aligned}"
   ]
  },
  {
   "cell_type": "markdown",
   "metadata": {},
   "source": [
    "\\begin{aligned}\n",
    "W &\\in \\mathbb{R}^{\\mathsf{\\vphantom{fg}chans}\\times \\mathsf{\\vphantom{fg}kernel}} \\\\\n",
    "b &\\in \\mathbb{R}\\\\\n",
    "\\end{aligned}"
   ]
  },
  {
   "cell_type": "code",
   "execution_count": 131,
   "metadata": {},
   "outputs": [],
   "source": [
    "@Operation\n",
    "def Conv1d(\n",
    "    X: torch.Tensor,\n",
    "    W: torch.Tensor,\n",
    "    b: torch.Tensor,\n",
    "    chans: Bound,\n",
    "    k: int,\n",
    "    kernel: Bound,\n",
    "    seq: Bound,\n",
    "    seq2: Bound,\n",
    ") -> torch.Tensor:\n",
    "    y = W * Unroll(X, seq, k, kernel, seq2)\n",
    "    return reduce([chans, kernel], y, torch.sum) + b"
   ]
  },
  {
   "cell_type": "code",
   "execution_count": 132,
   "metadata": {},
   "outputs": [
    {
     "data": {
      "text/plain": [
       "Indexable(tensor([-3.1374,  3.5359, -1.3422,  1.3399, -8.3000, -1.6763,  5.6295, -1.6403]))[seq2()]"
      ]
     },
     "execution_count": 132,
     "metadata": {},
     "output_type": "execute_result"
    }
   ],
   "source": [
    "chans_size = 3\n",
    "seq_size = 10\n",
    "kernel_size = 3\n",
    "\n",
    "chans, kernel, seq, seq2 = gensyms(\"chans\", \"kernel\", \"seq\", \"seq2\")\n",
    "\n",
    "X = Indexable(torch.randn(chans_size, seq_size))[chans(), seq()]\n",
    "W = Indexable(torch.randn(chans_size, kernel_size))[chans(), kernel()]\n",
    "b = torch.randn(tuple())\n",
    "\n",
    "Conv1d(X, W, b, chans, 3, kernel, seq, seq2)"
   ]
  },
  {
   "cell_type": "markdown",
   "metadata": {},
   "source": [
    "$$\n",
    "\\begin{aligned}\n",
    "  \\text{Conv2d} \\colon \\mathbb{R}^{\\mathsf{\\vphantom{fg}chans}\\times \\mathsf{\\vphantom{fg}height}[h] \\times \\mathsf{\\vphantom{fg}width}[w]}\n",
    "  &\\rightarrow \\mathbb{R}^{\\mathsf{\\vphantom{fg}height}[h2] \\times \\mathsf{\\vphantom{fg}width}[w2]} \\\\\n",
    "  \\text{Conv2d}(X; W, b) &= W \\mathbin{\\underset{\\substack{\\mathsf{\\vphantom{fg}chans}\\\\ \\mathsf{\\vphantom{fg}kh}, \\mathsf{\\vphantom{fg}kw}}}{\\vphantom{fg}\\odot}} \\mathop{\\underset{\\substack{\\mathsf{\\vphantom{fg}height}\\\\ \\mathsf{\\vphantom{fg}kh}}}{\\vphantom{fg}\\mathrm{unroll}}} \\mathop{\\underset{\\substack{\\mathsf{\\vphantom{fg}width}\\\\\\mathsf{\\vphantom{fg}kw}}}{\\vphantom{fg}\\mathrm{unroll}}} X + b\\end{aligned}\n",
    "$$"
   ]
  },
  {
   "cell_type": "markdown",
   "metadata": {},
   "source": [
    "$$\n",
    "\\begin{aligned}\n",
    "W &\\in \\mathbb{R}^{\\mathsf{\\vphantom{fg}chans}\\times \\mathsf{\\vphantom{fg}kh}\\times \\mathsf{\\vphantom{fg}kw}} \\\\\n",
    "b &\\in \\mathbb{R}.\n",
    "\\end{aligned}\n",
    "$$"
   ]
  },
  {
   "cell_type": "code",
   "execution_count": 116,
   "metadata": {},
   "outputs": [],
   "source": [
    "@Operation\n",
    "def Conv2d(\n",
    "    X: torch.Tensor,\n",
    "    W: torch.Tensor,\n",
    "    b: torch.Tensor,\n",
    "    chans: Bound,\n",
    "    kh_size: int,\n",
    "    kh: Bound,\n",
    "    height: Bound,\n",
    "    height2: Bound,\n",
    "    kw: Bound,\n",
    "    width: Bound,\n",
    "    width2: Bound,\n",
    ") -> torch.Tensor:\n",
    "    y = W * Unroll(Unroll(X, width, kw_size, kw, width2), height, kh_size, kh, height2)\n",
    "    return reduce([chans, kh, kw], y, torch.sum) + b"
   ]
  },
  {
   "cell_type": "code",
   "execution_count": 117,
   "metadata": {},
   "outputs": [
    {
     "data": {
      "text/plain": [
       "Indexable(tensor([[  8.2551,  -3.6813, -10.3426,  -2.9706,  -2.5484,  -3.7450,   0.2684,\n",
       "                     8.0988],\n",
       "                  [-14.0129,   6.7571,  -0.4884,  -5.4678, -12.0890,  -3.1195,  -5.7605,\n",
       "                   -13.3160],\n",
       "                  [ -0.6627,  -0.7033,  -6.0278,  -2.7052,  -2.6699,   5.0469,  -2.4248,\n",
       "                    -8.7640],\n",
       "                  [  2.4971,   6.5268,   4.0790,  -0.0584,   1.7761, -10.4241,   3.2864,\n",
       "                    -5.5535],\n",
       "                  [ -2.9754, -11.3655, -16.1200,  -5.5068,   8.5963,  12.9700,   8.1375,\n",
       "                     0.3483]]))[width2(), height2()]"
      ]
     },
     "execution_count": 117,
     "metadata": {},
     "output_type": "execute_result"
    }
   ],
   "source": [
    "chans_size = 3\n",
    "kh_size = 3\n",
    "kw_size = 4\n",
    "height_size = 10\n",
    "width_size = 8\n",
    "\n",
    "chans, kh, kw, height, width, height2, width2 = gensyms(\n",
    "    \"chans\", \"kh\", \"kw\", \"height\", \"width\", \"height2\", \"width2\"\n",
    ")\n",
    "\n",
    "X = Indexable(torch.randn(chans_size, height_size, width_size))[\n",
    "    chans(), height(), width()\n",
    "]\n",
    "W = Indexable(torch.randn(chans_size, kh_size, kw_size))[chans(), kh(), kw()]\n",
    "b = torch.randn(tuple())\n",
    "\n",
    "Conv2d(X, W, b, chans, kh_size, kh, height, height2, kw, width, width2)"
   ]
  },
  {
   "cell_type": "markdown",
   "metadata": {},
   "source": [
    "### Max Pooling"
   ]
  },
  {
   "cell_type": "markdown",
   "metadata": {},
   "source": [
    "$$\n",
    "\\begin{aligned}\n",
    "  \\mathop{\\underset{\\substack{\\mathsf{\\vphantom{fg}seq},\\mathsf{\\vphantom{fg}kernel}}}{\\vphantom{fg}\\mathrm{pool}}} \\colon \\mathbb{R}^{\\mathsf{\\vphantom{fg}seq}[n]} &\\rightarrow \\mathbb{R}^{\\mathsf{\\vphantom{fg}seq}[n/|\\mathsf{\\vphantom{fg}kernel}|],\\mathsf{\\vphantom{fg}kernel}} \\\\\n",
    "  \\mathop{\\underset{\\substack{\\mathsf{\\vphantom{fg}seq},\\mathsf{\\vphantom{fg}kernel}}}{\\vphantom{fg}\\mathrm{pool}}} X &= Y,\\ \\text{where} \\\\\n",
    "  Y_{\\mathsf{\\vphantom{fg}seq}(i), \\mathsf{\\vphantom{fg}kernel}(j)} &= X_{\\mathsf{\\vphantom{fg}seq}((i-1) \\cdot |\\mathsf{\\vphantom{fg}kernel}| + j)}.\n",
    "\\end{aligned}\n",
    "$$"
   ]
  },
  {
   "cell_type": "code",
   "execution_count": 118,
   "metadata": {},
   "outputs": [],
   "source": [
    "@Operation\n",
    "def Pool(\n",
    "    x: torch.Tensor, seq: Bound, k: int, kernel: Bound, seq2: Bound\n",
    ") -> torch.Tensor:\n",
    "    xp = to_tensor(x, [seq])\n",
    "    return Indexable(xp.reshape((xp.shape[0] // k, k) + xp.shape[1:]))[seq2(), kernel()]"
   ]
  },
  {
   "cell_type": "code",
   "execution_count": 119,
   "metadata": {},
   "outputs": [
    {
     "data": {
      "text/plain": [
       "Indexable(tensor([[ 1.3453,  0.4969],\n",
       "                  [-0.2328,  1.1193],\n",
       "                  [ 0.8813,  1.4646],\n",
       "                  [ 0.3213, -0.0067],\n",
       "                  [ 1.6483,  2.6870]]))[seq2(), kernel()]"
      ]
     },
     "execution_count": 119,
     "metadata": {},
     "output_type": "execute_result"
    }
   ],
   "source": [
    "seq_size = 10\n",
    "seq, seq2, kernel = gensyms(\"seq\", \"seq2\", \"kernel\")\n",
    "\n",
    "X = Indexable(torch.randn(seq_size))[seq()]\n",
    "Y = Pool(X, seq, 2, kernel, seq2)\n",
    "Y"
   ]
  },
  {
   "cell_type": "markdown",
   "metadata": {},
   "source": [
    "$$\n",
    "\\begin{aligned}\n",
    "\\text{MaxPool1d}_{k} \\colon \\mathbb{R}^{\\mathsf{\\vphantom{fg}seq}[n]} &\\rightarrow \\mathbb{R}^{\\mathsf{\\vphantom{fg}seq}[n/k]} \\\\\n",
    "\\text{MaxPool1d}_{k}(X) &= \\mathop{\\underset{\\substack{\\mathsf{\\vphantom{fg}kernel}}}{\\vphantom{fg}\\mathrm{max}}} \\mathop{\\underset{\\substack{\\mathsf{\\vphantom{fg}seq},\\mathsf{\\vphantom{fg}kernel}}}{\\vphantom{fg}\\mathrm{pool}}} X \\\\\n",
    "|\\mathsf{\\vphantom{fg}kernel}| &= k \\\\\n",
    "\\text{MaxPool2d}_{kh,kw} \\colon \\mathbb{R}^{\\mathsf{\\vphantom{fg}height}[h] \\times \\mathsf{\\vphantom{fg}width}[w]} &\\rightarrow \\mathbb{R}^{\\mathsf{\\vphantom{fg}height}[h/kh] \\times \\mathsf{\\vphantom{fg}width}[w/kw]} \\\\\n",
    "\\text{MaxPool2d}_{kh,kw}(X) &= \\mathop{\\underset{\\substack{\\mathsf{\\vphantom{fg}kh},\\mathsf{\\vphantom{fg}kw}}}{\\vphantom{fg}\\mathrm{max}}} \\mathop{\\underset{\\substack{\\mathsf{\\vphantom{fg}height},\\mathsf{\\vphantom{fg}kh}}}{\\vphantom{fg}\\mathrm{pool}}} \\mathop{\\underset{\\substack{\\mathsf{\\vphantom{fg}width},\\mathsf{\\vphantom{fg}kw}}}{\\vphantom{fg}\\mathrm{pool}}} X \\\\\n",
    "|\\mathsf{\\vphantom{fg}kh}| &= kh \\\\\n",
    "|\\mathsf{\\vphantom{fg}kw}| &= kw.\n",
    "\\end{aligned}\n",
    "$$"
   ]
  },
  {
   "cell_type": "code",
   "execution_count": 120,
   "metadata": {},
   "outputs": [],
   "source": [
    "@Operation\n",
    "def MaxPool1d(\n",
    "    X: torch.Tensor, seq: Bound, k: int, kernel: Bound, seq2: Bound\n",
    ") -> torch.Tensor:\n",
    "    return reduce([kernel], Pool(X, seq, k, kernel, seq2), torch.max)"
   ]
  },
  {
   "cell_type": "code",
   "execution_count": 121,
   "metadata": {},
   "outputs": [
    {
     "data": {
      "text/plain": [
       "Indexable(tensor([[-0.3350],\n",
       "                  [-0.3891],\n",
       "                  [-1.0657],\n",
       "                  [-0.2448],\n",
       "                  [ 0.4492]]))[seq2(), slice(None, None, None)]"
      ]
     },
     "execution_count": 121,
     "metadata": {},
     "output_type": "execute_result"
    }
   ],
   "source": [
    "seq_size = 10\n",
    "\n",
    "seq, seq2, kernel = gensyms(\"seq\", \"seq2\", \"kernel\")\n",
    "\n",
    "X = Indexable(torch.randn(seq_size))[seq()]\n",
    "MaxPool1d(X, seq, 2, kernel, seq2)"
   ]
  },
  {
   "cell_type": "code",
   "execution_count": 122,
   "metadata": {},
   "outputs": [],
   "source": [
    "@Operation\n",
    "def MaxPool2d(\n",
    "    X: torch.Tensor,\n",
    "    height: Bound,\n",
    "    kh_size: int,\n",
    "    kh: Bound,\n",
    "    height2: Bound,\n",
    "    width: Bound,\n",
    "    kw_size: int,\n",
    "    kw: Bound,\n",
    "    width2: Bound,\n",
    ") -> torch.Tensor:\n",
    "    y = Pool(Pool(X, height, kh_size, kh, height2), width, kw_size, kw, width2)\n",
    "    return reduce([kh, kw], y, torch.max)"
   ]
  },
  {
   "cell_type": "code",
   "execution_count": 123,
   "metadata": {},
   "outputs": [
    {
     "data": {
      "text/plain": [
       "Indexable(tensor([[[0.7018],\n",
       "                   [1.3316],\n",
       "                   [1.5385]],\n",
       "          \n",
       "                  [[0.8195],\n",
       "                   [1.7751],\n",
       "                   [0.7409]]]))[height2(), width2(), slice(None, None, None)]"
      ]
     },
     "execution_count": 123,
     "metadata": {},
     "output_type": "execute_result"
    }
   ],
   "source": [
    "width_size = 9\n",
    "height_size = 4\n",
    "\n",
    "width, width2, height, height2, kw, kh = gensyms(\n",
    "    \"width\", \"width2\", \"height\", \"height2\", \"kw\", \"kh\"\n",
    ")\n",
    "\n",
    "X = Indexable(torch.randn(width_size, height_size))[width(), height()]\n",
    "MaxPool2d(X, height, 2, kh, height2, width, 3, kw, width2)"
   ]
  },
  {
   "cell_type": "markdown",
   "metadata": {},
   "source": [
    "### Normalization Layers"
   ]
  },
  {
   "cell_type": "markdown",
   "metadata": {},
   "source": [
    "$$\n",
    "\\begin{aligned}\n",
    "  \\mathop{\\underset{\\substack{\\mathsf{\\vphantom{fg}ax}}}{\\vphantom{fg}\\mathrm{standardize}}} \\colon \\mathbb{R}^{\\mathsf{\\vphantom{fg}ax}} &\\rightarrow \\mathbb{R}^{\\mathsf{\\vphantom{fg}ax}} \\\\\n",
    "  \\mathop{\\underset{\\substack{\\mathsf{\\vphantom{fg}ax}}}{\\vphantom{fg}\\mathrm{standardize}}}(X) &= \\frac{X - \\mathop{\\underset{\\substack{\\mathsf{\\vphantom{fg}ax}}}{\\vphantom{fg}\\mathrm{mean}}}(X)}{\\sqrt{\\mathop{\\underset{\\substack{\\mathsf{\\vphantom{fg}ax}}}{\\vphantom{fg}\\mathrm{var}}}(X) + \\epsilon}}\n",
    "\\end{aligned}\n",
    "$$"
   ]
  },
  {
   "cell_type": "code",
   "execution_count": 124,
   "metadata": {},
   "outputs": [],
   "source": [
    "@Operation\n",
    "def Mean(X: torch.Tensor, ax: Bound) -> torch.Tensor:\n",
    "    return reduce([ax], X, torch.sum) / sizesof(X)[ax]\n",
    "\n",
    "\n",
    "@Operation\n",
    "def Mean2(X: torch.Tensor, ax: Bound, ax2: Bound) -> torch.Tensor:\n",
    "    sizes = sizesof(X)\n",
    "    return reduce([ax, ax2], X, torch.sum) / (sizes[ax] * sizes[ax2])\n",
    "\n",
    "\n",
    "@Operation\n",
    "def Variance(X: torch.Tensor, ax: Bound) -> torch.Tensor:\n",
    "    return Mean((X - Mean(X, ax)) ** 2, ax)\n",
    "\n",
    "\n",
    "@Operation\n",
    "def Variance2(X: torch.Tensor, ax: Bound, ax2: Bound) -> torch.Tensor:\n",
    "    return Mean2((X - Mean2(X, ax, ax2)) ** 2, ax, ax2)\n",
    "\n",
    "\n",
    "@Operation\n",
    "def Standardize(X: torch.Tensor, ax: Bound, new_ax: Bound) -> torch.Tensor:\n",
    "    y = subst(X, {ax: new_ax()})\n",
    "    return (y - Mean(X, ax)) / (Variance(X, ax) + torch.finfo(X.dtype).eps).sqrt()\n",
    "\n",
    "\n",
    "@Operation\n",
    "def Standardize2(\n",
    "    X: torch.Tensor,\n",
    "    ax: Bound,\n",
    "    ax2: Bound,\n",
    "    new_ax: Bound,\n",
    "    new_ax2: Bound,\n",
    ") -> torch.Tensor:\n",
    "    y = subst(X, {ax: new_ax(), ax2: new_ax2()})\n",
    "    return (y - Mean2(X, ax, ax2)) / (\n",
    "        Variance2(X, ax, ax2) + torch.finfo(X.dtype).eps\n",
    "    ).sqrt()"
   ]
  },
  {
   "cell_type": "markdown",
   "metadata": {},
   "source": [
    "$$\n",
    "\\begin{aligned}\n",
    "\\text{BatchNorm}(X; \\gamma, \\beta) &= \\mathop{\\underset{\\substack{\\mathsf{\\vphantom{fg}batch},\\mathsf{\\vphantom{fg}layer}}}{\\vphantom{fg}\\mathrm{standardize}}}(X) \\mathbin{\\underset{\\substack{}}{\\vphantom{fg}\\odot}} \\gamma + \\beta & \\gamma, \\beta &\\in \\mathbb{R}^{\\mathsf{\\vphantom{fg}chans}} \\\\\n",
    "\\text{InstanceNorm}(X; \\gamma, \\beta) &= \\mathop{\\underset{\\substack{\\mathsf{\\vphantom{fg}layer}}}{\\vphantom{fg}\\mathrm{standardize}}}(X) \\mathbin{\\underset{\\substack{}}{\\vphantom{fg}\\odot}} \\gamma + \\beta & \\gamma, \\beta &\\in \\mathbb{R}^{\\mathsf{\\vphantom{fg}chans}} \\\\\n",
    "\\text{LayerNorm}(X; \\gamma, \\beta) &= \\mathop{\\underset{\\substack{\\mathsf{\\vphantom{fg}layer},\\mathsf{\\vphantom{fg}chans}}}{\\vphantom{fg}\\mathrm{standardize}}}(X) \\mathbin{\\underset{\\substack{}}{\\vphantom{fg}\\odot}} \\gamma + \\beta & \\gamma, \\beta &\\in \\mathbb{R}^{\\mathsf{\\vphantom{fg}chans},\\mathsf{\\vphantom{fg}layer}}\n",
    "\\end{aligned}\n",
    "$$"
   ]
  },
  {
   "cell_type": "code",
   "execution_count": 125,
   "metadata": {},
   "outputs": [],
   "source": [
    "@Operation\n",
    "def BatchNorm(\n",
    "    X: torch.Tensor,\n",
    "    gamma: torch.Tensor,\n",
    "    beta: torch.Tensor,\n",
    "    batch: Bound,\n",
    "    layer: Bound,\n",
    "    batch2: Bound,\n",
    "    layer2: Bound,\n",
    ") -> torch.Tensor:\n",
    "    return Standardize2(X, batch, layer, batch2, layer2) * gamma + beta\n",
    "\n",
    "\n",
    "@Operation\n",
    "def InstanceNorm(\n",
    "    X: torch.Tensor,\n",
    "    gamma: torch.Tensor,\n",
    "    beta: torch.Tensor,\n",
    "    layer: Bound,\n",
    "    layer2: Bound,\n",
    ") -> torch.Tensor:\n",
    "    return Standardize(X, layer, layer2) * gamma + beta\n",
    "\n",
    "\n",
    "# same as BatchNorm\n",
    "@Operation\n",
    "def LayerNorm(\n",
    "    X: torch.Tensor,\n",
    "    gamma: torch.Tensor,\n",
    "    beta: torch.Tensor,\n",
    "    chans: Bound,\n",
    "    layer: Bound,\n",
    "    chans2: Bound,\n",
    "    layer2: Bound,\n",
    ") -> torch.Tensor:\n",
    "    return Standardize2(X, chans, layer, chans2, layer2) * gamma + beta"
   ]
  },
  {
   "cell_type": "code",
   "execution_count": 126,
   "metadata": {},
   "outputs": [
    {
     "data": {
      "text/plain": [
       "Indexable(tensor([[[-1.3660e+00, -1.2092e+00, -1.1914e+00, -1.1869e+00, -3.2031e+00],\n",
       "                   [ 4.4035e-01,  2.2923e-01, -2.9452e-01,  4.6736e-01, -5.2524e-04],\n",
       "                   [-2.7548e-01, -2.3009e-01,  9.1457e-01,  3.5616e-02, -8.6602e-01]],\n",
       "          \n",
       "                  [[-1.5035e+00, -4.4308e+00, -2.0138e+00, -1.3974e+00, -2.1422e+00],\n",
       "                   [-3.4515e-02,  4.0153e-01, -4.4831e-02, -4.8727e-03,  2.2006e-01],\n",
       "                   [ 2.4698e-01, -1.9679e-01, -1.7004e-01, -2.1854e-01, -8.8352e-01]],\n",
       "          \n",
       "                  [[-1.3800e+00, -5.0026e+00, -9.1291e-01, -1.0744e+00, -4.3030e-01],\n",
       "                   [ 2.3899e-01,  1.3271e-01,  2.4747e-01,  6.7415e-01,  1.9799e-01],\n",
       "                   [ 4.6958e-01,  4.7553e-01,  1.4773e+00,  4.6914e-01,  5.6096e-01]],\n",
       "          \n",
       "                  [[-3.1203e+00, -2.3236e+00, -9.2935e-01, -3.7449e+00, -5.7545e-01],\n",
       "                   [ 2.4362e-01,  6.4439e-01, -2.1590e-01,  5.2150e-01,  3.0277e-01],\n",
       "                   [ 2.3258e-01, -3.2422e-01, -1.5463e+00, -5.7061e-01, -1.0957e+00]]]))[batch2(), chans(), layer2()]"
      ]
     },
     "execution_count": 126,
     "metadata": {},
     "output_type": "execute_result"
    }
   ],
   "source": [
    "batch_size, chans_size, layer_size = 4, 3, 5\n",
    "batch, batch2, chans, layer, layer2 = gensyms(\n",
    "    \"batch\", \"batch2\", \"chans\", \"layer\", \"layer2\"\n",
    ")\n",
    "\n",
    "x = Indexable(torch.randn(batch_size, chans_size, layer_size))[\n",
    "    batch(), chans(), layer()\n",
    "]\n",
    "g = Indexable(torch.randn(chans_size))[chans()]\n",
    "b = Indexable(torch.randn(chans_size))[chans()]\n",
    "\n",
    "BatchNorm(x, g, b, batch, layer, batch2, layer2)"
   ]
  },
  {
   "cell_type": "markdown",
   "metadata": {},
   "source": [
    "$$\n",
    "\\begin{aligned}\n",
    "\\text{GroupNorm}_k(X; \\gamma, \\beta) &= \\left[ \\mathop{\\underset{\\substack{\\mathsf{\\vphantom{fg}kernel},\\mathsf{\\vphantom{fg}layer}}}{\\vphantom{fg}\\mathrm{standardize}}} \\mathop{\\underset{\\substack{\\mathsf{\\vphantom{fg}chans}, \\mathsf{\\vphantom{fg}kernel}}}{\\vphantom{fg}\\mathrm{pool}}} X \\right]_{(\\mathsf{\\vphantom{fg}chans},\\mathsf{\\vphantom{fg}kernel})\\rightarrow \\mathsf{\\vphantom{fg}chans}} \\mathbin{\\underset{\\substack{}}{\\vphantom{fg}\\odot}} \\gamma + \\beta \\\\\n",
    "\\end{aligned}\n",
    "$$"
   ]
  },
  {
   "cell_type": "markdown",
   "metadata": {},
   "source": [
    "$$\n",
    "\\begin{aligned}\n",
    "|\\mathsf{\\vphantom{fg}kernel}| &= k\\\\\n",
    "\\gamma, \\beta &\\in \\mathbb{R}^{\\mathsf{\\vphantom{fg}chans}}.\n",
    "\\end{aligned}\n",
    "$$"
   ]
  },
  {
   "cell_type": "markdown",
   "metadata": {},
   "source": [
    "### Transformer"
   ]
  },
  {
   "cell_type": "markdown",
   "metadata": {},
   "source": [
    "$$\n",
    "\\begin{aligned}\n",
    "  I &\\in \\{0, 1\\}^{\\mathsf{\\vphantom{fg}seq}\\times \\mathsf{\\vphantom{fg}vocab}} & \\sum\\limits_{\\substack{\\mathsf{\\vphantom{fg}vocab}}} I &= 1 \\\\\n",
    "  W &= (E \\mathbin{\\underset{\\substack{\\mathsf{\\vphantom{fg}vocab}}}{\\vphantom{fg}\\odot}} I)\\sqrt{|\\mathsf{\\vphantom{fg}layer}|} & E &\\in \\mathbb{R}^{\\mathsf{\\vphantom{fg}vocab}\\times \\mathsf{\\vphantom{fg}layer}} \\\\\n",
    "  P &\\in \\mathbb{R}^{\\mathsf{\\vphantom{fg}seq}\\times \\mathsf{\\vphantom{fg}layer}} \\\\\n",
    "  P_{\\mathsf{\\vphantom{fg}seq}(p), \\mathsf{\\vphantom{fg}layer}(i)} &= \\begin{cases}\n",
    "    \\sin((p-1) / 10000^{(i-1) / |\\mathsf{\\vphantom{fg}layer}|}) & \\text{$i$ odd} \\\\ \n",
    "    \\cos((p-1) / 10000^{(i-2) / |\\mathsf{\\vphantom{fg}layer}|}) & \\text{$i$ even.}\n",
    "  \\end{cases}\n",
    "\\end{aligned}\n",
    "$$"
   ]
  },
  {
   "cell_type": "markdown",
   "metadata": {},
   "source": [
    "$$\n",
    "\\begin{aligned}\n",
    "X^0 &= W+P \\\\\n",
    "T^1 &= \\text{LayerNorm}^1(\\text{SelfAtt}^1(X^0)) + X^0\\\\\n",
    "X^1 &= \\text{LayerNorm}^{1^\\prime}(\\text{FFN}^1(T^1)) + T^1\\\\\n",
    "&\\vdotswithin{=} \\\\\n",
    "T^{L} &= \\text{LayerNorm}^L(\\text{SelfAtt}^L(X^{L-1})) + X^{L-1}\\\\\n",
    "X^{L} &= \\text{LayerNorm}^{L^\\prime}(\\text{FFN}^L(T^L)) + T^L\\\\\n",
    "O &= \\mathop{\\underset{\\substack{\\mathsf{\\vphantom{fg}vocab}}}{\\vphantom{fg}\\mathrm{softmax}}}(E \\mathbin{\\underset{\\substack{\\mathsf{\\vphantom{fg}layer}}}{\\vphantom{fg}\\odot}} X^L)\n",
    "\\end{aligned}\n",
    "$$"
   ]
  },
  {
   "cell_type": "markdown",
   "metadata": {},
   "source": [
    "$$\n",
    "\\begin{aligned}\n",
    "  \\text{LayerNorm}^l \\colon \\mathbb{R}^{\\mathsf{\\vphantom{fg}layer}} &\\rightarrow \\mathbb{R}^{\\mathsf{\\vphantom{fg}layer}} \\\\\n",
    "  \\text{LayerNorm}^l(X) &= \\mathop{\\underset{\\substack{\\mathsf{\\vphantom{fg}layer}}}{\\vphantom{fg}\\mathrm{XNorm}}}(X; \\beta^l, \\gamma^l).\n",
    "\\end{aligned}\n",
    "$$"
   ]
  },
  {
   "cell_type": "markdown",
   "metadata": {},
   "source": [
    "$$\n",
    "\\begin{aligned}\n",
    "  \\text{SelfAtt}^l \\colon \\mathbb{R}^{\\mathsf{\\vphantom{fg}seq}\\times \\mathsf{\\vphantom{fg}layer}} &\\rightarrow \\mathbb{R}^{\\mathsf{\\vphantom{fg}seq}\\times \\mathsf{\\vphantom{fg}layer}} \\\\\n",
    "  \\text{SelfAtt}^l(X) &= Y\n",
    "\\end{aligned}\n",
    "$$"
   ]
  },
  {
   "cell_type": "markdown",
   "metadata": {},
   "source": [
    "$$\n",
    "\\begin{aligned}\n",
    "  |\\mathsf{\\vphantom{fg}seq}| &= |\\mathsf{\\vphantom{fg}seq2}| \\\\\n",
    "  |\\mathsf{\\vphantom{fg}key}| = |\\mathsf{\\vphantom{fg}val}| &= |\\mathsf{\\vphantom{fg}layer}|/|\\mathsf{\\vphantom{fg}heads}| \\\\\n",
    "  Q &= W^{l,Q} \\mathbin{\\underset{\\substack{\\mathsf{\\vphantom{fg}layer}}}{\\vphantom{fg}\\odot}} X_{\\mathsf{\\vphantom{fg}seq}\\rightarrow\\mathsf{\\vphantom{fg}seq2}} & W^{l,Q} &\\in \\mathbb{R}^{\\mathsf{\\vphantom{fg}heads}\\times \\mathsf{\\vphantom{fg}layer}\\times \\mathsf{\\vphantom{fg}key}} \\\\\n",
    "  K &= W^{l,K} \\mathbin{\\underset{\\substack{\\mathsf{\\vphantom{fg}layer}}}{\\vphantom{fg}\\odot}} X & W^{l,K} &\\in \\mathbb{R}^{\\mathsf{\\vphantom{fg}heads}\\times \\mathsf{\\vphantom{fg}layer}\\times \\mathsf{\\vphantom{fg}key}} \\\\\n",
    "  V &= W^{l,V} \\mathbin{\\underset{\\substack{\\mathsf{\\vphantom{fg}layer}}}{\\vphantom{fg}\\odot}} X & W^{l,V} &\\in \\mathbb{R}^{\\mathsf{\\vphantom{fg}heads}\\times \\mathsf{\\vphantom{fg}layer}\\times \\mathsf{\\vphantom{fg}val}} \\\\\n",
    "  M & \\in \\mathbb{R}^{\\mathsf{\\vphantom{fg}seq}\\times \\mathsf{\\vphantom{fg}seq2}} \\\\\n",
    "  M_{\\mathsf{\\vphantom{fg}seq}(i), \\mathsf{\\vphantom{fg}seq2}(j)} &= \\begin{cases}\n",
    "    0 & i \\leq j\\\\\n",
    "    -\\infty & \\text{otherwise}\n",
    "  \\end{cases} \\\\\n",
    "  Y &= W^{l,O} \\mathbin{\\underset{\\substack{\\mathsf{\\vphantom{fg}heads}\\\\ \\mathsf{\\vphantom{fg}val}}}{\\vphantom{fg}\\odot}} \\text{Attention}(Q, K, V, M)_{\\mathsf{\\vphantom{fg}seq2}\\rightarrow\\mathsf{\\vphantom{fg}seq}} & W^{l,O} &\\in \\mathbb{R}^{\\mathsf{\\vphantom{fg}heads}\\times \\mathsf{\\vphantom{fg}val}\\times \\mathsf{\\vphantom{fg}layer}}\n",
    "\\end{aligned}\n",
    "$$"
   ]
  },
  {
   "cell_type": "markdown",
   "metadata": {},
   "source": [
    "$$\n",
    "\\begin{aligned}\n",
    "  \\text{FFN}^l \\colon \\mathbb{R}^{\\mathsf{\\vphantom{fg}layer}} &\\rightarrow \\mathbb{R}^{\\mathsf{\\vphantom{fg}layer}} \\\\\n",
    "  \\text{FFN}^l(X) &= X^2\n",
    "\\end{aligned}\n",
    "$$"
   ]
  },
  {
   "cell_type": "markdown",
   "metadata": {},
   "source": [
    "$$\n",
    "\\begin{aligned}\n",
    "  X^1 &= \\text{relu}(W^{l,1} \\mathbin{\\underset{\\substack{\\mathsf{\\vphantom{fg}layer}}}{\\vphantom{fg}\\odot}} X + b^{l,1}) & W^{l,1} &\\in \\mathbb{R}^{\\mathsf{\\vphantom{fg}hidden}\\times \\mathsf{\\vphantom{fg}layer}} & b^{l,1} &\\in \\mathbb{R}^{\\mathsf{\\vphantom{fg}hidden}} \\\\\n",
    "  X^2 &= \\text{relu}(W^{l,2} \\mathbin{\\underset{\\substack{\\mathsf{\\vphantom{fg}hidden}}}{\\vphantom{fg}\\odot}} X^1 + b^{l,2}) & W^{l,2} &\\in \\mathbb{R}^{\\mathsf{\\vphantom{fg}layer}\\times \\mathsf{\\vphantom{fg}hidden}} & b^{l,2} &\\in \\mathbb{R}^{\\mathsf{\\vphantom{fg}hidden}}.\n",
    "\\end{aligned}\n",
    "$$"
   ]
  },
  {
   "cell_type": "markdown",
   "metadata": {},
   "source": [
    "### LeNet"
   ]
  },
  {
   "cell_type": "markdown",
   "metadata": {},
   "source": [
    "$$\n",
    "\\begin{aligned}\n",
    "X^0 &\\in \\mathbb{R}^{\\mathsf{\\vphantom{fg}batch}\\times \\mathsf{\\vphantom{fg}chans}[c_0] \\times \\mathsf{\\vphantom{fg}height}\\times \\mathsf{\\vphantom{fg}width}} \\\\\n",
    "T^1 &= \\text{relu}(\\text{Conv}^1(X^0)) \\\\\n",
    "X^1 &= \\text{MaxPool}^1(T^1) \\\\\n",
    "T^2 &= \\text{relu}(\\text{Conv}^2(X^1)) \\\\\n",
    "X^2 &= \\text{MaxPool}^2(T^2)_{(\\mathsf{\\vphantom{fg}height},\\mathsf{\\vphantom{fg}width},\\mathsf{\\vphantom{fg}chans})\\rightarrow\\mathsf{\\vphantom{fg}layer}} \\\\\n",
    "X^3 &= \\text{relu}(W^3 \\mathbin{\\underset{\\substack{\\mathsf{\\vphantom{fg}layer}}}{\\vphantom{fg}\\odot}} X^2 + b^3) & W^3 &\\in \\mathbb{R}^{\\mathsf{\\vphantom{fg}hidden}\\times \\mathsf{\\vphantom{fg}layer}} & b^3 &\\in \\mathbb{R}^{\\mathsf{\\vphantom{fg}hidden}} \\\\\n",
    "O &= \\mathop{\\underset{\\substack{\\mathsf{\\vphantom{fg}classes}}}{\\vphantom{fg}\\mathrm{softmax}}} (W^4 \\mathbin{\\underset{\\substack{\\mathsf{\\vphantom{fg}hidden}}}{\\vphantom{fg}\\odot}} X^3 + b^4) & W^4 &\\in \\mathbb{R}^{\\mathsf{\\vphantom{fg}classes}\\times \\mathsf{\\vphantom{fg}hidden}} & b^4 &\\in \\mathbb{R}^{\\mathsf{\\vphantom{fg}classes}}\\end{aligned}\n",
    "$$"
   ]
  },
  {
   "cell_type": "markdown",
   "metadata": {},
   "source": [
    "$$\n",
    "\\begin{aligned}\n",
    "X^2 &= \\text{MaxPool}^2(T^2) \\\\\n",
    "X^3 &= \\text{relu}(W^3 \\mathbin{\\underset{\\substack{\\mathsf{\\vphantom{fg}height}\\\\ \\mathsf{\\vphantom{fg}width}\\\\ \\mathsf{\\vphantom{fg}chans}}}{\\vphantom{fg}\\odot}} X^2 + b^3) & W^3 &\\in \\mathbb{R}^{\\mathsf{\\vphantom{fg}hidden}\\times \\mathsf{\\vphantom{fg}height}\\times \\mathsf{\\vphantom{fg}width}\\times \\mathsf{\\vphantom{fg}chans}}.\n",
    "\\end{aligned}\n",
    "$$"
   ]
  },
  {
   "cell_type": "markdown",
   "metadata": {},
   "source": [
    "$$\n",
    "\\begin{aligned}\n",
    "\\text{Conv}^l(X) &= \\text{Conv2d}(X; W^l, b^l)_{\\mathsf{\\vphantom{fg}chans2}\\rightarrow\\mathsf{\\vphantom{fg}chans}}\n",
    "\\end{aligned}\n",
    "$$"
   ]
  },
  {
   "cell_type": "markdown",
   "metadata": {},
   "source": [
    "$$\n",
    "\\begin{aligned}\n",
    "W^l & \\in \\mathbb{R}^{\\mathsf{\\vphantom{fg}chans2}[c_l] \\times \\mathsf{\\vphantom{fg}chans}[c_{l-1}] \\times \\mathsf{\\vphantom{fg}kh}[kh_l] \\times \\mathsf{\\vphantom{fg}kw}[kw_l]} \\\\\n",
    "b^l &\\in \\mathbb{R}^{\\mathsf{\\vphantom{fg}chans2}[c_l]}\n",
    "\\end{aligned}\n",
    "$$"
   ]
  },
  {
   "cell_type": "markdown",
   "metadata": {},
   "source": [
    "$$\n",
    "\\begin{aligned}\n",
    "\\text{MaxPool}^l(X) &amp;= \\text{MaxPool2d}_{ph^l,ph^l}(X).\n",
    "\\end{aligned}\n",
    "$$"
   ]
  },
  {
   "cell_type": "code",
   "execution_count": 127,
   "metadata": {},
   "outputs": [],
   "source": [
    "@Operation\n",
    "def Relu(X: torch.Tensor) -> torch.Tensor:\n",
    "    return torch.maximum(X, torch.tensor(0))"
   ]
  },
  {
   "cell_type": "code",
   "execution_count": 128,
   "metadata": {},
   "outputs": [
    {
     "data": {
      "text/plain": [
       "Indexable(tensor([[[0.0000, 0.0000, 0.0000, 0.0000, 0.4903],\n",
       "                   [1.0049, 0.3939, 0.0000, 1.0830, 0.0000],\n",
       "                   [0.0466, 0.0044, 0.0000, 0.0000, 0.5950]],\n",
       "          \n",
       "                  [[0.0000, 1.1864, 0.0000, 0.0000, 0.0000],\n",
       "                   [0.0000, 0.8925, 0.0000, 0.0000, 0.3674],\n",
       "                   [0.0000, 0.0000, 0.0000, 0.0000, 0.6112]],\n",
       "          \n",
       "                  [[0.0000, 1.5107, 0.0000, 0.0000, 0.0000],\n",
       "                   [0.4221, 0.1146, 0.4467, 1.6815, 0.3035],\n",
       "                   [0.0000, 0.0000, 0.0000, 0.0000, 0.0000]],\n",
       "          \n",
       "                  [[0.4434, 0.0000, 0.0000, 0.7975, 0.0000],\n",
       "                   [0.4355, 1.5954, 0.0000, 1.2397, 0.6067],\n",
       "                   [0.0000, 0.0918, 1.2267, 0.3206, 0.8082]]]))[batch(), chans(), layer()]"
      ]
     },
     "execution_count": 128,
     "metadata": {},
     "output_type": "execute_result"
    }
   ],
   "source": [
    "Relu(x)"
   ]
  },
  {
   "cell_type": "code",
   "execution_count": 129,
   "metadata": {},
   "outputs": [
    {
     "data": {
      "text/plain": [
       "Indexable(tensor([[[4.0487e-28],\n",
       "                   [1.5080e-13],\n",
       "                   [0.0000e+00],\n",
       "                   [1.0000e+00]],\n",
       "          \n",
       "                  [[1.0000e+00],\n",
       "                   [1.0000e+00],\n",
       "                   [1.0000e+00],\n",
       "                   [3.9901e-34]],\n",
       "          \n",
       "                  [[2.7085e-17],\n",
       "                   [5.3837e-24],\n",
       "                   [1.3339e-36],\n",
       "                   [0.0000e+00]],\n",
       "          \n",
       "                  [[2.7742e-33],\n",
       "                   [5.2604e-33],\n",
       "                   [0.0000e+00],\n",
       "                   [0.0000e+00]],\n",
       "          \n",
       "                  [[1.6050e-17],\n",
       "                   [3.8066e-11],\n",
       "                   [0.0000e+00],\n",
       "                   [1.6255e-43]]]))[classes2(), batch(), slice(None, None, None)]"
      ]
     },
     "execution_count": 129,
     "metadata": {},
     "output_type": "execute_result"
    }
   ],
   "source": [
    "(\n",
    "    chans_size,\n",
    "    kh_size,\n",
    "    kw_size,\n",
    "    hidden_size,\n",
    "    height_size,\n",
    "    width_size,\n",
    "    classes_size,\n",
    "    batch_size,\n",
    ") = (3, 3, 4, 3, 14, 15, 5, 4)\n",
    "(\n",
    "    chans,\n",
    "    chans2,\n",
    "    kh,\n",
    "    kw,\n",
    "    height,\n",
    "    height2,\n",
    "    height3,\n",
    "    width,\n",
    "    width2,\n",
    "    width3,\n",
    "    hidden,\n",
    "    classes,\n",
    "    classes2,\n",
    "    batch,\n",
    ") = gensyms(\n",
    "    \"chans\",\n",
    "    \"chans2\",\n",
    "    \"kh\",\n",
    "    \"kw\",\n",
    "    \"height\",\n",
    "    \"height2\",\n",
    "    \"height3\",\n",
    "    \"width\",\n",
    "    \"width2\",\n",
    "    \"width3\",\n",
    "    \"hidden\",\n",
    "    \"classes\",\n",
    "    \"classes2\",\n",
    "    \"batch\",\n",
    ")\n",
    "\n",
    "W1 = Indexable(torch.randn(chans_size, kh_size, kw_size, chans_size))[\n",
    "    chans(), kh(), kw(), chans2()\n",
    "]\n",
    "b1 = Indexable(torch.randn(chans_size))[chans2()]\n",
    "W3 = Indexable(torch.randn(hidden_size, 4, 4, chans_size))[\n",
    "    hidden(), height3(), width3(), chans2()\n",
    "]\n",
    "b3 = Indexable(torch.randn(hidden_size))[hidden()]\n",
    "W4 = Indexable(torch.randn(hidden_size, classes_size))[hidden(), classes()]\n",
    "b4 = Indexable(torch.randn(classes_size))[classes()]\n",
    "X0 = Indexable(torch.randn(batch_size, chans_size, height_size, width_size))[\n",
    "    batch(), chans(), height(), width()\n",
    "]\n",
    "\n",
    "T1 = Relu(Conv2d(X0, W1, b1, chans, kh_size, kh, height, height2, kw, width, width2))\n",
    "X1 = MaxPool2d(T1, height2, 3, kh, height3, width2, 3, kw, width3)\n",
    "X3 = reduce([height3, width3, chans2], W3 * X1, torch.sum) + b3\n",
    "O = Softmax(reduce([hidden], W4 * X3, torch.sum) + b4, classes, classes2)\n",
    "O"
   ]
  },
  {
   "cell_type": "code",
   "execution_count": null,
   "metadata": {},
   "outputs": [],
   "source": []
  }
 ],
 "metadata": {
  "hide_input": false,
  "kernelspec": {
   "display_name": "Python 3 (ipykernel)",
   "language": "python",
   "name": "python3"
  },
  "language_info": {
   "codemirror_mode": {
    "name": "ipython",
    "version": 3
   },
   "file_extension": ".py",
   "mimetype": "text/x-python",
   "name": "python",
   "nbconvert_exporter": "python",
   "pygments_lexer": "ipython3",
   "version": "3.12.7"
  },
  "toc": {
   "base_numbering": 1,
   "nav_menu": {},
   "number_sections": true,
   "sideBar": true,
   "skip_h1_title": false,
   "title_cell": "Table of Contents",
   "title_sidebar": "Contents",
   "toc_cell": false,
   "toc_position": {},
   "toc_section_display": true,
   "toc_window_display": false
  }
 },
 "nbformat": 4,
 "nbformat_minor": 4
}
