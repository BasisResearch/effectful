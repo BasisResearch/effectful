{
 "cells": [
  {
   "cell_type": "markdown",
   "id": "bbd0f836",
   "metadata": {
    "cell_marker": "\"\"\"",
    "lines_to_next_cell": 2
   },
   "source": [
    "# Introducing Effectful\n",
    "\n",
    "This document introduces *Effectful*, an effect system embedded in python,\n",
    "designed for building composable and extensible software systems.\n",
    "\n",
    "The key notions behind all effect systems are those of syntax and semantics,\n",
    "where syntax is the text you write on the page, and the semantics is the rules\n",
    "which give meaning to the text. Effectful lets you write these parts seperately,\n",
    "building them up as the program grows."
   ]
  },
  {
   "cell_type": "code",
   "execution_count": 1,
   "id": "5278fd54",
   "metadata": {},
   "outputs": [],
   "source": [
    "from numbers import Number\n",
    "\n",
    "from effectful.ops.core import Operation, Symbol, Term, Variable\n",
    "from effectful.ops.handler import coproduct, fwd, handler\n",
    "\n",
    "\n",
    "def fails(fn, raising=BaseException):\n",
    "    \"\"\"\n",
    "    Ensures that `fn` raises an expected exception.\n",
    "    If `fn` raises an exception matching `raising`, returns `None`.\n",
    "    If `fn` raises an exception not matching `raising`, raises a `RuntimeError`\n",
    "    If `fn` doesn't raise an exceptions, raises a `RuntimeError`.\n",
    "    \"\"\"\n",
    "    try:\n",
    "        fn()\n",
    "        raise RuntimeError(f\"{fn} should have failed, but didn't\")\n",
    "    except BaseException as e:\n",
    "        if not isinstance(e, raising):\n",
    "            raise RuntimeError(f\"{fn} failed, but raised {e} instead of a {raising}\")"
   ]
  },
  {
   "cell_type": "markdown",
   "id": "6909fd47",
   "metadata": {
    "cell_marker": "\"\"\""
   },
   "source": [
    "## Part 1: Adding Two Numbers\n",
    "\n",
    "We can start by defining some syntax. In Effectful, we define syntax in terms\n",
    "of `Operator`s, which can be used like functions.\n",
    "The following defines an `add` operation of two arguments, as well as a small\n",
    "test which verifies that our new operator handles numbers as we would expect."
   ]
  },
  {
   "cell_type": "code",
   "id": "3c575e02",
   "execution_count": 2,
   "metadata": {
    "lines_to_next_cell": 2
   },
   "outputs": [],
   "source": [
    "@Operation\n",
    "def add(left, right):\n",
    "    raise NotImplementedError\n",
    "\n",
    "\n",
    "def test_adding_two_numbers():\n",
    "    assert add(1, 3) == add(2, 2)\n",
    "\n",
    "\n",
    "fails(test_adding_two_numbers, raising=NotImplementedError)"
   ]
  },
  {
   "cell_type": "markdown",
   "id": "fee9abf4",
   "metadata": {
    "cell_marker": "\"\"\""
   },
   "source": [
    "Our test currently fails, as there is no semantics given to the `add` syntax.\n",
    "In Effectful, all operations have a \"default\" semantics, a snippet of code\n",
    "which is run if the operation is called without an installed semantics.\n",
    "This code generally either throws an error or returns a `None` value.\n",
    "\n",
    "Now that we have our syntax, what should our semantics look like?\n",
    "In Effectful, the semantics of an operator is just a function with the same\n",
    "call signature as that operator. Here's a first pass:"
   ]
  },
  {
   "cell_type": "code",
   "execution_count": 3,
   "id": "6e293b33",
   "metadata": {},
   "outputs": [],
   "source": [
    "def add_using_plus(left, right):\n",
    "    return left + right"
   ]
  },
  {
   "cell_type": "markdown",
   "id": "fa2433ca",
   "metadata": {
    "cell_marker": "\"\"\""
   },
   "source": [
    "That seems like a rather natural semantics for addition.\n",
    "How do we associate it with our syntax?\n",
    "\n",
    "To do this, we use the `handler` keyword, as follows:"
   ]
  },
  {
   "cell_type": "code",
   "execution_count": 4,
   "id": "c783d330",
   "metadata": {},
   "outputs": [],
   "source": [
    "with handler({add: add_using_plus}):\n",
    "    test_adding_two_numbers()"
   ]
  },
  {
   "cell_type": "markdown",
   "id": "01309b67",
   "metadata": {
    "cell_marker": "\"\"\""
   },
   "source": [
    "Now our test passes without issue - we've defined a piece of syntax\n",
    "(the `Operation` called `add`) and given it a semantics\n",
    "(the function `add_using_plus`). The semantics only applies within the\n",
    "scope of the `with` block it's used in, as with other `ContextManager`s.\n",
    "\n",
    "A small bit of jargon: the `handler` function, as used before, takes as\n",
    "its argumnet a `Mapping` from `Operation`s to `Callable` objects with the\n",
    "same signature. This `Mapping` is called an `Interpretation`, and is a first\n",
    "class value (it's just a dictionary)"
   ]
  },
  {
   "cell_type": "markdown",
   "id": "8e9ac90c",
   "metadata": {
    "cell_marker": "\"\"\""
   },
   "source": [
    "## Part 2: Partially Static Data\n",
    "\n",
    "By defining the syntax and semantics of the `add` operation separately, we've\n",
    "already gained quite a bit of power. Let's see how we can extend our function to\n",
    "new domains:"
   ]
  },
  {
   "cell_type": "code",
   "execution_count": 5,
   "id": "84658724",
   "metadata": {},
   "outputs": [],
   "source": [
    "x = Variable(Symbol(\"x\"), int)\n",
    "\n",
    "\n",
    "def test_adding_a_variable():\n",
    "    assert add(x, 2) == add(x, 2)\n",
    "\n",
    "\n",
    "fails(test_adding_a_variable, raising=NotImplementedError)\n",
    "\n",
    "with handler({add: add_using_plus}):\n",
    "    fails(test_adding_a_variable, raising=TypeError)"
   ]
  },
  {
   "cell_type": "markdown",
   "id": "1cad505f",
   "metadata": {
    "cell_marker": "\"\"\""
   },
   "source": [
    "The `Variable` class is used to represent meta-language variables - any value\n",
    "we don't happen to know at the moment. Internally it is just represented as a\n",
    "record type.\n",
    "\n",
    "We've defined an instance of `Variable`, along with a new test, which calls\n",
    "`add` on that instance. How should we deal with this? What we would like is a\n",
    "[free object](https://en.wikipedia.org/wiki/Free_object), a symbolic reification\n",
    "of the operation we wish to perform. In Effectful, this is called a `Term`:"
   ]
  },
  {
   "cell_type": "code",
   "execution_count": 6,
   "id": "2ab082d8",
   "metadata": {},
   "outputs": [],
   "source": [
    "def free_add(left, right):\n",
    "    return Term(add, (left, right), {})"
   ]
  },
  {
   "cell_type": "markdown",
   "id": "157705be",
   "metadata": {
    "cell_marker": "\"\"\""
   },
   "source": [
    "Here, `free_add` just returns a `Term` representing the call to `add` itself.\n",
    "Like `Variable`, `Term` is just a record type. It takes an operation, a tuple of\n",
    "variadic arguments and a dictionary of keyword arguments.\n",
    "\n",
    "We can install this as a semantics for the `add` operation, which would allow our\n",
    "new test to pass:"
   ]
  },
  {
   "cell_type": "code",
   "execution_count": 7,
   "id": "b66dd892",
   "metadata": {},
   "outputs": [],
   "source": [
    "with handler({add: free_add}):\n",
    "    test_adding_a_variable()\n",
    "    fails(test_adding_two_numbers, raising=AssertionError)"
   ]
  },
  {
   "cell_type": "markdown",
   "id": "4141534a",
   "metadata": {
    "cell_marker": "\"\"\""
   },
   "source": [
    "As the above test shows, we know that free addition works for variables, but it\n",
    "doesn't work when adding two numbers: Syntactically, `\"1 + 3\" != \"2 + 2\"`.\n",
    "\n",
    "What we'd like to do is combine them. We could try to do something like that by\n",
    "hand:"
   ]
  },
  {
   "cell_type": "code",
   "execution_count": 8,
   "id": "8c5036f2",
   "metadata": {},
   "outputs": [],
   "source": [
    "def hand_mixed_add(left, right):\n",
    "    if isinstance(left, int) and isinstance(right, int):\n",
    "        return add_using_plus(left, right)\n",
    "    else:\n",
    "        return free_add(left, right)"
   ]
  },
  {
   "cell_type": "markdown",
   "id": "160546d9",
   "metadata": {
    "cell_marker": "\"\"\""
   },
   "source": [
    "This works, but we wouldn't like to have to define this combination by hand.\n",
    "We'd like to define an *open handler*, a semantics for a program which can\n",
    "perform some computation or optionally defer to another semantics.\n",
    "\n",
    "To do this in Effectful, we can modify our semantics to use the `fwd` keyword:"
   ]
  },
  {
   "cell_type": "code",
   "execution_count": 9,
   "id": "135ce537",
   "metadata": {},
   "outputs": [],
   "source": [
    "def eager_add(left, right):\n",
    "    if isinstance(left, int) and isinstance(right, int):\n",
    "        return add_using_plus(left, right)\n",
    "    else:\n",
    "        return fwd(None)"
   ]
  },
  {
   "cell_type": "markdown",
   "id": "d11ce8c5",
   "metadata": {
    "cell_marker": "\"\"\""
   },
   "source": [
    "The `fwd(None)` call defers execution to an outer interpretation, carrying\n",
    "along the arguments recieved by the original call. We can combine this open handler\n",
    "with an outer handler using the `coproduct` keyword:"
   ]
  },
  {
   "cell_type": "code",
   "execution_count": 10,
   "id": "dc3e0dd5",
   "metadata": {},
   "outputs": [],
   "source": [
    "mixed = coproduct({add: free_add}, {add: eager_add})\n",
    "\n",
    "with handler(mixed):\n",
    "    test_adding_two_numbers()\n",
    "    test_adding_a_variable()"
   ]
  },
  {
   "cell_type": "markdown",
   "id": "06da761e",
   "metadata": {
    "cell_marker": "\"\"\""
   },
   "source": [
    "This is how we build larger applications in Effectful:\n",
    "each interpretation composes with the last, adding information\n",
    "and computational ability, much like an object-oriented program."
   ]
  },
  {
   "cell_type": "markdown",
   "id": "724d7619",
   "metadata": {
    "cell_marker": "\"\"\"",
    "lines_to_next_cell": 2
   },
   "source": [
    "## Part 3: Commutative Semigroups\n",
    "\n",
    "We've seen how to define syntax using `Operation`s,\n",
    "define and install semantics using `handler`, and \n",
    "combine semantics together using `coproduct` and `fwd`.\n",
    "\n",
    "However, these are not helpful for performing more complex traversals,\n",
    "such as rewriting a value into normal form. Consider the following\n",
    "example:"
   ]
  },
  {
   "cell_type": "code",
   "execution_count": 11,
   "id": "5eb9ece5",
   "metadata": {
    "lines_to_next_cell": 2
   },
   "outputs": [],
   "source": [
    "y = Variable(Symbol(\"y\"), int)\n",
    "\n",
    "\n",
    "def test_mixed_together():\n",
    "    assert add(add(x, 2), add(2, y)) == add(y, add(add(3, x), 1))\n",
    "\n",
    "\n",
    "fails(test_mixed_together, raising=NotImplementedError)\n",
    "\n",
    "with handler(mixed):\n",
    "    fails(test_mixed_together, raising=AssertionError)"
   ]
  },
  {
   "cell_type": "markdown",
   "id": "f741459b",
   "metadata": {
    "cell_marker": "\"\"\""
   },
   "source": [
    "Some back-of-the-napkin math tells us that these are equivalent expressions,\n",
    "but how do we convince Effectful of that fact?\n",
    "We'd like to introduce some algebraic laws to the mix."
   ]
  },
  {
   "cell_type": "markdown",
   "id": "e67ecd0a",
   "metadata": {
    "lines_to_next_cell": 2
   },
   "source": [
    "Specifically, $\\forall x, y, z \\in \\mathbb{N}$:\n",
    "- `add` is commutative: $y + x \\equiv x + y$\n",
    "- `add` is associative: $x + (y + z) = (x + y) + z$\n",
    "\n",
    "These laws can translated into rewrite rules:\n",
    "\n",
    "- lexicographically order variables: $y + x \\Rightarrow x + y$\n",
    "- left-shift parenthesis: $x + (y + z) \\Rightarrow (x + y) + z$\n",
    "- order variables over parenthesis: $(a + y) + x \\Rightarrow (a + x) + y$"
   ]
  },
  {
   "cell_type": "code",
   "execution_count": 12,
   "id": "7e789b2d",
   "metadata": {},
   "outputs": [],
   "source": [
    "# These two lines are required because of a bug in `_overloadmeta`,\n",
    "# see github issue #47\n",
    "Var = type(Variable(Symbol(\"x\"), int))\n",
    "Trm = type(Term(add, (x, x), {}))\n",
    "\n",
    "\n",
    "def commutative_add(left, right):\n",
    "    if not isinstance(left, Number) and isinstance(right, Number):\n",
    "        return add(right, left)\n",
    "    if isinstance(left, Var) and isinstance(right, Var):\n",
    "        lname = left.symbol.name\n",
    "        rname = right.symbol.name\n",
    "        if lname > rname:\n",
    "            return add(right, left)\n",
    "\n",
    "    return fwd(None)\n",
    "\n",
    "\n",
    "def associative_add(left, right):\n",
    "    if isinstance(right, Trm) and right.op is add:\n",
    "        (middle, right) = right.args\n",
    "        return add(add(left, middle), right)\n",
    "\n",
    "    return fwd(None)\n",
    "\n",
    "\n",
    "# Additional law, requirement for normalization\n",
    "# We could generalize this if we had an identity law as well\n",
    "def associative_commutative_add(left, right):\n",
    "    if isinstance(left, Trm) and left.op is add:\n",
    "        (left, middle) = left.args\n",
    "        if isinstance(middle, Var) and isinstance(right, Var):\n",
    "            mname = middle.symbol.name\n",
    "            rname = right.symbol.name\n",
    "            if mname > rname:\n",
    "                return add(add(left, right), middle)\n",
    "\n",
    "    return fwd(None)"
   ]
  },
  {
   "cell_type": "markdown",
   "id": "e5559c1b",
   "metadata": {
    "cell_marker": "\"\"\""
   },
   "source": [
    "These semantic functions take the algebraic laws we wrote earlier\n",
    "and turned them into rewrite rules. Namely, we move expressions\n",
    "into a normal form by:\n",
    "\n",
    "- moving constants to the left\n",
    "- rewriting variables in lexicographical order\n",
    "- Grouping towards the left\n",
    "\n",
    "We often call `add` recursively inside of our semantics functions.\n",
    "When we do this, we gain access not only to the current semantic function,\n",
    "but also those above us and below us in the `coproduct` stack.\n",
    "This lets us perform fixed-point computations, which iteratively work\n",
    "over an entire structure.\n",
    "\n",
    "When we install these rules, our test passes as expected: "
   ]
  },
  {
   "cell_type": "code",
   "execution_count": 13,
   "id": "e4922459",
   "metadata": {},
   "outputs": [],
   "source": [
    "add_stack = coproduct(\n",
    "    {add: free_add},\n",
    "    {add: eager_add},\n",
    "    {add: associative_commutative_add},\n",
    "    {add: commutative_add},\n",
    "    {add: associative_add},\n",
    ")\n",
    "\n",
    "with handler(add_stack):\n",
    "    test_adding_two_numbers()\n",
    "    test_adding_a_variable()\n",
    "    test_mixed_together()"
   ]
  }
 ],
 "metadata": {
  "jupytext": {
   "cell_metadata_filter": "-all",
   "main_language": "python",
   "notebook_metadata_filter": "-all"
  }
 },
 "nbformat": 4,
 "nbformat_minor": 5
}
